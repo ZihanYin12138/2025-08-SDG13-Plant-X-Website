{
 "cells": [
  {
   "cell_type": "markdown",
   "id": "777a94d1",
   "metadata": {},
   "source": [
    "# Import and Verify TSX Prediction Table (Table14) in MySQL\n",
    "\n",
    "Name: Zihan\n",
    "\n",
    "This notebook creates and imports the **TSX Prediction Table (Table14)** into the MySQL database.\n",
    "It includes three main steps:\n",
    "1. Create the table schema if not exists\n",
    "2. Import data from the CSV file\n",
    "3. Verify imported rows and preview sample data"
   ]
  },
  {
   "cell_type": "markdown",
   "id": "c5c4a20a",
   "metadata": {},
   "source": [
    "## Step 1 - Create Table14 Schema\n",
    "\n",
    "This step connects to the database and creates the table schema for `Table14_TSX_Table_VIC` if it doesn't already exist. The schema is defined based on the required data types for each column."
   ]
  },
  {
   "cell_type": "code",
   "execution_count": 4,
   "id": "930f1b7e",
   "metadata": {},
   "outputs": [
    {
     "name": "stdout",
     "output_type": "stream",
     "text": [
      "Successfully connected to MySQL server.\n",
      "Table14_TSX_Table_VIC schema created successfully.\n",
      "MySQL connection for creating Table14 schema closed.\n"
     ]
    }
   ],
   "source": [
    "import mysql.connector\n",
    "from mysql.connector import Error\n",
    "import pandas as pd\n",
    "\n",
    "# Database connection configuration (using the same credentials as your example)\n",
    "db_config = {\n",
    "    'host': 'database-plantx.cqz06uycysiz.us-east-1.rds.amazonaws.com',\n",
    "    'user': 'zihan',\n",
    "    'password': '2002317Yzh12138.',\n",
    "    'database': 'FIT5120_PlantX_Database',\n",
    "    'allow_local_infile': True,\n",
    "    'use_pure': True,\n",
    "    'charset': 'utf8mb4'\n",
    "}\n",
    "\n",
    "# Step 1 - Create Table14 schema if not exists\n",
    "try:\n",
    "    connection = mysql.connector.connect(**db_config)\n",
    "    if connection.is_connected():\n",
    "        print(\"Successfully connected to MySQL server.\")\n",
    "        cursor = connection.cursor()\n",
    "\n",
    "        create_table_14 = \"\"\"\n",
    "        CREATE TABLE IF NOT EXISTS Table14_TSX_Table_VIC (\n",
    "            year INT,\n",
    "            index_value DOUBLE,\n",
    "            value_type TEXT,\n",
    "            annual_mean_temp DOUBLE,\n",
    "            annual_precip_sum DOUBLE,\n",
    "            annual_radiation_sum DOUBLE,\n",
    "            state TEXT\n",
    "        ) CHARACTER SET utf8mb4 COLLATE utf8mb4_unicode_ci;\n",
    "        \"\"\"\n",
    "\n",
    "        cursor.execute(create_table_14)\n",
    "        connection.commit()\n",
    "        print(\"Table14_TSX_Table_VIC schema created successfully.\")\n",
    "\n",
    "except Error as e:\n",
    "    print(f\"Error occurred during creating Table14 schema: {e}\")\n",
    "\n",
    "finally:\n",
    "    if 'connection' in locals() and connection.is_connected():\n",
    "        cursor.close()\n",
    "        connection.close()\n",
    "        print(\"MySQL connection for creating Table14 schema closed.\")"
   ]
  },
  {
   "cell_type": "markdown",
   "id": "9419ca50",
   "metadata": {},
   "source": [
    "## Step 2 - Import Data into Table14\n",
    "\n",
    "This step uses the `LOAD DATA LOCAL INFILE` command to efficiently bulk-load the data from `Table14_TSX_Table_VIC_version4.csv` into the newly created MySQL table."
   ]
  },
  {
   "cell_type": "code",
   "execution_count": 5,
   "id": "fb847b2a",
   "metadata": {},
   "outputs": [
    {
     "name": "stdout",
     "output_type": "stream",
     "text": [
      "Connected for Table14 data import.\n",
      "Existing data in Table14_TSX_Table_VIC has been cleared.\n",
      "Table14 data import successful! 168 rows affected.\n",
      "MySQL connection for Table14 import closed.\n"
     ]
    }
   ],
   "source": [
    "try:\n",
    "    connection = mysql.connector.connect(**db_config)\n",
    "    if connection.is_connected():\n",
    "        print(\"Connected for Table14 data import.\")\n",
    "        cursor = connection.cursor()\n",
    "\n",
    "        # Before loading, let's clear the table to avoid duplicate entries on re-runs\n",
    "        cursor.execute(\"TRUNCATE TABLE Table14_TSX_Table_VIC\")\n",
    "        print(\"Existing data in Table14_TSX_Table_VIC has been cleared.\")\n",
    "\n",
    "        load_data_query_14 = f\"\"\"\n",
    "        LOAD DATA LOCAL INFILE 'Table14_TSX_Table_VIC_version4.csv'\n",
    "        INTO TABLE Table14_TSX_Table_VIC\n",
    "        CHARACTER SET utf8mb4\n",
    "        FIELDS TERMINATED BY ','\n",
    "        OPTIONALLY ENCLOSED BY '\"'\n",
    "        LINES TERMINATED BY '\\\\r\\\\n'\n",
    "        IGNORE 1 LINES\n",
    "        (\n",
    "            year,\n",
    "            index_value,\n",
    "            value_type,\n",
    "            annual_mean_temp,\n",
    "            annual_precip_sum,\n",
    "            annual_radiation_sum,\n",
    "            state\n",
    "        );\n",
    "        \"\"\"\n",
    "\n",
    "        cursor.execute(load_data_query_14)\n",
    "        connection.commit()\n",
    "        print(f\"Table14 data import successful! {cursor.rowcount} rows affected.\")\n",
    "\n",
    "except Error as e:\n",
    "    print(f\"Error occurred during Table14 import: {e}\")\n",
    "\n",
    "finally:\n",
    "    if 'connection' in locals() and connection.is_connected():\n",
    "        cursor.close()\n",
    "        connection.close()\n",
    "        print(\"MySQL connection for Table14 import closed.\")"
   ]
  },
  {
   "cell_type": "markdown",
   "id": "c4d9cb69",
   "metadata": {},
   "source": [
    "## Step 3 - Verify Imported Rows and Preview (Table14)\n",
    "\n",
    "This final step confirms that the data has been loaded correctly by counting the total number of rows in the table and displaying the first few entries for a visual check."
   ]
  },
  {
   "cell_type": "code",
   "execution_count": 6,
   "id": "fe1d06a6",
   "metadata": {},
   "outputs": [
    {
     "name": "stdout",
     "output_type": "stream",
     "text": [
      "Table14_TSX_Table_VIC currently contains 168 rows.\n",
      "\n",
      "--- Preview of first 5 rows from Table14 ---\n"
     ]
    },
    {
     "name": "stderr",
     "output_type": "stream",
     "text": [
      "C:\\Users\\zyyin1\\AppData\\Local\\Temp\\ipykernel_49472\\3809026224.py:14: UserWarning: pandas only supports SQLAlchemy connectable (engine/connection) or database string URI or sqlite3 DBAPI2 connection. Other DBAPI2 objects are not tested. Please consider using SQLAlchemy.\n",
      "  preview_df = pd.read_sql(query, connection)\n"
     ]
    },
    {
     "data": {
      "text/html": [
       "<div>\n",
       "<style scoped>\n",
       "    .dataframe tbody tr th:only-of-type {\n",
       "        vertical-align: middle;\n",
       "    }\n",
       "\n",
       "    .dataframe tbody tr th {\n",
       "        vertical-align: top;\n",
       "    }\n",
       "\n",
       "    .dataframe thead th {\n",
       "        text-align: right;\n",
       "    }\n",
       "</style>\n",
       "<table border=\"1\" class=\"dataframe\">\n",
       "  <thead>\n",
       "    <tr style=\"text-align: right;\">\n",
       "      <th></th>\n",
       "      <th>year</th>\n",
       "      <th>index_value</th>\n",
       "      <th>value_type</th>\n",
       "      <th>annual_mean_temp</th>\n",
       "      <th>annual_precip_sum</th>\n",
       "      <th>annual_radiation_sum</th>\n",
       "      <th>state</th>\n",
       "    </tr>\n",
       "  </thead>\n",
       "  <tbody>\n",
       "    <tr>\n",
       "      <th>0</th>\n",
       "      <td>2000</td>\n",
       "      <td>1.000000</td>\n",
       "      <td>Historical</td>\n",
       "      <td>14.757990</td>\n",
       "      <td>615.8</td>\n",
       "      <td>5848.0400</td>\n",
       "      <td>Victoria</td>\n",
       "    </tr>\n",
       "    <tr>\n",
       "      <th>1</th>\n",
       "      <td>2001</td>\n",
       "      <td>0.851265</td>\n",
       "      <td>Historical</td>\n",
       "      <td>14.526712</td>\n",
       "      <td>564.2</td>\n",
       "      <td>5662.2200</td>\n",
       "      <td>Victoria</td>\n",
       "    </tr>\n",
       "    <tr>\n",
       "      <th>2</th>\n",
       "      <td>2002</td>\n",
       "      <td>0.738937</td>\n",
       "      <td>Historical</td>\n",
       "      <td>14.698013</td>\n",
       "      <td>432.4</td>\n",
       "      <td>5789.7603</td>\n",
       "      <td>Victoria</td>\n",
       "    </tr>\n",
       "    <tr>\n",
       "      <th>3</th>\n",
       "      <td>2003</td>\n",
       "      <td>0.728083</td>\n",
       "      <td>Historical</td>\n",
       "      <td>14.443562</td>\n",
       "      <td>571.0</td>\n",
       "      <td>5895.1000</td>\n",
       "      <td>Victoria</td>\n",
       "    </tr>\n",
       "    <tr>\n",
       "      <th>4</th>\n",
       "      <td>2004</td>\n",
       "      <td>0.647233</td>\n",
       "      <td>Historical</td>\n",
       "      <td>14.277344</td>\n",
       "      <td>621.2</td>\n",
       "      <td>5806.9700</td>\n",
       "      <td>Victoria</td>\n",
       "    </tr>\n",
       "  </tbody>\n",
       "</table>\n",
       "</div>"
      ],
      "text/plain": [
       "   year  index_value  value_type  annual_mean_temp  annual_precip_sum  \\\n",
       "0  2000     1.000000  Historical         14.757990              615.8   \n",
       "1  2001     0.851265  Historical         14.526712              564.2   \n",
       "2  2002     0.738937  Historical         14.698013              432.4   \n",
       "3  2003     0.728083  Historical         14.443562              571.0   \n",
       "4  2004     0.647233  Historical         14.277344              621.2   \n",
       "\n",
       "   annual_radiation_sum     state  \n",
       "0             5848.0400  Victoria  \n",
       "1             5662.2200  Victoria  \n",
       "2             5789.7603  Victoria  \n",
       "3             5895.1000  Victoria  \n",
       "4             5806.9700  Victoria  "
      ]
     },
     "metadata": {},
     "output_type": "display_data"
    },
    {
     "name": "stdout",
     "output_type": "stream",
     "text": [
      "MySQL connection for Table14 verification closed.\n"
     ]
    }
   ],
   "source": [
    "try:\n",
    "    connection = mysql.connector.connect(**db_config)\n",
    "    if connection.is_connected():\n",
    "        cursor = connection.cursor()\n",
    "\n",
    "        # Count total rows\n",
    "        cursor.execute(\"SELECT COUNT(*) FROM Table14_TSX_Table_VIC\")\n",
    "        row_count = cursor.fetchone()[0]\n",
    "        print(f\"Table14_TSX_Table_VIC currently contains {row_count} rows.\")\n",
    "\n",
    "        # Preview first 5 rows using pandas for better formatting\n",
    "        print(\"\\n--- Preview of first 5 rows from Table14 ---\")\n",
    "        query = \"SELECT * FROM Table14_TSX_Table_VIC LIMIT 5\"\n",
    "        preview_df = pd.read_sql(query, connection)\n",
    "        display(preview_df)\n",
    "\n",
    "except Error as e:\n",
    "    print(f\"Error occurred during Table14 verification: {e}\")\n",
    "\n",
    "finally:\n",
    "    if 'connection' in locals() and connection.is_connected():\n",
    "        cursor.close()\n",
    "        connection.close()\n",
    "        print(\"MySQL connection for Table14 verification closed.\")"
   ]
  }
 ],
 "metadata": {
  "kernelspec": {
   "display_name": "python_for_data_analysis",
   "language": "python",
   "name": "python3"
  },
  "language_info": {
   "codemirror_mode": {
    "name": "ipython",
    "version": 3
   },
   "file_extension": ".py",
   "mimetype": "text/x-python",
   "name": "python",
   "nbconvert_exporter": "python",
   "pygments_lexer": "ipython3",
   "version": "3.10.16"
  }
 },
 "nbformat": 4,
 "nbformat_minor": 5
}
