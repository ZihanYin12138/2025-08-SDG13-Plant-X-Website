{
 "cells": [
  {
   "cell_type": "markdown",
   "metadata": {},
   "source": [
    "# 03 - Plant Species Hardiness Map — Data Pull Notebook\n",
    "\n",
    "Name: Zihan Yin\n",
    "\n",
    "This notebook downloads the hardiness map HTML for each plant species from Perenual’s API and saves one HTML file per species ID.\n",
    "It uses a single API key, polite pacing between requests, retry logic for temporary errors, and a “safe stop” when rate limits/quota are likely reached. It’s resume-friendly—existing files are skipped automatically.\n",
    "\n",
    "Before each time running, teammates can fetch from our github reporsitory first, then go through step 1 - 4, which means simply click \"Run All\" is enough."
   ]
  },
  {
   "cell_type": "markdown",
   "metadata": {},
   "source": [
    "## Step 1 - Configuration (range, output paths)\n",
    "\n"
   ]
  },
  {
   "cell_type": "markdown",
   "metadata": {},
   "source": [
    "Set the API key, the ID range to fetch, basic rate-limit settings, and where the HTML files will be saved."
   ]
  },
  {
   "cell_type": "code",
   "execution_count": 1,
   "metadata": {},
   "outputs": [
    {
     "name": "stdout",
     "output_type": "stream",
     "text": [
      "Key: ****b12090, Range: 1~3000, Output dir: /Users/klarissa/Documents/MASTERS/SEM3/FIT5120/Project/2025-08-SDG13-Plant-X-Website/01_data_wrangling/01_raw_data/03_hardiness_map\n"
     ]
    }
   ],
   "source": [
    "API_KEY = \"sk-hCEF68b0479a9ad5b12090\"   \n",
    "\n",
    "START_ID = 1\n",
    "END_ID   = 3000\n",
    "\n",
    "# Rate limiting & retries\n",
    "SLEEP_BETWEEN = 1\n",
    "MAX_RETRIES   = 5\n",
    "BACKOFF_BASE  = 1.6\n",
    "\n",
    "# Output directory & filename pattern\n",
    "from pathlib import Path\n",
    "OUT_DIR = Path(\"01_raw_data/03_hardiness_map\")\n",
    "FILENAME_PATTERN = \"plant_species_hardiness_map_{species_id}.html\"\n",
    "OUT_DIR.mkdir(parents=True, exist_ok=True)\n",
    "\n",
    "print(f\"Key: ****{API_KEY[-6:]}, Range: {START_ID}~{END_ID}, Output dir: {OUT_DIR.resolve()}\")"
   ]
  },
  {
   "cell_type": "markdown",
   "metadata": {},
   "source": [
    "## Step 2 - Some Small Helper Functions\n",
    "\n"
   ]
  },
  {
   "cell_type": "markdown",
   "metadata": {},
   "source": [
    "Minimal utilities for saving HTML and building file paths. Keeps things tidy and reusable."
   ]
  },
  {
   "cell_type": "code",
   "execution_count": 2,
   "metadata": {},
   "outputs": [],
   "source": [
    "import time\n",
    "import requests\n",
    "\n",
    "def save_html(path: Path, html_text: str):\n",
    "    # Make sure the parent folder exists, then write the HTML as UTF-8\n",
    "    path.parent.mkdir(parents=True, exist_ok=True)\n",
    "    path.write_text(html_text, encoding=\"utf-8\")\n",
    "\n",
    "def build_filepath(species_id: int) -> Path:\n",
    "    # One HTML file per species_id\n",
    "    return OUT_DIR / FILENAME_PATTERN.format(species_id=species_id)"
   ]
  },
  {
   "cell_type": "markdown",
   "metadata": {},
   "source": [
    "## Step 3 - Fetch one species (with retries & safe-stop)\n",
    "\n"
   ]
  },
  {
   "cell_type": "markdown",
   "metadata": {},
   "source": [
    "Calls the hardiness-map endpoint, handles 404s with a placeholder, retries on temporary errors with exponential backoff, and stops safely when repeated 429s or zero remaining quota are detected."
   ]
  },
  {
   "cell_type": "code",
   "execution_count": 3,
   "metadata": {},
   "outputs": [],
   "source": [
    "def fetch_species_hardiness_map_html(species_id: int, api_key: str) -> str | None:\n",
    "    \"\"\"\n",
    "    Success -> returns HTML as a string\n",
    "    404     -> returns a placeholder HTML comment\n",
    "    None    -> signals the main loop to stop (e.g., quota/IP limit, repeated 429, or x-ratelimit-remaining == 0)\n",
    "    \"\"\"\n",
    "    base_url = \"https://perenual.com/api/hardiness-map\"\n",
    "    params = {\"species_id\": species_id, \"size\": \"og\", \"key\": api_key}\n",
    "    attempt = 0\n",
    "    consecutive_429 = 0\n",
    "\n",
    "    while attempt <= MAX_RETRIES:\n",
    "        try:\n",
    "            resp = requests.get(\n",
    "                base_url,\n",
    "                params=params,\n",
    "                headers={\"accept\": \"text/html\"},\n",
    "                timeout=30\n",
    "            )\n",
    "\n",
    "            # check the remaining-quota hint if the server provides it\n",
    "            remaining = resp.headers.get(\"x-ratelimit-remaining\")\n",
    "            if remaining is not None:\n",
    "                try:\n",
    "                    if int(remaining) <= 0:\n",
    "                        print(f\"[ID {species_id}] x-ratelimit-remaining=0 → stopping safely (quota likely reached).\")\n",
    "                        return None\n",
    "                except ValueError:\n",
    "                    pass  # ignore if not an int\n",
    "\n",
    "            if resp.status_code == 200:\n",
    "                return resp.text\n",
    "\n",
    "            if resp.status_code == 404:\n",
    "                print(f\"[ID {species_id}] 404: no hardiness map for this species (saving a placeholder).\")\n",
    "                return f\"<!-- missing hardiness map for species_id={species_id} -->\"\n",
    "\n",
    "            if resp.status_code == 429:\n",
    "                # Three 429s in a row → probably quota/IP-level restriction, stop\n",
    "                consecutive_429 += 1\n",
    "                if consecutive_429 >= 3:\n",
    "                    print(f\"[ID {species_id}] 429 occurred {consecutive_429} times in a row → stopping safely (rate/IP limit).\")\n",
    "                    return None\n",
    "                wait = (BACKOFF_BASE ** attempt) + 0.2 * attempt\n",
    "                print(f\"[ID {species_id}] 429 Too Many Requests — waiting {wait:.1f}s before retrying…\")\n",
    "                time.sleep(wait)\n",
    "                attempt += 1\n",
    "                continue\n",
    "\n",
    "            if resp.status_code in (500, 502, 503, 504):\n",
    "                wait = (BACKOFF_BASE ** attempt) + 0.2 * attempt\n",
    "                print(f\"[ID {species_id}] {resp.status_code} server error — waiting {wait:.1f}s then retrying…\")\n",
    "                time.sleep(wait)\n",
    "                attempt += 1\n",
    "                continue\n",
    "            \n",
    "            # For other unexpected status codes, log a short snippet for context\n",
    "            print(f\"[ID {species_id}] HTTP {resp.status_code}: {resp.text[:200]}\")\n",
    "            return f\"<!-- error status={resp.status_code} for species_id={species_id} -->\"\n",
    "\n",
    "        except requests.RequestException as e:\n",
    "            wait = (BACKOFF_BASE ** attempt) + 0.2 * attempt\n",
    "            print(f\"[ID {species_id}] Network error {type(e).__name__}: {e}. Waiting {wait:.1f}s then retrying…\")\n",
    "            time.sleep(wait)\n",
    "            attempt += 1\n",
    "\n",
    "    print(f\"[ID {species_id}] Retries exhausted. Skipping this one.\")\n",
    "    return f\"<!-- retries exhausted for species_id={species_id} -->\""
   ]
  },
  {
   "cell_type": "markdown",
   "metadata": {},
   "source": [
    "## Step 4 - Main loop (resume-friendly, skips existing files)\n",
    "\n"
   ]
  },
  {
   "cell_type": "markdown",
   "metadata": {},
   "source": [
    "Iterates through the ID range, skips files that already exist, adds a little random jitter between requests, and safely stops when the fetcher returns None."
   ]
  },
  {
   "cell_type": "code",
   "execution_count": 4,
   "metadata": {},
   "outputs": [
    {
     "data": {
      "application/vnd.jupyter.widget-view+json": {
       "model_id": "e6249bba72fb40f587af4feccd0c5009",
       "version_major": 2,
       "version_minor": 0
      },
      "text/plain": [
       "Downloading Hardiness Maps:   0%|          | 0/3000 [00:00<?, ?it/s]"
      ]
     },
     "metadata": {},
     "output_type": "display_data"
    },
    {
     "name": "stdout",
     "output_type": "stream",
     "text": [
      "[ID 1188] x-ratelimit-remaining=0 → stopping safely (quota likely reached).\n",
      "Quota/rate-limit inferred → stopping safely.\n",
      "New downloads: 99, skipped (already exists): 1088. Output dir: /Users/klarissa/Documents/MASTERS/SEM3/FIT5120/Project/2025-08-SDG13-Plant-X-Website/01_data_wrangling/01_raw_data/03_hardiness_map\n"
     ]
    }
   ],
   "source": [
    "from tqdm.auto import tqdm\n",
    "import random\n",
    "\n",
    "downloaded = 0\n",
    "skipped = 0\n",
    "\n",
    "for species_id in tqdm(range(START_ID, END_ID + 1), desc=\"Downloading Hardiness Maps\"):\n",
    "    fp = build_filepath(species_id)\n",
    "    if fp.exists():\n",
    "        skipped += 1\n",
    "        continue\n",
    "\n",
    "    html_text = fetch_species_hardiness_map_html(species_id, API_KEY)\n",
    "    if html_text is None:\n",
    "        print(\"Quota/rate-limit inferred → stopping safely.\")\n",
    "        break\n",
    "\n",
    "    save_html(fp, html_text)\n",
    "    downloaded += 1\n",
    "    \n",
    "    # Small random jitter helps avoid synchronized spikes\n",
    "    time.sleep(SLEEP_BETWEEN + random.uniform(0.0, 0.6))\n",
    "\n",
    "print(f\"New downloads: {downloaded}, skipped (already exists): {skipped}. Output dir: {OUT_DIR.resolve()}\")"
   ]
  },
  {
   "cell_type": "markdown",
   "metadata": {},
   "source": [
    "## Step 5 (Optional) - Pack and download as a zip (for Colab)\n",
    "\n"
   ]
  },
  {
   "cell_type": "markdown",
   "metadata": {},
   "source": [
    "When running on Google Colab, zip the output folder and download it. On a local machine, a file manager is easier."
   ]
  },
  {
   "cell_type": "code",
   "execution_count": 5,
   "metadata": {},
   "outputs": [],
   "source": [
    "# import shutil\n",
    "# from google.colab import files\n",
    "#\n",
    "# shutil.make_archive(\"03_species_hardiness_map\", 'zip', \"01_raw_data/03_hardiness_map\")\n",
    "# files.download(\"03_species_hardiness_map.zip\")"
   ]
  }
 ],
 "metadata": {
  "kernelspec": {
   "display_name": "base",
   "language": "python",
   "name": "python3"
  },
  "language_info": {
   "codemirror_mode": {
    "name": "ipython",
    "version": 3
   },
   "file_extension": ".py",
   "mimetype": "text/x-python",
   "name": "python",
   "nbconvert_exporter": "python",
   "pygments_lexer": "ipython3",
   "version": "3.12.2"
  },
  "orig_nbformat": 4
 },
 "nbformat": 4,
 "nbformat_minor": 2
}
