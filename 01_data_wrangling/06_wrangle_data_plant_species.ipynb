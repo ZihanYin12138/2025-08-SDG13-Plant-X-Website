{
 "cells": [
  {
   "cell_type": "code",
   "execution_count": 10,
   "id": "698126d6",
   "metadata": {},
   "outputs": [],
   "source": [
    "import os\n",
    "import json\n",
    "import pandas as pd\n",
    "from glob import glob\n",
    "\n",
    "# Define input and output paths\n",
    "input_dir = \"01_raw_data/01_species_details\"\n",
    "output_path = \"02_wrangled_data/01_species_details_cleaned.csv\"\n"
   ]
  },
  {
   "cell_type": "code",
   "execution_count": 11,
   "id": "5f5d3c8f",
   "metadata": {},
   "outputs": [],
   "source": [
    "# Load all JSON files\n",
    "json_files = glob(os.path.join(input_dir, \"plant_species_details_*.json\"))\n"
   ]
  },
  {
   "cell_type": "code",
   "execution_count": 19,
   "id": "95bf1dc8",
   "metadata": {},
   "outputs": [],
   "source": [
    "# Flatten each JSON record\n",
    "def safe_get(d, key, default=None):\n",
    "    return d[key] if isinstance(d, dict) and key in d else default\n",
    "\n",
    "def flatten_plant_data(data):\n",
    "    return {\n",
    "        \"plant_id\": data.get(\"id\"),\n",
    "        \"common_name\": data.get(\"common_name\"),\n",
    "        \"scientific_name\": \", \".join(data.get(\"scientific_name\", [])),\n",
    "        \"other_name\": \", \".join(data.get(\"other_name\", [])),\n",
    "        \"if_threatened\": False,\n",
    "        \"if_edible\": data.get(\"edible_fruit\", False) or data.get(\"edible_leaf\", False),\n",
    "        \"if_indoors\": data.get(\"indoor\", False),\n",
    "        \"if_medicinal\": data.get(\"medicinal\", False),\n",
    "        \"if_poisonous\": data.get(\"poisonous_to_humans\", False) or data.get(\"poisonous_to_pets\", False),\n",
    "        \"if_fruits\": data.get(\"fruits\", False),\n",
    "        \"if_flowers\": data.get(\"flowers\", False),\n",
    "        \"sun_expose\": \", \".join(data.get(\"sunlight\", [])),\n",
    "        \"watering\": data.get(\"watering\"),\n",
    "        \"plant_cycle\": data.get(\"cycle\"),\n",
    "        \"growth_rate\": data.get(\"growth_rate\")\n",
    "    }\n",
    "    \n"
   ]
  },
  {
   "cell_type": "code",
   "execution_count": 20,
   "id": "28845b89",
   "metadata": {},
   "outputs": [],
   "source": [
    "# Aggregate all flattened records\n",
    "flattened_data = []\n",
    "for file in json_files:\n",
    "    with open(file, \"r\", encoding=\"utf-8\") as f:\n",
    "        data = json.load(f)\n",
    "        flattened_data.append(flatten_plant_data(data))\n",
    "\n"
   ]
  },
  {
   "cell_type": "code",
   "execution_count": 21,
   "id": "1ffe030c",
   "metadata": {},
   "outputs": [],
   "source": [
    "# Create DataFrame and sort\n",
    "df = pd.DataFrame(flattened_data)\n",
    "df = df.sort_values(by=\"plant_id\").reset_index(drop=True)\n",
    "\n",
    "# Add foreign keys\n",
    "df[\"general_plant_id\"] = df[\"plant_id\"]\n",
    "df[\"threatened_plant_id\"] = df[\"plant_id\"]\n",
    "\n",
    "# Reorder columns\n",
    "ordered_cols = [\n",
    "    \"plant_id\", \"general_plant_id\", \"threatened_plant_id\",\n",
    "    \"common_name\", \"scientific_name\", \"other_name\",\n",
    "    \"if_threatened\", \"if_edible\", \"if_indoors\", \"if_medicinal\",\n",
    "    \"if_poisonous\", \"if_fruits\", \"if_flowers\",\n",
    "    \"sun_expose\", \"watering\", \"plant_cycle\", \"growth_rate\"\n",
    "]\n",
    "df = df[ordered_cols]\n",
    "\n",
    "# Save to CSV\n",
    "os.makedirs(os.path.dirname(output_path), exist_ok=True)\n",
    "df.to_csv(output_path, index=False)"
   ]
  }
 ],
 "metadata": {
  "kernelspec": {
   "display_name": "base",
   "language": "python",
   "name": "python3"
  },
  "language_info": {
   "codemirror_mode": {
    "name": "ipython",
    "version": 3
   },
   "file_extension": ".py",
   "mimetype": "text/x-python",
   "name": "python",
   "nbconvert_exporter": "python",
   "pygments_lexer": "ipython3",
   "version": "3.12.2"
  }
 },
 "nbformat": 4,
 "nbformat_minor": 5
}
