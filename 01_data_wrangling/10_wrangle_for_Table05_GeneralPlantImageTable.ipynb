{
 "cells": [
  {
   "cell_type": "markdown",
   "metadata": {},
   "source": [
    "# General Plant Image Table Assembly and Database Import\n",
    "\n",
    "Name: Zihan"
   ]
  },
  {
   "cell_type": "markdown",
   "metadata": {},
   "source": [
    "## Step 1 - Imports and Path Setup"
   ]
  },
  {
   "cell_type": "code",
   "execution_count": 14,
   "metadata": {},
   "outputs": [],
   "source": [
    "import os\n",
    "import json\n",
    "import pandas as pd\n",
    "from glob import glob\n",
    "\n",
    "# Paths\n",
    "details_dir = \"01_raw_data/01_species_details\"\n",
    "output_path = \"02_wrangled_data/Table05_GeneralPlantImageTable.csv\""
   ]
  },
  {
   "cell_type": "markdown",
   "metadata": {},
   "source": [
    "## Step 2 - Load Species Details and Extract Image URLs"
   ]
  },
  {
   "cell_type": "code",
   "execution_count": 15,
   "metadata": {},
   "outputs": [],
   "source": [
    "# Get all species detail JSON files\n",
    "detail_files = glob(os.path.join(details_dir, \"plant_species_details_*.json\"))\n",
    "\n",
    "records = []\n",
    "for file in detail_files:\n",
    "    with open(file, \"r\", encoding=\"utf-8\") as f:\n",
    "        details = json.load(f)\n",
    "    \n",
    "    plant_id = details.get(\"id\")\n",
    "    \n",
    "    # Skip threatened plants (ID > 3000)\n",
    "    if plant_id > 3000:\n",
    "        continue\n",
    "    \n",
    "    # Extract image URLs\n",
    "    default_image = details.get(\"default_image\", {})\n",
    "    regular_url = default_image.get(\"regular_url\", \"\") if default_image else \"\"\n",
    "    thumbnail_url = default_image.get(\"thumbnail\", \"\") if default_image else \"\"\n",
    "    \n",
    "    records.append({\n",
    "        \"general_plant_id\": plant_id,\n",
    "        \"regular_url_image\": regular_url,\n",
    "        \"thumbnail_image\": thumbnail_url\n",
    "    })"
   ]
  },
  {
   "cell_type": "markdown",
   "metadata": {},
   "source": [
    "## Step 3 - Create DataFrame"
   ]
  },
  {
   "cell_type": "code",
   "execution_count": 16,
   "metadata": {},
   "outputs": [
    {
     "name": "stdout",
     "output_type": "stream",
     "text": [
      "DataFrame created successfully. Preview:\n"
     ]
    },
    {
     "data": {
      "text/html": [
       "<div>\n",
       "<style scoped>\n",
       "    .dataframe tbody tr th:only-of-type {\n",
       "        vertical-align: middle;\n",
       "    }\n",
       "\n",
       "    .dataframe tbody tr th {\n",
       "        vertical-align: top;\n",
       "    }\n",
       "\n",
       "    .dataframe thead th {\n",
       "        text-align: right;\n",
       "    }\n",
       "</style>\n",
       "<table border=\"1\" class=\"dataframe\">\n",
       "  <thead>\n",
       "    <tr style=\"text-align: right;\">\n",
       "      <th></th>\n",
       "      <th>general_plant_id</th>\n",
       "      <th>regular_url_image</th>\n",
       "      <th>thumbnail_image</th>\n",
       "    </tr>\n",
       "  </thead>\n",
       "  <tbody>\n",
       "    <tr>\n",
       "      <th>0</th>\n",
       "      <td>1</td>\n",
       "      <td>https://perenual.com/storage/species_image/1_a...</td>\n",
       "      <td>https://perenual.com/storage/species_image/1_a...</td>\n",
       "    </tr>\n",
       "    <tr>\n",
       "      <th>1</th>\n",
       "      <td>2</td>\n",
       "      <td>https://perenual.com/storage/species_image/2_a...</td>\n",
       "      <td>https://perenual.com/storage/species_image/2_a...</td>\n",
       "    </tr>\n",
       "    <tr>\n",
       "      <th>2</th>\n",
       "      <td>3</td>\n",
       "      <td>https://perenual.com/storage/species_image/3_a...</td>\n",
       "      <td>https://perenual.com/storage/species_image/3_a...</td>\n",
       "    </tr>\n",
       "    <tr>\n",
       "      <th>3</th>\n",
       "      <td>4</td>\n",
       "      <td>https://perenual.com/storage/species_image/4_a...</td>\n",
       "      <td>https://perenual.com/storage/species_image/4_a...</td>\n",
       "    </tr>\n",
       "    <tr>\n",
       "      <th>4</th>\n",
       "      <td>5</td>\n",
       "      <td>https://perenual.com/storage/species_image/5_a...</td>\n",
       "      <td>https://perenual.com/storage/species_image/5_a...</td>\n",
       "    </tr>\n",
       "  </tbody>\n",
       "</table>\n",
       "</div>"
      ],
      "text/plain": [
       "   general_plant_id                                  regular_url_image  \\\n",
       "0                 1  https://perenual.com/storage/species_image/1_a...   \n",
       "1                 2  https://perenual.com/storage/species_image/2_a...   \n",
       "2                 3  https://perenual.com/storage/species_image/3_a...   \n",
       "3                 4  https://perenual.com/storage/species_image/4_a...   \n",
       "4                 5  https://perenual.com/storage/species_image/5_a...   \n",
       "\n",
       "                                     thumbnail_image  \n",
       "0  https://perenual.com/storage/species_image/1_a...  \n",
       "1  https://perenual.com/storage/species_image/2_a...  \n",
       "2  https://perenual.com/storage/species_image/3_a...  \n",
       "3  https://perenual.com/storage/species_image/4_a...  \n",
       "4  https://perenual.com/storage/species_image/5_a...  "
      ]
     },
     "metadata": {},
     "output_type": "display_data"
    }
   ],
   "source": [
    "# Convert the list of records into a pandas DataFrame\n",
    "df = pd.DataFrame(records)\n",
    "\n",
    "# Sort by plant ID for consistency\n",
    "df = df.sort_values(by=\"general_plant_id\").reset_index(drop=True)\n",
    "\n",
    "print(\"DataFrame created successfully. Preview:\")\n",
    "display(df.head())"
   ]
  },
  {
   "cell_type": "markdown",
   "metadata": {},
   "source": [
    "## Step 4 - Save DataFrame to CSV"
   ]
  },
  {
   "cell_type": "code",
   "execution_count": 17,
   "metadata": {},
   "outputs": [
    {
     "name": "stdout",
     "output_type": "stream",
     "text": [
      "Data successfully saved to 02_wrangled_data/Table05_GeneralPlantImageTable.csv\n"
     ]
    }
   ],
   "source": [
    "# Create the output directory if it doesn't exist\n",
    "os.makedirs(os.path.dirname(output_path), exist_ok=True)\n",
    "\n",
    "# Save the DataFrame to the specified CSV file path\n",
    "df.to_csv(output_path, index=False)\n",
    "\n",
    "print(f\"Data successfully saved to {output_path}\")"
   ]
  },
  {
   "cell_type": "markdown",
   "metadata": {},
   "source": [
    "## Step 5 - Verify Line Endings"
   ]
  },
  {
   "cell_type": "code",
   "execution_count": 18,
   "metadata": {},
   "outputs": [
    {
     "name": "stdout",
     "output_type": "stream",
     "text": [
      "CSV uses CRLF (\\r\\n) line endings\n"
     ]
    }
   ],
   "source": [
    "with open(output_path, 'rb') as f:\n",
    "    content = f.read(200)  # Read first 200 bytes\n",
    "    \n",
    "if b'\\r\\n' in content:\n",
    "    print(\"CSV uses CRLF (\\\\r\\\\n) line endings\")\n",
    "else:\n",
    "    print(\"CSV does not use CRLF line endings\")"
   ]
  },
  {
   "cell_type": "markdown",
   "metadata": {},
   "source": [
    "## Step 6 - Import Image Table into MySQL"
   ]
  },
  {
   "cell_type": "code",
   "execution_count": 19,
   "metadata": {},
   "outputs": [
    {
     "name": "stdout",
     "output_type": "stream",
     "text": [
      "Successfully connected to MySQL server\n",
      "Data import successful! 891 rows affected.\n",
      "MySQL connection closed.\n"
     ]
    }
   ],
   "source": [
    "import mysql.connector\n",
    "from mysql.connector import Error\n",
    "\n",
    "# Database connection configuration\n",
    "db_config = {\n",
    "    'host': 'database-plantx.cqz06uycysiz.us-east-1.rds.amazonaws.com',\n",
    "    'user': 'zihan',\n",
    "    'password': '2002317Yzh12138.',\n",
    "    'database': 'FIT5120_PlantX_Database',\n",
    "    'allow_local_infile': True,\n",
    "    'use_pure': True  # Use pure Python implementation\n",
    "}\n",
    "\n",
    "try:\n",
    "    # Establish connection\n",
    "    connection = mysql.connector.connect(**db_config)\n",
    "    \n",
    "    if connection.is_connected():\n",
    "        print(\"Successfully connected to MySQL server\")\n",
    "        \n",
    "        # Create cursor\n",
    "        cursor = connection.cursor()\n",
    "        \n",
    "        # Construct LOAD DATA LOCAL INFILE command\n",
    "        load_data_query = \"\"\"\n",
    "        LOAD DATA LOCAL INFILE '02_wrangled_data/Table05_GeneralPlantImageTable.csv'\n",
    "        INTO TABLE Table05_GeneralPlantImageTable\n",
    "        CHARACTER SET utf8mb4\n",
    "        FIELDS TERMINATED BY ',' \n",
    "        OPTIONALLY ENCLOSED BY '\"'\n",
    "        LINES TERMINATED BY '\\\\r\\\\n'\n",
    "        IGNORE 1 LINES\n",
    "        (   \n",
    "            general_plant_id, regular_url_image, thumbnail_image\n",
    "        );\n",
    "        \"\"\"\n",
    "        \n",
    "        # Execute command\n",
    "        cursor.execute(load_data_query)\n",
    "        connection.commit()  # Commit transaction\n",
    "        \n",
    "        print(f\"Data import successful! {cursor.rowcount} rows affected.\")\n",
    "        \n",
    "except Error as e:\n",
    "    print(f\"Error occurred during execution: {e}\")\n",
    "    \n",
    "finally:\n",
    "    # Close connection\n",
    "    if connection.is_connected():\n",
    "        cursor.close()\n",
    "        connection.close()\n",
    "        print(\"MySQL connection closed.\")"
   ]
  },
  {
   "cell_type": "markdown",
   "metadata": {},
   "source": [
    "## Step 7 - Verify Imported Rows and Preview"
   ]
  },
  {
   "cell_type": "code",
   "execution_count": 20,
   "metadata": {},
   "outputs": [
    {
     "name": "stdout",
     "output_type": "stream",
     "text": [
      "The table currently contains 1484 rows\n",
      "(1, 'https://perenual.com/storage/species_image/1_abies_alba/regular/1536px-Abies_alba_SkalitC3A9.jpg', 'https://perenual.com/storage/species_image/1_abies_alba/thumbnail/1536px-Abies_alba_SkalitC3A9.jpg')\n",
      "(2, 'https://perenual.com/storage/species_image/2_abies_alba_pyramidalis/regular/49255769768_df55596553_b.jpg', 'https://perenual.com/storage/species_image/2_abies_alba_pyramidalis/thumbnail/49255769768_df55596553_b.jpg')\n",
      "(3, 'https://perenual.com/storage/species_image/3_abies_concolor/regular/52292935430_f4f3b22614_b.jpg', 'https://perenual.com/storage/species_image/3_abies_concolor/thumbnail/52292935430_f4f3b22614_b.jpg')\n",
      "(4, 'https://perenual.com/storage/species_image/4_abies_concolor_candicans/regular/49283844888_332c9e46f2_b.jpg', 'https://perenual.com/storage/species_image/4_abies_concolor_candicans/thumbnail/49283844888_332c9e46f2_b.jpg')\n",
      "(5, 'https://perenual.com/storage/species_image/5_abies_fraseri/regular/36843539702_e80fc436e0_b.jpg', 'https://perenual.com/storage/species_image/5_abies_fraseri/thumbnail/36843539702_e80fc436e0_b.jpg')\n"
     ]
    }
   ],
   "source": [
    "# In the same connection session, or in a new one\n",
    "try:\n",
    "    connection = mysql.connector.connect(**db_config)\n",
    "    cursor = connection.cursor()\n",
    "    \n",
    "    cursor.execute(\"SELECT COUNT(*) FROM Table05_GeneralPlantImageTable\")\n",
    "    row_count = cursor.fetchone()[0]\n",
    "    print(f\"The table currently contains {row_count} rows\")\n",
    "    \n",
    "    # Preview first few rows\n",
    "    cursor.execute(\"SELECT * FROM Table05_GeneralPlantImageTable LIMIT 5\")\n",
    "    rows = cursor.fetchall()\n",
    "    for row in rows:\n",
    "        print(row)\n",
    "        \n",
    "except Error as e:\n",
    "    print(f\"Error occurred during query: {e}\")\n",
    "finally:\n",
    "    if connection.is_connected():\n",
    "        cursor.close()\n",
    "        connection.close()"
   ]
  },
  {
   "cell_type": "markdown",
   "metadata": {},
   "source": [
    "## Step 8 - Download Thumbnails"
   ]
  },
  {
   "cell_type": "code",
   "execution_count": null,
   "metadata": {},
   "outputs": [],
   "source": [
    "import os\n",
    "import pandas as pd\n",
    "import requests\n",
    "import time\n",
    "from pathlib import Path\n",
    "\n",
    "# Paths\n",
    "csv_path = \"02_wrangled_data/Table05_GeneralPlantImageTable.csv\"\n",
    "output_dir = \"01_raw_data/05_thumbnail_image\"\n",
    "\n",
    "# Create output directory if not exists\n",
    "os.makedirs(output_dir, exist_ok=True)\n",
    "\n",
    "# Read CSV\n",
    "df = pd.read_csv(csv_path)\n",
    "\n",
    "# Counters\n",
    "success_count = 0\n",
    "fail_count = 0\n",
    "\n",
    "print(f\"Starting download of {len(df)} thumbnails...\")\n",
    "\n",
    "for index, row in df.iterrows():\n",
    "    plant_id = row['general_plant_id']\n",
    "    thumbnail_url = row['thumbnail_image']\n",
    "    \n",
    "    # Skip empty URLs\n",
    "    if pd.isna(thumbnail_url) or not thumbnail_url:\n",
    "        print(f\"Skipping plant ID {plant_id}: empty thumbnail URL\")\n",
    "        fail_count += 1\n",
    "        continue\n",
    "    \n",
    "    # Build filename\n",
    "    filename = f\"plant_species_thumbnail_image_{plant_id}.jpg\"\n",
    "    filepath = os.path.join(output_dir, filename)\n",
    "    \n",
    "    # Skip if file already exists\n",
    "    if os.path.exists(filepath):\n",
    "        # print(f\"Skipping plant ID {plant_id}: file already exists\")\n",
    "        success_count += 1\n",
    "        continue\n",
    "    \n",
    "    try:\n",
    "        # Directly request the image\n",
    "        response = requests.get(thumbnail_url, timeout=30)\n",
    "        response.raise_for_status()\n",
    "        \n",
    "        # Save image\n",
    "        with open(filepath, 'wb') as f:\n",
    "            f.write(response.content)\n",
    "        \n",
    "        # print(f\"Successfully downloaded thumbnail for plant ID {plant_id}\")\n",
    "        success_count += 1\n",
    "        \n",
    "        time.sleep(0.1)  # Short delay to avoid too many rapid requests\n",
    "        \n",
    "    except requests.exceptions.RequestException as e:\n",
    "        print(f\"Failed to download thumbnail for plant ID {plant_id}: {e}\")\n",
    "        fail_count += 1\n",
    "    except Exception as e:\n",
    "        print(f\"Error while processing plant ID {plant_id}: {e}\")\n",
    "        fail_count += 1\n",
    "\n",
    "print(f\"\\nDownload complete! Success: {success_count}, Failures: {fail_count}\")\n",
    "\n",
    "# Verify file count\n",
    "downloaded_files = list(Path(output_dir).glob(\"plant_species_thumbnail_image_*.jpg\"))\n",
    "print(f\"There are {len(downloaded_files)} files in the thumbnail folder\")"
   ]
  }
 ],
 "metadata": {
  "kernelspec": {
   "display_name": "python_for_data_analysis",
   "language": "python",
   "name": "python3"
  },
  "language_info": {
   "codemirror_mode": {
    "name": "ipython",
    "version": 3
   },
   "file_extension": ".py",
   "mimetype": "text/x-python",
   "name": "python",
   "nbconvert_exporter": "python",
   "pygments_lexer": "ipython3",
   "version": "3.10.16"
  },
  "orig_nbformat": 4
 },
 "nbformat": 4,
 "nbformat_minor": 2
}
