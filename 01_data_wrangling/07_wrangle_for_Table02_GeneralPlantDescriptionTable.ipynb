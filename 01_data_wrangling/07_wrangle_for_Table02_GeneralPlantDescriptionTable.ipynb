{
 "cells": [
  {
   "cell_type": "code",
   "execution_count": 5,
   "id": "dcc07d6a",
   "metadata": {},
   "outputs": [],
   "source": [
    "import os\n",
    "import json\n",
    "import pandas as pd\n",
    "from glob import glob\n",
    "\n",
    "# Paths\n",
    "input_dir = \"01_raw_data/01_species_details\"\n",
    "output_path = \"02_wrangled_data/Table02_GeneralPlantDescriptionTable.csv\""
   ]
  },
  {
   "cell_type": "code",
   "execution_count": 6,
   "id": "3ecc7d15",
   "metadata": {},
   "outputs": [],
   "source": [
    "# Cycle label mapping\n",
    "cycle_map = {\n",
    "    \"Perennial\": \"Every year\",\n",
    "    \"Annual\": \"Once a year\",\n",
    "    \"Biennial\": \"Every 2 years\"\n",
    "}\n",
    "\n",
    "# Flatten general plant record\n",
    "def flatten_general_description(data):\n",
    "    plant_id = data.get(\"id\")\n",
    "    if plant_id > 3000:\n",
    "        return None  # Skip threatened plants\n",
    "\n",
    "    return {\n",
    "        \"general_plant_id\": plant_id,\n",
    "        \"if_edible\": data.get(\"edible_fruit\", False) or data.get(\"edible_leaf\", False) or data.get(\"cuisine\", False),\n",
    "        \"if_indoors\": data.get(\"indoor\", False),\n",
    "        \"if_medicinal\": data.get(\"medicinal\", False),\n",
    "        \"if_poisonous\": data.get(\"poisonous_to_humans\", False) or data.get(\"poisonous_to_pets\", False),\n",
    "        \"if_fruits\": data.get(\"fruits\", False),\n",
    "        \"if_flowers\": data.get(\"flowers\", False),\n",
    "        \"plant_type\": data.get(\"type\"),\n",
    "        \"plant_cycle\": cycle_map.get(data.get(\"cycle\"), data.get(\"cycle\")),\n",
    "        \"attracts\": json.dumps(data.get(\"attracts\", []), ensure_ascii=False), # Change a little bit to fit MySQL Workbench\n",
    "        \"propagation\": json.dumps(data.get(\"propagation\", []), ensure_ascii=False),  # Change a little bit to fit MySQL Workbench\n",
    "        \"description\": data.get(\"description\")\n",
    "    }"
   ]
  },
  {
   "cell_type": "code",
   "execution_count": 7,
   "id": "b849ef13",
   "metadata": {},
   "outputs": [],
   "source": [
    "# Load and flatten JSON file\n",
    "json_files = glob(os.path.join(input_dir, \"plant_species_details_*.json\"))\n",
    "flattened_data = []\n",
    "\n",
    "for file in json_files:\n",
    "    with open(file, \"r\", encoding=\"utf-8\") as f:\n",
    "        data = json.load(f)\n",
    "        record = flatten_general_description(data)\n",
    "        if record:\n",
    "            flattened_data.append(record)"
   ]
  },
  {
   "cell_type": "code",
   "execution_count": 8,
   "id": "c89b37cc",
   "metadata": {},
   "outputs": [],
   "source": [
    "# Create DataFrame and sort\n",
    "df = pd.DataFrame(flattened_data)\n",
    "df = df.sort_values(by=\"general_plant_id\").reset_index(drop=True)\n",
    "\n",
    "df[\"general_plant_id\"] = pd.to_numeric(df[\"general_plant_id\"], errors=\"coerce\").astype(\"Int64\")\n",
    "\n",
    "ordered_cols = [\n",
    "    \"general_plant_id\", \"if_edible\", \"if_indoors\", \"if_medicinal\", \"if_poisonous\",\n",
    "    \"if_fruits\", \"if_flowers\", \"plant_type\", \"plant_cycle\",\n",
    "    \"attracts\", \"propagation\", \"description\"\n",
    "]\n",
    "df = df[ordered_cols]\n",
    "\n",
    "os.makedirs(os.path.dirname(output_path), exist_ok=True)\n",
    "df.to_csv(output_path, index=False)"
   ]
  },
  {
   "cell_type": "markdown",
   "id": "b086bcee",
   "metadata": {},
   "source": [
    "## 执行 LOAD DATA LOCAL INFILE 命令上传到数据库"
   ]
  },
  {
   "cell_type": "code",
   "execution_count": 9,
   "id": "47c6607a",
   "metadata": {},
   "outputs": [
    {
     "name": "stdout",
     "output_type": "stream",
     "text": [
      "成功连接到 MySQL 服务器\n",
      "数据导入成功！影响了 485 行。\n",
      "MySQL 连接已关闭。\n"
     ]
    }
   ],
   "source": [
    "import mysql.connector\n",
    "from mysql.connector import Error\n",
    "\n",
    "# 数据库连接配置\n",
    "db_config = {\n",
    "    'host': 'database-plantx.cqz06uycysiz.us-east-1.rds.amazonaws.com',\n",
    "    'user': 'zihan',\n",
    "    'password': '2002317Yzh12138.',\n",
    "    'database': 'FIT5120_PlantX_Database',\n",
    "    'allow_local_infile': True,\n",
    "    'use_pure': True  # 使用纯Python实现\n",
    "}\n",
    "\n",
    "try:\n",
    "    # 建立连接\n",
    "    connection = mysql.connector.connect(**db_config)\n",
    "    \n",
    "    if connection.is_connected():\n",
    "        print(\"成功连接到 MySQL 服务器\")\n",
    "        \n",
    "        # 创建游标\n",
    "        cursor = connection.cursor()\n",
    "        \n",
    "        # 构建 LOAD DATA LOCAL INFILE 命令\n",
    "        # 注意：请将下面的文件路径替换为你实际的CSV文件路径\n",
    "        load_data_query = \"\"\"\n",
    "        LOAD DATA LOCAL INFILE '02_wrangled_data/Table02_GeneralPlantDescriptionTable.csv'\n",
    "        INTO TABLE Table02_GeneralPlantDescriptionTable\n",
    "        CHARACTER SET utf8mb4\n",
    "        FIELDS TERMINATED BY ',' \n",
    "        OPTIONALLY ENCLOSED BY '\"'\n",
    "        LINES TERMINATED BY '\\\\r\\\\n'\n",
    "        IGNORE 1 LINES\n",
    "        (   \n",
    "            general_plant_id, if_edible, if_indoors, if_medicinal, if_poisonous,\n",
    "            if_fruits, if_flowers, plant_type, plant_cycle, attracts, propagation,\n",
    "            description\n",
    "        );\n",
    "        \"\"\"\n",
    "        \n",
    "        # 执行命令\n",
    "        cursor.execute(load_data_query)\n",
    "        connection.commit()  # 提交事务\n",
    "        \n",
    "        print(f\"数据导入成功！影响了 {cursor.rowcount} 行。\")\n",
    "        \n",
    "except Error as e:\n",
    "    print(f\"执行过程中发生错误：{e}\")\n",
    "    \n",
    "finally:\n",
    "    # 关闭连接\n",
    "    if connection.is_connected():\n",
    "        cursor.close()\n",
    "        connection.close()\n",
    "        print(\"MySQL 连接已关闭。\")"
   ]
  },
  {
   "cell_type": "markdown",
   "id": "169c89cc",
   "metadata": {},
   "source": [
    "## 验证导入结果"
   ]
  },
  {
   "cell_type": "code",
   "execution_count": 11,
   "id": "838f348f",
   "metadata": {},
   "outputs": [
    {
     "name": "stdout",
     "output_type": "stream",
     "text": [
      "表中现有 494 行数据\n",
      "(1, 1, 0, 'European Silver Fir', 'Abies alba', 'Common Silver Fir', 'False', 'False', 'False', 'True', 'False', 'False', 'False', '[\"full sun\"]', 'Frequent', 'Every year', 'High')\n",
      "(2, 2, 0, 'Pyramidalis Silver Fir', \"Abies alba 'Pyramidalis'\", '', 'False', 'False', 'False', 'False', 'False', 'False', 'False', '[\"full sun\"]', 'Average', 'Every year', 'Low')\n",
      "(3, 3, 0, 'White Fir', 'Abies concolor', 'Silver Fir', 'False', 'False', 'False', 'True', 'False', 'False', 'True', '[\"Full sun\", \"part shade\"]', 'Average', 'Every year', 'Low')\n",
      "(4, 4, 0, 'Candicans White Fir', \"Abies concolor 'Candicans'\", 'Silver Fir', 'False', 'False', 'False', 'False', 'False', 'False', 'False', '[\"full sun\"]', 'Average', 'Every year', 'Low')\n",
      "(5, 5, 0, 'Fraser Fir', 'Abies fraseri', 'Southern Fir', 'False', 'False', 'False', 'False', 'False', 'False', 'True', '[\"full sun\", \"part shade\", \"filtered shade\"]', 'Frequent', 'Every year', 'Moderate')\n"
     ]
    }
   ],
   "source": [
    "# 在同一个连接会话中，或者在新的连接中执行\n",
    "try:\n",
    "    connection = mysql.connector.connect(**db_config)\n",
    "    cursor = connection.cursor()\n",
    "    \n",
    "    cursor.execute(\"SELECT COUNT(*) FROM Table02_GeneralPlantDescriptionTable\")\n",
    "    row_count = cursor.fetchone()[0]\n",
    "    print(f\"表中现有 {row_count} 行数据\")\n",
    "    \n",
    "    # 查看前几行数据\n",
    "    cursor.execute(\"SELECT * FROM Table01_PlantMainTable LIMIT 5\")\n",
    "    rows = cursor.fetchall()\n",
    "    for row in rows:\n",
    "        print(row)\n",
    "        \n",
    "except Error as e:\n",
    "    print(f\"查询过程中发生错误：{e}\")\n",
    "finally:\n",
    "    if connection.is_connected():\n",
    "        cursor.close()\n",
    "        connection.close()"
   ]
  }
 ],
 "metadata": {
  "kernelspec": {
   "display_name": "base",
   "language": "python",
   "name": "python3"
  },
  "language_info": {
   "codemirror_mode": {
    "name": "ipython",
    "version": 3
   },
   "file_extension": ".py",
   "mimetype": "text/x-python",
   "name": "python",
   "nbconvert_exporter": "python",
   "pygments_lexer": "ipython3",
   "version": "3.10.16"
  }
 },
 "nbformat": 4,
 "nbformat_minor": 5
}
