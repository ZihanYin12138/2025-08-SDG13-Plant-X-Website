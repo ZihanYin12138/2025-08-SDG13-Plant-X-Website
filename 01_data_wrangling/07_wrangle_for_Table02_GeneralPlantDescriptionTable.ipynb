{
 "cells": [
  {
   "cell_type": "markdown",
   "id": "dac38409",
   "metadata": {},
   "source": [
    "# General Plant Description Table Assembly and Database Import\n",
    "\n",
    "Name: Zihan, Klarissa"
   ]
  },
  {
   "cell_type": "markdown",
   "id": "576300b3",
   "metadata": {},
   "source": [
    "## Step 1 - Imports and Path Setup"
   ]
  },
  {
   "cell_type": "code",
   "execution_count": 1,
   "id": "dcc07d6a",
   "metadata": {},
   "outputs": [],
   "source": [
    "import os\n",
    "import json\n",
    "import pandas as pd\n",
    "from glob import glob\n",
    "\n",
    "# Paths\n",
    "input_dir = \"01_raw_data/01_species_details\"\n",
    "output_path = \"02_wrangled_data/Table02_GeneralPlantDescriptionTable.csv\""
   ]
  },
  {
   "cell_type": "markdown",
   "id": "50298063",
   "metadata": {},
   "source": [
    "## Step 2 - Mapping and Flatten Function"
   ]
  },
  {
   "cell_type": "code",
   "execution_count": 2,
   "id": "3ecc7d15",
   "metadata": {},
   "outputs": [],
   "source": [
    "# Cycle label mapping\n",
    "cycle_map = {\n",
    "    \"Perennial\": \"Every year\",\n",
    "    \"Annual\": \"Once a year\",\n",
    "    \"Biennial\": \"Every 2 years\"\n",
    "}\n",
    "\n",
    "# Flatten general plant record\n",
    "def flatten_general_description(data):\n",
    "    plant_id = data.get(\"id\")\n",
    "    if plant_id > 3000:\n",
    "        return None  # Skip threatened plants\n",
    "\n",
    "    return {\n",
    "        \"general_plant_id\": plant_id,\n",
    "        \"if_edible\": data.get(\"edible_fruit\", False) or data.get(\"edible_leaf\", False) or data.get(\"cuisine\", False),\n",
    "        \"if_indoors\": data.get(\"indoor\", False),\n",
    "        \"if_medicinal\": data.get(\"medicinal\", False),\n",
    "        \"if_poisonous\": data.get(\"poisonous_to_humans\", False) or data.get(\"poisonous_to_pets\", False),\n",
    "        \"if_fruits\": data.get(\"fruits\", False),\n",
    "        \"if_flowers\": data.get(\"flowers\", False),\n",
    "        \"plant_type\": data.get(\"type\"),\n",
    "        \"plant_cycle\": cycle_map.get(data.get(\"cycle\"), data.get(\"cycle\")),\n",
    "        \"attracts\": json.dumps(data.get(\"attracts\", []), ensure_ascii=False),  # Adjust to fit MySQL Workbench\n",
    "        \"propagation\": json.dumps(data.get(\"propagation\", []), ensure_ascii=False),  # Adjust to fit MySQL Workbench\n",
    "        \"description\": data.get(\"description\")\n",
    "    }"
   ]
  },
  {
   "cell_type": "markdown",
   "id": "57167f06",
   "metadata": {},
   "source": [
    "## Step 3 - Load and Flatten JSON Files"
   ]
  },
  {
   "cell_type": "code",
   "execution_count": 3,
   "id": "b849ef13",
   "metadata": {},
   "outputs": [],
   "source": [
    "# Load and flatten JSON file\n",
    "json_files = glob(os.path.join(input_dir, \"plant_species_details_*.json\"))\n",
    "flattened_data = []\n",
    "\n",
    "for file in json_files:\n",
    "    with open(file, \"r\", encoding=\"utf-8\") as f:\n",
    "        data = json.load(f)\n",
    "        record = flatten_general_description(data)\n",
    "        if record:\n",
    "            flattened_data.append(record)"
   ]
  },
  {
   "cell_type": "markdown",
   "id": "d1fa4c09",
   "metadata": {},
   "source": [
    "## Step 4 - Build DataFrame and Export CSV"
   ]
  },
  {
   "cell_type": "code",
   "execution_count": 4,
   "id": "c89b37cc",
   "metadata": {},
   "outputs": [],
   "source": [
    "# Create DataFrame and sort\n",
    "df = pd.DataFrame(flattened_data)\n",
    "df = df.sort_values(by=\"general_plant_id\").reset_index(drop=True)\n",
    "\n",
    "df[\"general_plant_id\"] = pd.to_numeric(df[\"general_plant_id\"], errors=\"coerce\").astype(\"Int64\")\n",
    "\n",
    "ordered_cols = [\n",
    "    \"general_plant_id\", \"if_edible\", \"if_indoors\", \"if_medicinal\", \"if_poisonous\",\n",
    "    \"if_fruits\", \"if_flowers\", \"plant_type\", \"plant_cycle\",\n",
    "    \"attracts\", \"propagation\", \"description\"\n",
    "]\n",
    "df = df[ordered_cols]\n",
    "\n",
    "os.makedirs(os.path.dirname(output_path), exist_ok=True)\n",
    "df.to_csv(output_path, index=False)"
   ]
  },
  {
   "cell_type": "markdown",
   "id": "b086bcee",
   "metadata": {},
   "source": [
    "## Step 5 - Import General Plant Description Table into MySQL"
   ]
  },
  {
   "cell_type": "code",
   "execution_count": 5,
   "id": "47c6607a",
   "metadata": {},
   "outputs": [
    {
     "name": "stdout",
     "output_type": "stream",
     "text": [
      "Successfully connected to MySQL server\n",
      "Data import successful! 891 rows affected.\n",
      "MySQL connection closed.\n"
     ]
    }
   ],
   "source": [
    "import mysql.connector\n",
    "from mysql.connector import Error\n",
    "\n",
    "# Database connection configuration\n",
    "db_config = {\n",
    "    'host': 'database-plantx.cqz06uycysiz.us-east-1.rds.amazonaws.com',\n",
    "    'user': 'zihan',\n",
    "    'password': '2002317Yzh12138.',\n",
    "    'database': 'FIT5120_PlantX_Database',\n",
    "    'allow_local_infile': True,\n",
    "    'use_pure': True  # Use pure Python implementation\n",
    "}\n",
    "\n",
    "try:\n",
    "    # Establish connection\n",
    "    connection = mysql.connector.connect(**db_config)\n",
    "    \n",
    "    if connection.is_connected():\n",
    "        print(\"Successfully connected to MySQL server\")\n",
    "        \n",
    "        # Create cursor\n",
    "        cursor = connection.cursor()\n",
    "        \n",
    "        # Construct LOAD DATA LOCAL INFILE command\n",
    "        load_data_query = \"\"\"\n",
    "            LOAD DATA LOCAL INFILE '02_wrangled_data/Table02_GeneralPlantDescriptionTable.csv'\n",
    "            INTO TABLE Table02_GeneralPlantDescriptionTable\n",
    "            CHARACTER SET utf8mb4\n",
    "            FIELDS TERMINATED BY ',' \n",
    "            OPTIONALLY ENCLOSED BY '\"'\n",
    "            LINES TERMINATED BY '\\\\r\\\\n'\n",
    "            IGNORE 1 LINES\n",
    "            (   \n",
    "                general_plant_id, if_edible, if_indoors, if_medicinal, if_poisonous,\n",
    "                if_fruits, if_flowers, plant_type, plant_cycle, attracts, propagation,\n",
    "                description\n",
    "            );\n",
    "        \"\"\"\n",
    "        \n",
    "        # Execute command\n",
    "        cursor.execute(load_data_query)\n",
    "        connection.commit()  # Commit transaction\n",
    "        \n",
    "        print(f\"Data import successful! {cursor.rowcount} rows affected.\")\n",
    "        \n",
    "except Error as e:\n",
    "    print(f\"Error occurred during execution: {e}\")\n",
    "    \n",
    "finally:\n",
    "    # Close connection\n",
    "    if connection.is_connected():\n",
    "        cursor.close()\n",
    "        connection.close()\n",
    "        print(\"MySQL connection closed.\")"
   ]
  },
  {
   "cell_type": "markdown",
   "id": "169c89cc",
   "metadata": {},
   "source": [
    "## Step 6 - Verify Imported Rows and Preview"
   ]
  },
  {
   "cell_type": "code",
   "execution_count": 6,
   "id": "838f348f",
   "metadata": {},
   "outputs": [
    {
     "name": "stdout",
     "output_type": "stream",
     "text": [
      "The table currently contains 1484 rows\n",
      "(1, 'False', 'False', 'True', 'False', 'False', 'False', 'tree', 'Every year', '[]', '[\"Cutting\", \"Grafting Propagation\", \"Layering Propagation\", \"Seed Propagation\", \"Air Layering Propagation\", \"Tissue Culture\"]', 'European Silver Fir (Abies alba) is an amazing coniferous species native to mountainous regions of central Europe and the Balkans. It is an evergreen tree with a narrow, pyramidal shape and long, soft needles. Its bark is scaly grey-brown and its branches are highly ornamental due to its conical-shaped silver-tinged needles. It is pruned for use as an ornamental evergreen hedging and screening plant, and is also popular for use as a Christmas tree. Young trees grow quickly and have strong, flexible branches which makes them perfect for use as windbreaks. The European Silver Fir is an impressive species, making it ideal for gardens and public spaces.')\n",
      "(2, 'False', 'False', 'False', 'False', 'False', 'False', 'tree', 'Every year', '[]', '[\"Cutting\", \"Grafting Propagation\", \"Layering Propagation\", \"Seed Propagation\"]', \"Pyramidalis Silver Fir (Abies alba 'Pyramidalis') is an amazing coniferous tree species. Its narrow, elegant pyramidal shape makes it ideal for landscapes with limited space. This species features bright silver-green foliage year-round and distinctive yellowish brown cones that hold its unique shape for years. It also displays purple-tinged shoots in the spring and a showy red bark in the winter. Its slow growth and hardiness make it an ideal addition to any landscape. The Pyramidalis Silver Fir also requires minimal maintenance and can be an excellent companion for many other plants in the garden. From small yards to large gardens, this species will create a majestic and interesting landscape.\")\n",
      "(3, 'False', 'False', 'True', 'False', 'False', 'True', 'tree', 'Every year', '[]', '[\"Seed Propagation\", \"Hardwood Cuttings\"]', 'White Fir (Abies concolor) is an amazing evergreen tree species found in the western United States. It has a distinct white bark that fades to a yellowish hue on the lower branches and a graceful, conical shape. The beautiful Blue-green needles of White Fir are soft and tufted at the end and release a pleasant Christmas-like aroma when crushed. This sturdy species can grow up to 300 feet tall and over 140 years old, making it one of the longest living species in the world. It is highly adaptable, drought-tolerant, and very low maintenance with minimal pruning requirements. White Fir is an excellent choice for privacy screens, windbreaks, and living Christmas trees.')\n",
      "(4, 'False', 'False', 'False', 'False', 'False', 'False', 'tree', 'Every year', '[]', '[\"Cutting\", \"Grafting Propagation\", \"Layering Propagation\", \"Air Layering Propagation\", \"Seed Propagation\"]', 'Candicans White Fir is one of the most amazing species of fir tree. Its vibrant, powdery-white needles make it a real show-stopper in the winter and spring. The light color is also resistant to bronzing or discoloration, so the brilliant hue is maintained for many years. It also has a unique branch structure with a strong central leader and shorter lateral branches creating an eye-catching silhouette. This species is hardy and tolerant to a variety of soil types, making it a great choice for difficult areas. Its fast growth rate creates an impressive display quickly, making it an excellent choice to add curb appeal to your landscape.')\n",
      "(5, 'False', 'False', 'False', 'False', 'False', 'True', 'tree', 'Every year', '[]', '[\"Seed Propagation\", \"Seed Propagation\", \"Seed Propagation\", \"Cutting\", \"Grafting Propagation\", \"Layering Propagation\", \"Tissue Culture\"]', 'The Fraser Fir (Abies fraseri) is an amazing tree species with many great qualities. It is a dense evergreen conifer native to the Appalachian mountains. Its pyramidal shape and glossy dark green needles, that curve upward, make it a beautiful and popular Christmas tree. Its needles are short, soft, flat and pleasant to the touch. It has been found to be highly resistant to pests, diseases, and environmental stress. Additionally, it has superior winter hardiness and a strong wood that produces very little sap. This incredible species is perfect for a variety of evergreen applications and is guaranteed to bring a unique and beautiful look to any landscape.')\n"
     ]
    }
   ],
   "source": [
    "# In the same connection session, or in a new one\n",
    "try:\n",
    "    connection = mysql.connector.connect(**db_config)\n",
    "    cursor = connection.cursor()\n",
    "    \n",
    "    cursor.execute(\"SELECT COUNT(*) FROM Table02_GeneralPlantDescriptionTable\")\n",
    "    row_count = cursor.fetchone()[0]\n",
    "    print(f\"The table currently contains {row_count} rows\")\n",
    "    \n",
    "    # Preview first few rows\n",
    "    cursor.execute(\"SELECT * FROM Table02_GeneralPlantDescriptionTable LIMIT 5\")\n",
    "    rows = cursor.fetchall()\n",
    "    for row in rows:\n",
    "        print(row)\n",
    "        \n",
    "except Error as e:\n",
    "    print(f\"Error occurred during query: {e}\")\n",
    "finally:\n",
    "    if connection.is_connected():\n",
    "        cursor.close()\n",
    "        connection.close()"
   ]
  }
 ],
 "metadata": {
  "kernelspec": {
   "display_name": "base",
   "language": "python",
   "name": "python3"
  },
  "language_info": {
   "codemirror_mode": {
    "name": "ipython",
    "version": 3
   },
   "file_extension": ".py",
   "mimetype": "text/x-python",
   "name": "python",
   "nbconvert_exporter": "python",
   "pygments_lexer": "ipython3",
   "version": "3.10.16"
  }
 },
 "nbformat": 4,
 "nbformat_minor": 5
}
