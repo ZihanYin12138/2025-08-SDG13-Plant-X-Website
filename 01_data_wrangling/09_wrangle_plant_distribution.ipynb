{
 "cells": [
  {
   "cell_type": "code",
   "execution_count": 12,
   "id": "4f5c7fdd",
   "metadata": {},
   "outputs": [],
   "source": [
    "import os\n",
    "import json\n",
    "import pandas as pd\n",
    "from glob import glob\n",
    "\n",
    "# Paths\n",
    "html_dir = \"01_raw_data/03_hardiness_map\"\n",
    "output_path = \"02_wrangled_data/04_general_plant_distribution_map.csv\"\n"
   ]
  },
  {
   "cell_type": "code",
   "execution_count": 13,
   "id": "f08cc10c",
   "metadata": {},
   "outputs": [],
   "source": [
    "# Extract distribution map info\n",
    "html_files = glob(os.path.join(html_dir, \"plant_species_hardiness_map_*.html\"))\n",
    "\n",
    "records = []\n",
    "for file in html_files:\n",
    "    basename = os.path.basename(file)\n",
    "    try:\n",
    "        general_plant_id = int(basename.split(\"_\")[-1].split(\".\")[0])\n",
    "        local_path = os.path.join(html_dir, basename).replace(\"\\\\\", \"/\")\n",
    "        records.append({\n",
    "            \"general_plant_id\": general_plant_id,\n",
    "            \"distribution_map\": local_path\n",
    "        })\n",
    "    except ValueError:\n",
    "        continue  # Skip malformed filenames"
   ]
  },
  {
   "cell_type": "code",
   "execution_count": 14,
   "id": "f06e5631",
   "metadata": {},
   "outputs": [],
   "source": [
    "# Create DataFrame and sort\n",
    "df = pd.DataFrame(records)\n",
    "df = df.sort_values(by=\"general_plant_id\").reset_index(drop=True)\n",
    "df[\"general_plant_id\"] = pd.to_numeric(df[\"general_plant_id\"], errors=\"coerce\").astype(\"Int64\")\n",
    "\n",
    "# Save to CSV\n",
    "os.makedirs(os.path.dirname(output_path), exist_ok=True)\n",
    "df.to_csv(output_path, index=False)"
   ]
  }
 ],
 "metadata": {
  "kernelspec": {
   "display_name": "base",
   "language": "python",
   "name": "python3"
  },
  "language_info": {
   "codemirror_mode": {
    "name": "ipython",
    "version": 3
   },
   "file_extension": ".py",
   "mimetype": "text/x-python",
   "name": "python",
   "nbconvert_exporter": "python",
   "pygments_lexer": "ipython3",
   "version": "3.12.2"
  }
 },
 "nbformat": 4,
 "nbformat_minor": 5
}
