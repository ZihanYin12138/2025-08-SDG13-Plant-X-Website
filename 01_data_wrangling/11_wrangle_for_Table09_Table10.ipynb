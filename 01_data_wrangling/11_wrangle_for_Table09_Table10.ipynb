{
 "cells": [
  {
   "cell_type": "markdown",
   "metadata": {},
   "source": [
    "# Plant Disease Tables (09 & 10) Assembly and Database Import\n",
    "\n",
    "Name: Zihan"
   ]
  },
  {
   "cell_type": "markdown",
   "metadata": {},
   "source": [
    "## Step 1 - Set Up Paths and Imports"
   ]
  },
  {
   "cell_type": "code",
   "execution_count": 79,
   "metadata": {},
   "outputs": [],
   "source": [
    "import os\n",
    "import json\n",
    "import pandas as pd\n",
    "from glob import glob\n",
    "import mysql.connector\n",
    "from mysql.connector import Error\n",
    "\n",
    "# Define input and output paths for raw data and wrangled data\n",
    "json_dir = \"01_raw_data/04_plant_diseases\"\n",
    "output_path_09 = \"02_wrangled_data/Table09_PlantDiseaseTable.csv\"\n",
    "output_path_10 = \"02_wrangled_data/Table10_PlantDiseaseImageTable.csv\""
   ]
  },
  {
   "cell_type": "markdown",
   "metadata": {},
   "source": [
    "## Step 2 - Helpers and Flatten Functions"
   ]
  },
  {
   "cell_type": "code",
   "execution_count": 80,
   "metadata": {},
   "outputs": [],
   "source": [
    "# Helper function to safely get the first element of a list or return None\n",
    "def first_or_none(lst):\n",
    "    \"\"\"Returns the first item of a list, or None if the list is empty, not a list, or contains non-list items.\"\"\"\n",
    "    if isinstance(lst, list) and lst:\n",
    "        return lst[0]\n",
    "    # Handle cases where the API might return a single string instead of a list of strings\n",
    "    if isinstance(lst, str):\n",
    "        return lst\n",
    "    return None\n",
    "\n",
    "# Helper function to safely extract image URLs\n",
    "def get_image_url(images_list, key):\n",
    "    \"\"\"Safely extracts a specific URL from the first image dictionary in a list.\"\"\"\n",
    "    if isinstance(images_list, list) and images_list:\n",
    "        first_image = images_list[0] if isinstance(images_list[0], dict) else {}\n",
    "        return first_image.get(key)\n",
    "    return None\n",
    "\n",
    "def to_mysql_json(value):\n",
    "    \"\"\"\n",
    "    Safely prepares a Python object for insertion into a MySQL JSON column.\n",
    "    - Converts null-like values to an empty JSON array '[]'.\n",
    "    - Escapes backslashes, newlines, and tabs to be compatible with `LOAD DATA INFILE`.\n",
    "    \"\"\"\n",
    "    if value in (None, \"\", \"null\"):\n",
    "        return \"[]\"  # Return a valid empty JSON array\n",
    "\n",
    "    # First, convert the Python object to a JSON string\n",
    "    json_str = json.dumps(value, ensure_ascii=False)\n",
    "\n",
    "    # CRITICAL: Backslashes must be escaped first, before other special characters.\n",
    "    json_str = json_str.replace('\\\\', '\\\\\\\\').replace('\\n', '\\\\n').replace('\\t', '\\\\t')\n",
    "\n",
    "    return json_str\n",
    "\n",
    "# NOTE: The following functions process the raw JSON data into structured records for each table.\n",
    "\n",
    "# Flatten each JSON record for Table09_PlantDiseaseTable\n",
    "def flatten_disease_data(payload):\n",
    "    \"\"\"\n",
    "    Flattens a plant disease JSON object for the main disease table.\n",
    "    If the 'data' key is empty, returns None to skip the record.\n",
    "    \"\"\"\n",
    "    items = payload.get('data') or []\n",
    "    if not items:\n",
    "        return None\n",
    "    disease_info = items[0]\n",
    "    \n",
    "    return {\n",
    "        \"plant_disease_id\": disease_info.get(\"id\"),\n",
    "        \"common_name\": disease_info.get(\"common_name\"),\n",
    "        \"scientific_name\": first_or_none(disease_info.get(\"scientific_name\")),\n",
    "        \"other_name\": to_mysql_json(disease_info.get(\"other_name\", [])),\n",
    "        \"host\": to_mysql_json(disease_info.get(\"host\", [])),\n",
    "        \"description\": to_mysql_json(disease_info.get(\"description\", [])),\n",
    "        \"solution\": to_mysql_json(disease_info.get(\"solution\", []))\n",
    "    }\n",
    "\n",
    "\n",
    "# Flatten each JSON record for Table10_PlantDiseaseImageTable\n",
    "def flatten_image_data(payload):\n",
    "    \"\"\"\n",
    "    Flattens a plant disease JSON object for the disease image table.\n",
    "    If the 'data' key is empty, returns None. It only processes the first image \n",
    "    to match the existing table structure.\n",
    "    \"\"\"\n",
    "    items = payload.get('data') or []\n",
    "    if not items:\n",
    "        return None\n",
    "    disease_info = items[0]\n",
    "\n",
    "    return {\n",
    "        \"plant_disease_id\": disease_info.get(\"id\"),\n",
    "        \"regular_url_image\": get_image_url(disease_info.get(\"images\"), \"regular_url\"),\n",
    "        \"thumbnail_image\": get_image_url(disease_info.get(\"images\"), \"thumbnail\"),\n",
    "    }"
   ]
  },
  {
   "cell_type": "markdown",
   "metadata": {},
   "source": [
    "## Step 3 - Load Raw JSON Data"
   ]
  },
  {
   "cell_type": "code",
   "execution_count": 81,
   "metadata": {},
   "outputs": [
    {
     "name": "stdout",
     "output_type": "stream",
     "text": [
      "Successfully processed 96 JSON files (skipped 4 empty).\n"
     ]
    }
   ],
   "source": [
    "# Find all plant disease JSON files in the specified directory\n",
    "json_files = glob(os.path.join(json_dir, \"plant_disease_*.json\"))\n",
    "\n",
    "# Initialize lists to hold the structured records\n",
    "disease_records = []\n",
    "image_records = []\n",
    "\n",
    "# Process each JSON file. Files with empty 'data' will be skipped, preventing IndexErrors.\n",
    "skipped = 0\n",
    "for file in json_files:\n",
    "    with open(file, \"r\", encoding=\"utf-8\") as f:\n",
    "        payload = json.load(f)\n",
    "\n",
    "    # Flatten the data for both the disease and image tables\n",
    "    rec_d = flatten_disease_data(payload)\n",
    "    rec_i = flatten_image_data(payload)\n",
    "\n",
    "    # If the payload was empty, increment the skipped counter\n",
    "    if rec_d is None and rec_i is None:\n",
    "        skipped += 1\n",
    "        continue\n",
    "\n",
    "    # Append the flattened records to their respective lists\n",
    "    if rec_d is not None:\n",
    "        disease_records.append(rec_d)\n",
    "    if rec_i is not None:\n",
    "        image_records.append(rec_i)\n",
    "\n",
    "print(f\"Successfully processed {len(json_files) - skipped} JSON files (skipped {skipped} empty).\")"
   ]
  },
  {
   "cell_type": "markdown",
   "metadata": {},
   "source": [
    "## Step 4 - Create DataFrames, Order Columns, and Save to CSV"
   ]
  },
  {
   "cell_type": "code",
   "execution_count": 82,
   "metadata": {},
   "outputs": [
    {
     "name": "stdout",
     "output_type": "stream",
     "text": [
      "Table 09 saved to: 02_wrangled_data/Table09_PlantDiseaseTable.csv\n",
      "Table 10 saved to: 02_wrangled_data/Table10_PlantDiseaseImageTable.csv\n"
     ]
    }
   ],
   "source": [
    "# Create a DataFrame from the list of disease records\n",
    "disease_df = pd.DataFrame(disease_records)\n",
    "\n",
    "# Define and apply the desired column order\n",
    "ordered_cols_09 = [\n",
    "    \"plant_disease_id\", \"common_name\", \"scientific_name\", \"other_name\",\n",
    "    \"host\", \"description\", \"solution\"\n",
    "]\n",
    "disease_df = disease_df[ordered_cols_09]\n",
    "\n",
    "# Sort by ID, reset the index, and ensure the ID is an integer type\n",
    "disease_df = disease_df.sort_values(by=\"plant_disease_id\").reset_index(drop=True)\n",
    "disease_df[\"plant_disease_id\"] = pd.to_numeric(disease_df[\"plant_disease_id\"]).astype(\"Int64\")\n",
    "\n",
    "# --- Process Table 10 (Plant Disease Images) ---\n",
    "# Create a DataFrame from the list of image records\n",
    "image_df = pd.DataFrame(image_records)\n",
    "\n",
    "# Define and apply the desired column order\n",
    "ordered_cols_10 = [\"plant_disease_id\", \"regular_url_image\", \"thumbnail_image\"]\n",
    "image_df = image_df[ordered_cols_10]\n",
    "\n",
    "# Sort by ID, reset the index, and ensure the ID is an integer type\n",
    "image_df = image_df.sort_values(by=\"plant_disease_id\").reset_index(drop=True)\n",
    "image_df[\"plant_disease_id\"] = pd.to_numeric(image_df[\"plant_disease_id\"]).astype(\"Int64\")\n",
    "\n",
    "# --- Save DataFrames to CSV ---\n",
    "# Ensure the output directory exists\n",
    "os.makedirs(os.path.dirname(output_path_09), exist_ok=True)\n",
    "\n",
    "# Save both tables to CSV files, explicitly using utf-8-sig encoding for compatibility\n",
    "disease_df.to_csv(output_path_09, index=False, lineterminator='\\r\\n', encoding='utf-8-sig')\n",
    "image_df.to_csv(output_path_10, index=False, lineterminator='\\r\\n', encoding='utf-8-sig')\n",
    "\n",
    "print(f\"Table 09 saved to: {output_path_09}\")\n",
    "print(f\"Table 10 saved to: {output_path_10}\")"
   ]
  },
  {
   "cell_type": "markdown",
   "metadata": {},
   "source": [
    "## Step 5 - Import Plant Disease Table (Table09) into MySQL"
   ]
  },
  {
   "cell_type": "code",
   "execution_count": 83,
   "metadata": {},
   "outputs": [
    {
     "name": "stdout",
     "output_type": "stream",
     "text": [
      "Successfully connected to MySQL server\n",
      "Table09 & Table10 schema are created.\n",
      "MySQL connection for creating Table09 & Table10 schema closed.\n"
     ]
    }
   ],
   "source": [
    "# Database connection configuration, specifying utf8mb4 for full Unicode support\n",
    "db_config = {\n",
    "    'host': 'database-plantx.cqz06uycysiz.us-east-1.rds.amazonaws.com',\n",
    "    'user': 'zihan',\n",
    "    'password': '2002317Yzh12138.',\n",
    "    'database': 'FIT5120_PlantX_Database',\n",
    "    'allow_local_infile': True,\n",
    "    'use_pure': True,\n",
    "    'charset': 'utf8mb4'\n",
    "}\n",
    "\n",
    "# Attempt to connect and create the necessary tables\n",
    "try:\n",
    "    connection = mysql.connector.connect(**db_config)\n",
    "    if connection.is_connected():\n",
    "        print(\"Successfully connected to MySQL server\")\n",
    "        cursor = connection.cursor()\n",
    "        \n",
    "        # SQL statement to create the main plant disease table\n",
    "        create_table_09 = \"\"\"\n",
    "        CREATE TABLE IF NOT EXISTS Table09_PlantDiseaseTable (\n",
    "            plant_disease_id INT PRIMARY KEY,\n",
    "            common_name TEXT,\n",
    "            scientific_name TEXT,\n",
    "            other_name JSON,\n",
    "            host JSON,\n",
    "            description JSON,\n",
    "            solution JSON\n",
    "        ) CHARACTER SET utf8mb4 COLLATE utf8mb4_unicode_ci;\n",
    "        \"\"\"\n",
    "\n",
    "        # SQL statement to create the plant disease image table with a foreign key\n",
    "        create_table_10 = \"\"\"\n",
    "        CREATE TABLE IF NOT EXISTS Table10_PlantDiseaseImageTable (\n",
    "            plant_disease_id INT PRIMARY KEY,\n",
    "            regular_url_image TEXT,\n",
    "            thumbnail_image TEXT,\n",
    "            CONSTRAINT fk_disease_image FOREIGN KEY (plant_disease_id)\n",
    "                REFERENCES Table09_PlantDiseaseTable (plant_disease_id)\n",
    "                ON DELETE CASCADE\n",
    "        ) CHARACTER SET utf8mb4 COLLATE utf8mb4_unicode_ci;\n",
    "        \"\"\"\n",
    "        \n",
    "        # Execute the table creation queries\n",
    "        cursor.execute(create_table_09)\n",
    "        cursor.execute(create_table_10)\n",
    "        \n",
    "        connection.commit()\n",
    "        print(f\"Table09 & Table10 schema are created.\")\n",
    "        \n",
    "except Error as e:\n",
    "    print(f\"Error occurred during creating Table09 & Table10 schema: {e}\")\n",
    "    \n",
    "finally:\n",
    "    # Ensure the connection is closed\n",
    "    if 'connection' in locals() and connection.is_connected():\n",
    "        cursor.close()\n",
    "        connection.close()\n",
    "        print(\"MySQL connection for creating Table09 & Table10 schema closed.\")"
   ]
  },
  {
   "cell_type": "code",
   "execution_count": 84,
   "metadata": {},
   "outputs": [
    {
     "name": "stdout",
     "output_type": "stream",
     "text": [
      "Successfully connected to MySQL server for Table09 import.\n",
      "Table09 data import successful! 96 rows affected.\n",
      "MySQL connection for Table09 closed.\n"
     ]
    }
   ],
   "source": [
    "try:\n",
    "    # Re-establish the connection for the data import operation\n",
    "    connection = mysql.connector.connect(**db_config)\n",
    "    if connection.is_connected():\n",
    "        print(\"Successfully connected to MySQL server for Table09 import.\")\n",
    "        cursor = connection.cursor()\n",
    "        \n",
    "        # Define the query to load data from the CSV file into the database\n",
    "        # This uses LOAD DATA LOCAL INFILE for efficient bulk insertion\n",
    "        load_data_query_09 = f\"\"\"\n",
    "        LOAD DATA LOCAL INFILE '02_wrangled_data/Table09_PlantDiseaseTable.csv'\n",
    "        INTO TABLE Table09_PlantDiseaseTable\n",
    "        CHARACTER SET utf8mb4\n",
    "        FIELDS TERMINATED BY ','\n",
    "        OPTIONALLY ENCLOSED BY '\"'\n",
    "        LINES TERMINATED BY '\\\\r\\\\n'\n",
    "        IGNORE 1 LINES\n",
    "        (\n",
    "            plant_disease_id, common_name, scientific_name, other_name,\n",
    "            host, description, solution\n",
    "        );\n",
    "        \"\"\"\n",
    "        \n",
    "        cursor.execute(load_data_query_09)\n",
    "        connection.commit()\n",
    "        print(f\"Table09 data import successful! {cursor.rowcount} rows affected.\")\n",
    "        \n",
    "except Error as e:\n",
    "    print(f\"Error occurred during Table09 import: {e}\")\n",
    "    \n",
    "finally:\n",
    "    # Ensure the connection is closed\n",
    "    if 'connection' in locals() and connection.is_connected():\n",
    "        cursor.close()\n",
    "        connection.close()\n",
    "        print(\"MySQL connection for Table09 closed.\")"
   ]
  },
  {
   "cell_type": "markdown",
   "metadata": {},
   "source": [
    "## Step 6 - Verify Imported Rows and Preview (Table09)"
   ]
  },
  {
   "cell_type": "code",
   "execution_count": 85,
   "metadata": {},
   "outputs": [
    {
     "name": "stdout",
     "output_type": "stream",
     "text": [
      "Table09_PlantDiseaseTable currently contains 96 rows.\n",
      "\n",
      "--- Preview of first 5 rows from Table09 ---\n",
      "(1, 'Fairy ring', 'Agrocybe', '[]', '[\"all lawn grasses\"]', '[{\"subtitle\": \"What is Fairy Ring (Agrocybe)?\", \"description\": \"A fairy ring is a lawn issue where circular bands of dark green or dying grass appear. Different fungi like Agrocybe, Marasmius oreades, and Lepiota species cause it. Fairy rings can be found on lawns worldwide. The size and shape of the rings depend on the fungus and environment. Common symptoms of the fairy ring include forming a ring pattern with vibrant or dead grass. Some fungi produce mushrooms without rings, while others create rings without mushrooms. This issue affects actively growing turf, including cool-season and Bermudagrass.\"}, {\"subtitle\": \"How Does Fairy Ring Occur?\", \"description\": \"Fairy rings are formed when underground fungal mycelia expand in a circular pattern. They release spores from mushrooms at the ring\\'s edge, which can spread through air, animals, or water to create new colonies. The mycelia consume nutrients and cause the circular pattern to grow, resulting in fairy rings.\"}]', '[{\"subtitle\": \"Cultural Practices\", \"description\": \"•\\\\tPractice proper turfgrass management, including fertilization, irrigation, and maintenance.\\\\n•\\\\tAvoid excessive thatch buildup by regular dethatching if it exceeds 1/2 inch (1.2 cm).\\\\n•\\\\tEnsure good drainage and avoid overwatering.\\\\n•\\\\tMinimize organic matter accumulation by removing grass clippings and debris.\\\\n•\\\\tUse fully decomposed compost and organic material.\\\\n•\\\\tMonitor and control weeds to prevent their invasion.\\\\n•\\\\tAvoid spreading infected soil or thatch to healthy areas.\\\\n\\\\n\"}, {\"subtitle\": \"Chemical Treatment\", \"description\": \"•  Propiconazole, thiophanate-methyl, Azoxystrobin (Heritage) and flutolanil (Prostar WG) are fungicides that can hinder the growth of fairy ring-causing fungi. These fungicides either inhibit the fungi\\'s respiration process or disrupt their cell membrane synthesis.\\\\n Follow the manufacturer\\'s instructions carefully.\"}]')\n",
      "(2, 'Fungi Nuisance', ' Panaeolus foenisecii ', '[\"Nuisance fungi\"]', '[\"all lawn grasses\"]', '[{\"subtitle\": \" What is Nuisance fungi (Panaeolus foenisecii)?\", \"description\": \"The dog vomit fungus, also known as Fuligo septica or slime mold, is a type of fungus that can appear in lawns and other outdoor areas. It has a widespread distribution and can be found in various regions. It does not infect plants directly but thrives on decaying organic matter in the soil. The symptoms of dog vomit fungus include the formation of a gooey, vomit-like mass on the surface of the lawn. While it is generally harmless to grass, it can be unsightly.\"}, {\"subtitle\": \"How does Nuisance fungi (Panaeolus foenisecii) Occur?\", \"description\": \"Dog vomit fungus, or Fuligo septica reproduces through spores released by the fungus. When conditions are suitable, the spores germinate and form a plasmodium, a mass of protoplasm that moves and feeds on decaying organic matter. The plasmodium matures into the characteristic slime mold, resembling vomit. Within the slime mold, sporangia develop, producing and releasing spores to complete the reproductive cycle.\"}]', '[{\"subtitle\": \"Proper Lawn Maintenance\", \"description\": \"•\\\\tRegularly mow the lawn at the appropriate height to promote healthy grass growth.\\\\n•\\\\tAvoid overwatering or poor drainage conditions, as excessive moisture can contribute to mushroom growth.\\\\n•\\\\tReduce thatch buildup by dethatching the lawn when necessary.\\\\n•\\\\tEnsure proper disposal of organic debris and avoid burying it in the lawn.\\\\n•\\\\tUse a lawn aerator to improve water penetration and reduce the development of dense fungal mats.\\\\n•\\\\tRegularly pick or remove mushrooms as soon as they appear to prevent the spread of spores.\\\\n•\\\\tApply nitrogen fertilizer at a rate of 1 pound of actual nitrogen per 1,000 square feet of lawn to hasten the decomposition of organic matter and discourage mushroom growth.\\\\n\"}]')\n",
      "(3, 'Grease spot (Pythium blight)', 'Pythium spp.', '[\"Pythium blight (grease spot)\", \"Damping off and root dieback\", \"Damping off and seed rots\", \"Damping off diseases\"]', '[\"all lawn grasses\", \"carrot\", \"corn\", \"various trees and shrubs\", \"various vegetables and melons\"]', '[{\"subtitle\": \"What is Pythium Bligh (Pythium spp.)?\", \"description\": \"Pythium blight is a fungal disease that impacts turfgrass, causing small circular spots that combine to form withered, reddish-brown, greasy-looking leaves, earning it the name \\\\\"grease spot.\\\\\" This disease thrives in warm, humid conditions, especially when humidity is high and temperatures exceed 86°F. It affects all grass species, leading to seedling damping-off and root rots. Pythium blight spreads rapidly, capable of killing extensive grass areas within just 24 hours.\"}, {\"subtitle\": \"How does Pythium Blight occur?\", \"description\": \"Pythium blight reproduces through both asexual and sexual methods. In humid conditions, it releases zoospores that can swim in water and infect nearby turfgrass. It also produces durable sexual spores that help it survive in soil and plant debris. These reproductive strategies allow Pythium blight to spread and persist, causing damage to susceptible plants in turfgrass environments.\"}]', '[{\"subtitle\": \"Improve soil drainage\", \"description\": \"Maintain proper soil moisture levels to avoid creating conditions favorable for Pythium growth. Improving soil drainage through aeration and avoiding overwatering can limit the conditions that allow the fungus to thrive.\"}, {\"subtitle\": \"Avoid watering at night\", \"description\": \"Watering the lawn early in the day and using fertilizers appropriately can further help reduce the risk of Pythium blight.\"}, {\"subtitle\": \"Use resistant grass cultivars\", \"description\": \"Additionally, selecting grass cultivars that are resistant to the disease can provide an extra level of protection. \"}, {\"subtitle\": \"Maintain appropriate nitrogen levels\", \"description\": \"Avoid excessive nitrogen fertilization, as it can stimulate rapid turfgrass growth and make the plants more susceptible to disease.\"}, {\"subtitle\": \"Apply fungicides\", \"description\": \"Here are some commonly used fungicides for the management of Pythium blight (grease spot) in turfgrass.\\\\n\\\\n•\\\\tAzoxystrobin (Brand name: Heritage)\\\\n•\\\\tFosetyl-al (Brand names: Aliette WDG, Prodigy, Chipco Signature)\\\\n•\\\\tMancozeb (Brand names: Fore 80WP, Dithane M-45)\\\\n•\\\\tMefenoxam (Brand names: Subdue MAXX, Ridomil Gold SL)\\\\n•\\\\tChlorothalonil (Brand names: Daconil, Bravo)\\\\n•\\\\tPropamocarb (Brand name: Banol)\\\\n\\\\n•\\\\tPlease note that the use of fungicides should be in accordance with local regulations, product labels, and the advice of professionals or local extension services.\\\\n\"}]')\n",
      "(4, 'Mushrooms', 'Coprinus comatus.', '[]', '[\"all lawn grasses\"]', '[{\"subtitle\": \"What is Mushrooms (Coprinus comatus)?\", \"description\": \"Coprinus comatus, commonly known as the shaggy ink cap or lawyer\\'s wig, is a fascinating mushroom found worldwide. It thrives in grassy areas and meadows, displaying a distinctive appearance and rapid decomposition into an inky liquid. While it is edible when young and fresh, older specimens undergo autolysis. This mushroom belongs to the Agaricaceae family and features a tall, slender, white fruiting body with a shaggy cap that turns black and dissolves into an ink-like liquid as it matures.\"}, {\"subtitle\": \"How does Mushrooms (Coprinus comatus) occur?\", \"description\": \"This fungus reproduces through sexual and asexual reproduction. One interesting aspect is autodigestion, where enzymes released from the gills digest the mushroom\\'s cap and stem. Spores that land on the mushroom trigger this process, causing the tissues to break down into a black, inky substance.\"}]', '[{\"subtitle\": \"Physical Removal\", \"description\": \"Remove the mushrooms by hand as soon as they appear to prevent spores from spreading.\"}, {\"subtitle\": \"Adjust Soil Conditions\", \"description\": \"To prevent this, you can adjust the soil conditions in the affected area. Adding lime can help raise the soil\\'s pH while adding organic matter can help balance the nitrogen levels to prevent the negative effects of the black, inky substance.\"}, {\"subtitle\": \"Improve Drainage\", \"description\": \"Enhance the drainage in the affected area to prevent moisture build-up, as Coprinus comatus thrives in moist environments.\"}, {\"subtitle\": \"Application of Fungicides\", \"description\": \"Antifungal Agents, including carbendazim, thiophanate-methyl, and iprodione. Prevent fungal cell division and growth and stop the formation of new fungal spores. \\\\nHowever, using these agents carefully and according to label instructions is important to avoid unintended negative impacts on other organisms in the ecosystem.\"}]')\n",
      "(5, 'Powdery mildew', 'Erysiphe graminis', '[]', '[\"all lawn grasses\"]', '[{\"subtitle\": \"What is Powdery mildew (Erysiphe graminis)?\", \"description\": \"Powdery mildew is a fungal disease that affects a wide range of plants, including ornamentals, vegetables, and turfgrass. It is distributed worldwide and thrives in conditions with high humidity and moderate temperatures. Infected plants exhibit grayish white, powdery growth on leaf surfaces, starting as isolated patches and spreading over larger areas. In advanced stages, affected leaves may turn yellow and become distorted. \"}, {\"subtitle\": \"How does Powdery mildew (Erysiphe graminis) occur?\", \"description\": \"Powdery mildew reproduces through sexual reproduction, forming fruiting bodies called cleistothecia that release spores. These spores can be carried by wind or other means to infect susceptible plants. Additionally, it reproduces asexually by producing conidia, which are airborne spores formed on the powdery growth of infected plants. These conidia can spread to new hosts, initiating new infections, and facilitating the rapid dissemination of the disease.\"}]', '[{\"subtitle\": \"Select resistant plant varieties\", \"description\": \"Choose plant varieties that have demonstrated resistance to Erysiphe graminis, as they possess natural defences against the fungus.\\\\n\"}, {\"subtitle\": \"Ensure proper plant spacing\", \"description\": \"Maintain adequate spacing between plants to promote airflow and minimize humidity around the foliage, creating less favorable conditions for this fungus.\"}, {\"subtitle\": \"Optimize sunlight exposure\", \"description\": \"Position plants in areas that receive ample sunlight, as sunlight helps reduce humidity levels and inhibits its growth.\"}, {\"subtitle\": \"Manage watering practices\", \"description\": \"Avoid overhead watering, as wet foliage encourages its development. Instead, water plants at the base or utilize drip irrigation to keep the foliage dry.\"}, {\"subtitle\": \"Regular pruning and debris removal\", \"description\": \"Trim and dispose of infected plant parts, fallen leaves, and other debris to minimize the presence of fungal spores and reduce the risk of infection.\"}, {\"subtitle\": \"Practice crop rotation\", \"description\": \"If it recurs, rotate susceptible plants to different areas each growing season to break the disease cycle.\"}, {\"subtitle\": \"Monitor and detect early signs\", \"description\": \"Routinely inspect plants for early indications of infection, such as white powdery patches on leaves and stems. Early detection enables timely intervention and effective control.\"}, {\"subtitle\": \"Application of Fungicides\", \"description\": \"In severe cases or when preventive measures are insufficient. Azoxystrobin, propiconazole (Bumper® 250 EC), tebuconazole, myclobutanil (Orius 250 EW), fenarimol, difenoconazole, cyprodinil, and flutriafol are examples of synthetic fungicides effective against this fungus.\\\\n\\\\n Sulfur-based fungicides and Biofungicides based on Bacillus subtilis can also be used against this. Adhere to the instructions and apply them as directed.\"}]')\n"
     ]
    }
   ],
   "source": [
    "# --- Verify Table 09 Data ---\n",
    "# This cell checks the row count and previews the first few entries to confirm successful import.\n",
    "try:\n",
    "    connection = mysql.connector.connect(**db_config)\n",
    "    if connection.is_connected():\n",
    "        cursor = connection.cursor()\n",
    "        \n",
    "        # Get the total number of rows in the table\n",
    "        cursor.execute(\"SELECT COUNT(*) FROM Table09_PlantDiseaseTable\")\n",
    "        row_count = cursor.fetchone()[0]\n",
    "        print(f\"Table09_PlantDiseaseTable currently contains {row_count} rows.\")\n",
    "        \n",
    "        # Fetch and print the first 5 rows for a quick preview\n",
    "        print(\"\\n--- Preview of first 5 rows from Table09 ---\")\n",
    "        cursor.execute(\"SELECT * FROM Table09_PlantDiseaseTable LIMIT 5\")\n",
    "        rows = cursor.fetchall()\n",
    "        for row in rows:\n",
    "            print(row)\n",
    "            \n",
    "except Error as e:\n",
    "    print(f\"Error occurred during Table09 verification: {e}\")\n",
    "    \n",
    "finally:\n",
    "    # Ensure the connection is closed\n",
    "    if 'connection' in locals() and connection.is_connected():\n",
    "        cursor.close()\n",
    "        connection.close()"
   ]
  },
  {
   "cell_type": "markdown",
   "metadata": {},
   "source": [
    "## Step 7 - Import Plant Disease Image Table (Table10) into MySQL"
   ]
  },
  {
   "cell_type": "code",
   "execution_count": 86,
   "metadata": {},
   "outputs": [
    {
     "name": "stdout",
     "output_type": "stream",
     "text": [
      "\n",
      "Successfully connected to MySQL server for Table10 import.\n",
      "Table10 data import successful! 96 rows affected.\n",
      "MySQL connection for Table10 closed.\n"
     ]
    }
   ],
   "source": [
    "# --- Import Plant Disease Image Table (Table 10) into MySQL ---\n",
    "try:\n",
    "    connection = mysql.connector.connect(**db_config)\n",
    "    if connection.is_connected():\n",
    "        print(\"\\nSuccessfully connected to MySQL server for Table10 import.\")\n",
    "        cursor = connection.cursor()\n",
    "        \n",
    "        # Define the query to load data from the image CSV into its table\n",
    "        load_data_query_10 = f\"\"\"\n",
    "        LOAD DATA LOCAL INFILE '02_wrangled_data/Table10_PlantDiseaseImageTable.csv'\n",
    "        INTO TABLE Table10_PlantDiseaseImageTable\n",
    "        CHARACTER SET utf8mb4\n",
    "        FIELDS TERMINATED BY ','\n",
    "        OPTIONALLY ENCLOSED BY '\"'\n",
    "        LINES TERMINATED BY '\\\\r\\\\n'\n",
    "        IGNORE 1 LINES\n",
    "        (\n",
    "            plant_disease_id, regular_url_image, thumbnail_image\n",
    "        );\n",
    "        \"\"\"\n",
    "        \n",
    "        cursor.execute(load_data_query_10)\n",
    "        connection.commit()\n",
    "        print(f\"Table10 data import successful! {cursor.rowcount} rows affected.\")\n",
    "\n",
    "except Error as e:\n",
    "    print(f\"Error occurred during Table10 import: {e}\")\n",
    "\n",
    "finally:\n",
    "    # Ensure the connection is closed\n",
    "    if 'connection' in locals() and connection.is_connected():\n",
    "        cursor.close()\n",
    "        connection.close()\n",
    "        print(\"MySQL connection for Table10 closed.\")"
   ]
  },
  {
   "cell_type": "markdown",
   "metadata": {},
   "source": [
    "## Step 8 - Verify Imported Rows and Preview (Table10)"
   ]
  },
  {
   "cell_type": "code",
   "execution_count": 87,
   "metadata": {},
   "outputs": [
    {
     "name": "stdout",
     "output_type": "stream",
     "text": [
      "Table10_PlantDiseaseImageTable currently contains 96 rows.\n",
      "\n",
      "--- Preview of first 5 rows from Table10 ---\n",
      "(1, 'https://perenual.com/storage/species_disease/1_a/regular/Fairy_ring_-_geograph.org.uk_-_1057031.jpg', 'https://perenual.com/storage/species_disease/1_a/thumbnail/Fairy_ring_-_geograph.org.uk_-_1057031.jpg')\n",
      "(2, 'https://perenual.com/storage/species_disease/2__panaeolus_foenisecii_/regular/Panaeolus_foenisecii_124316833.jpg', 'https://perenual.com/storage/species_disease/2__panaeolus_foenisecii_/thumbnail/Panaeolus_foenisecii_124316833.jpg')\n",
      "(3, 'https://perenual.com/storage/species_disease/3_p/regular/Monographella_nivalis-2013-Brno-4.jpg', 'https://perenual.com/storage/species_disease/3_p/thumbnail/Monographella_nivalis-2013-Brno-4.jpg')\n",
      "(4, 'https://perenual.com/storage/species_disease/4_c/regular/Coprinus_comatus-2_hg.jpg', 'https://perenual.com/storage/species_disease/4_c/thumbnail/Coprinus_comatus-2_hg.jpg')\n",
      "(5, 'https://perenual.com/storage/species_disease/5_e/regular/Blumeria_graminis_on_winter_wheat.jpg', 'https://perenual.com/storage/species_disease/5_e/thumbnail/Blumeria_graminis_on_winter_wheat.jpg')\n"
     ]
    }
   ],
   "source": [
    "# --- Verify Table 10 Data ---\n",
    "# This cell checks the row count and previews the first few entries to confirm successful import.\n",
    "try:\n",
    "    connection = mysql.connector.connect(**db_config)\n",
    "    if connection.is_connected():\n",
    "        cursor = connection.cursor()\n",
    "        \n",
    "        # Get the total number of rows in the table\n",
    "        cursor.execute(\"SELECT COUNT(*) FROM Table10_PlantDiseaseImageTable\")\n",
    "        row_count = cursor.fetchone()[0]\n",
    "        print(f\"Table10_PlantDiseaseImageTable currently contains {row_count} rows.\")\n",
    "        \n",
    "        # Fetch and print the first 5 rows for a quick preview\n",
    "        print(\"\\n--- Preview of first 5 rows from Table10 ---\")\n",
    "        cursor.execute(\"SELECT * FROM Table10_PlantDiseaseImageTable LIMIT 5\")\n",
    "        rows = cursor.fetchall()\n",
    "        for row in rows:\n",
    "            print(row)\n",
    "            \n",
    "except Error as e:\n",
    "    print(f\"Error occurred during Table10 verification: {e}\")\n",
    "    \n",
    "finally:\n",
    "    # Ensure the connection is closed\n",
    "    if 'connection' in locals() and connection.is_connected():\n",
    "        cursor.close()\n",
    "        connection.close()"
   ]
  }
 ],
 "metadata": {
  "kernelspec": {
   "display_name": "python_for_data_analysis",
   "language": "python",
   "name": "python3"
  },
  "language_info": {
   "codemirror_mode": {
    "name": "ipython",
    "version": 3
   },
   "file_extension": ".py",
   "mimetype": "text/x-python",
   "name": "python",
   "nbconvert_exporter": "python",
   "pygments_lexer": "ipython3",
   "version": "3.10.16"
  },
  "orig_nbformat": 4
 },
 "nbformat": 4,
 "nbformat_minor": 2
}
