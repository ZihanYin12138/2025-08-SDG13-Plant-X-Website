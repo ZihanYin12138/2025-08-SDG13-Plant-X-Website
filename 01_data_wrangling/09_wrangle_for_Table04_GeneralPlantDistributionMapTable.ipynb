{
 "cells": [
  {
   "cell_type": "code",
   "execution_count": 4,
   "id": "4f5c7fdd",
   "metadata": {},
   "outputs": [],
   "source": [
    "import os\n",
    "import json\n",
    "import pandas as pd\n",
    "from glob import glob\n",
    "\n",
    "# Paths\n",
    "html_dir = \"01_raw_data/03_hardiness_map\"\n",
    "output_path = \"02_wrangled_data/Table04_GeneralPlantDistributionMapTable.csv\""
   ]
  },
  {
   "cell_type": "code",
   "execution_count": 5,
   "id": "f08cc10c",
   "metadata": {},
   "outputs": [],
   "source": [
    "# Extract distribution map info\n",
    "html_files = glob(os.path.join(html_dir, \"plant_species_hardiness_map_*.html\"))\n",
    "\n",
    "records = []\n",
    "for file in html_files:\n",
    "    basename = os.path.basename(file)\n",
    "    try:\n",
    "        # 从文件名中提取植物 ID\n",
    "        general_plant_id = int(basename.split(\"_\")[-1].split(\".\")[0])\n",
    "        \n",
    "        # 读取 HTML 文件内容\n",
    "        with open(file, 'r', encoding='utf-8') as f:\n",
    "            html_content = f.read()\n",
    "        \n",
    "        # 将植物 ID 和 HTML 内容添加到记录中\n",
    "        records.append({\n",
    "            \"general_plant_id\": general_plant_id,\n",
    "            \"distribution_map_html\": html_content  # 存储 HTML 内容而不是文件路径\n",
    "        })\n",
    "    except (ValueError, IndexError) as e:\n",
    "        print(f\"跳过格式错误的文件: {basename}, 错误: {e}\")\n",
    "        continue"
   ]
  },
  {
   "cell_type": "code",
   "execution_count": 6,
   "id": "f06e5631",
   "metadata": {},
   "outputs": [
    {
     "name": "stdout",
     "output_type": "stream",
     "text": [
      "成功处理 495 个HTML文件，已保存到 02_wrangled_data/Table04_GeneralPlantDistributionMapTable.csv\n"
     ]
    }
   ],
   "source": [
    "# 创建 DataFrame 并排序\n",
    "df = pd.DataFrame(records)\n",
    "df = df.sort_values(by=\"general_plant_id\").reset_index(drop=True)\n",
    "df[\"general_plant_id\"] = pd.to_numeric(df[\"general_plant_id\"], errors=\"coerce\").astype(\"Int64\")\n",
    "\n",
    "# 保存到 CSV\n",
    "os.makedirs(os.path.dirname(output_path), exist_ok=True)\n",
    "df.to_csv(output_path, index=False, encoding='utf-8')\n",
    "\n",
    "print(f\"成功处理 {len(records)} 个HTML文件，已保存到 {output_path}\")"
   ]
  }
 ],
 "metadata": {
  "kernelspec": {
   "display_name": "base",
   "language": "python",
   "name": "python3"
  },
  "language_info": {
   "codemirror_mode": {
    "name": "ipython",
    "version": 3
   },
   "file_extension": ".py",
   "mimetype": "text/x-python",
   "name": "python",
   "nbconvert_exporter": "python",
   "pygments_lexer": "ipython3",
   "version": "3.10.16"
  }
 },
 "nbformat": 4,
 "nbformat_minor": 5
}
