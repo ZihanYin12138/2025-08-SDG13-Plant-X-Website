{
 "cells": [
  {
   "cell_type": "markdown",
   "id": "80f3b003",
   "metadata": {},
   "source": [
    "# General Plant Distribution Map Assembly and Database Import\n",
    "\n",
    "Name: Zihan"
   ]
  },
  {
   "cell_type": "markdown",
   "id": "3994a5cc",
   "metadata": {},
   "source": [
    "## Step 1 - Imports and Path Setup"
   ]
  },
  {
   "cell_type": "code",
   "execution_count": 9,
   "id": "4f5c7fdd",
   "metadata": {},
   "outputs": [],
   "source": [
    "import os\n",
    "import json\n",
    "import pandas as pd\n",
    "from glob import glob\n",
    "\n",
    "# Paths\n",
    "html_dir = \"01_raw_data/03_hardiness_map\"\n",
    "output_path = \"02_wrangled_data/Table04_GeneralPlantDistributionMapTable.csv\""
   ]
  },
  {
   "cell_type": "markdown",
   "id": "d6b8f537",
   "metadata": {},
   "source": [
    "## Step 2 - Extract Distribution Map HTML from Files"
   ]
  },
  {
   "cell_type": "code",
   "execution_count": 10,
   "id": "f08cc10c",
   "metadata": {},
   "outputs": [],
   "source": [
    "# Extract distribution map info\n",
    "html_files = glob(os.path.join(html_dir, \"plant_species_hardiness_map_*.html\"))\n",
    "\n",
    "records = []\n",
    "for file in html_files:\n",
    "    basename = os.path.basename(file)\n",
    "    try:\n",
    "        # Extract plant ID from the filename\n",
    "        general_plant_id = int(basename.split(\"_\")[-1].split(\".\")[0])\n",
    "        \n",
    "        # Read HTML file content\n",
    "        with open(file, 'r', encoding='utf-8') as f:\n",
    "            html_content = f.read()\n",
    "        \n",
    "        # Store plant ID and the HTML content (not the file path)\n",
    "        records.append({\n",
    "            \"general_plant_id\": general_plant_id,\n",
    "            \"distribution_map_html\": html_content\n",
    "        })\n",
    "    except (ValueError, IndexError) as e:\n",
    "        print(f\"Skipping malformed file: {basename}, error: {e}\")\n",
    "        continue"
   ]
  },
  {
   "cell_type": "markdown",
   "id": "0ea5cab7",
   "metadata": {},
   "source": [
    "## Step 3 - Build DataFrame and Save CSV (CRLF)"
   ]
  },
  {
   "cell_type": "code",
   "execution_count": 11,
   "id": "f06e5631",
   "metadata": {},
   "outputs": [
    {
     "name": "stdout",
     "output_type": "stream",
     "text": [
      "Successfully processed 593 HTML files and saved to 02_wrangled_data/Table04_GeneralPlantDistributionMapTable.csv\n"
     ]
    }
   ],
   "source": [
    "# Create DataFrame and sort\n",
    "df = pd.DataFrame(records)\n",
    "df = df.sort_values(by=\"general_plant_id\").reset_index(drop=True)\n",
    "df[\"general_plant_id\"] = pd.to_numeric(df[\"general_plant_id\"], errors=\"coerce\").astype(\"Int64\")\n",
    "\n",
    "# Save to CSV\n",
    "os.makedirs(os.path.dirname(output_path), exist_ok=True)\n",
    "df.to_csv(output_path, index=False, encoding='utf-8', lineterminator='\\r\\n')\n",
    "\n",
    "print(f\"Successfully processed {len(records)} HTML files and saved to {output_path}\")"
   ]
  },
  {
   "cell_type": "markdown",
   "id": "3c24768c",
   "metadata": {},
   "source": [
    "## Step 4 - 1st Spot-Check a Saved HTML Snippet"
   ]
  },
  {
   "cell_type": "code",
   "execution_count": 12,
   "id": "cb63cb1a",
   "metadata": {},
   "outputs": [
    {
     "name": "stdout",
     "output_type": "stream",
     "text": [
      "Temporary file created: C:\\Users\\zyyin1\\AppData\\Local\\Temp\\tmp8b9moe48.html\n"
     ]
    }
   ],
   "source": [
    "import pandas as pd\n",
    "import tempfile\n",
    "import os\n",
    "import webbrowser\n",
    "\n",
    "# Read the CSV file\n",
    "csv_path = \"02_wrangled_data/Table04_GeneralPlantDistributionMapTable.csv\"\n",
    "df = pd.read_csv(csv_path)\n",
    "\n",
    "# Choose a plant ID to verify (e.g., the 78th row, index 77)\n",
    "plant_id = df.iloc[77]['general_plant_id']\n",
    "html_content = df.iloc[77]['distribution_map_html']\n",
    "\n",
    "# Create a temporary HTML file\n",
    "with tempfile.NamedTemporaryFile(mode='w', suffix='.html', delete=False, encoding='utf-8') as f:\n",
    "    f.write(html_content)\n",
    "    temp_file = f.name\n",
    "\n",
    "print(f\"Temporary file created: {temp_file}\")\n",
    "\n",
    "# Open in the default browser\n",
    "webbrowser.open('file://' + os.path.realpath(temp_file))\n",
    "\n",
    "# Optionally wait for user input before deleting the temporary file\n",
    "input(\"Press Enter to delete the temporary file...\")\n",
    "os.unlink(temp_file)"
   ]
  },
  {
   "cell_type": "markdown",
   "id": "ab3dc2ab",
   "metadata": {},
   "source": [
    "## Step 5 - Verify Line Endings"
   ]
  },
  {
   "cell_type": "code",
   "execution_count": 13,
   "id": "c83e3845",
   "metadata": {},
   "outputs": [
    {
     "name": "stdout",
     "output_type": "stream",
     "text": [
      "CSV uses CRLF (\\r\\n) line endings\n"
     ]
    }
   ],
   "source": [
    "# Verify line terminator\n",
    "with open(output_path, 'rb') as f:\n",
    "    content = f.read()\n",
    "    \n",
    "if b'\\r\\n' in content:\n",
    "    print(\"CSV uses CRLF (\\\\r\\\\n) line endings\")\n",
    "elif b'\\n' in content:\n",
    "    print(\"CSV uses LF (\\\\n) line endings\")\n",
    "else:\n",
    "    print(\"Unable to determine line ending type\")"
   ]
  },
  {
   "cell_type": "markdown",
   "id": "94770a84",
   "metadata": {},
   "source": [
    "## Step 6 - Inspect First Bytes for Line Ending Check"
   ]
  },
  {
   "cell_type": "code",
   "execution_count": 14,
   "id": "7306779b",
   "metadata": {},
   "outputs": [
    {
     "name": "stdout",
     "output_type": "stream",
     "text": [
      "File header (hex):\n",
      "67656e6572616c5f706c616e745f69642c646973747269627574696f6e5f6d61705f68746d6c0d0a312c223c21444f43545950452068746d6c3e0a3c68746d6c206c616e673d2222656e22223e0a202020203c686561643e0a0a20202020202020203c212d2d203630202d2d3e0a20202020202020200a20202020202020203c6d657461206e616d653d2222726f626f7473222220636f6e74656e743d22226e6f696e6465782c206e6f666f6c6c6f7722223e0a0a20202020202020203c212d2d204c69766577697265205374796c6573202d2d3e3c7374796c65203e5b776972655c3a6c6f6164696e675d5b776972655c3a6c6f6164696e675d2c205b776972655c3a6c6f6164696e675c2e64656c61795d5b776972655c3a6c6f6164696e675c2e64656c61795d2c205b776972655c3a6c6f6164696e675c2e696e6c696e652d626c6f636b5d5b776972655c3a6c6f6164696e675c2e696e6c696e652d626c6f636b5d2c205b776972655c3a6c6f6164696e675c2e696e6c696e655d5b776972655c3a6c6f6164696e675c2e696e6c696e655d2c205b776972655c3a6c6f6164696e675c2e626c6f636b5d5b776972655c3a6c6f6164696e675c2e626c6f636b5d2c205b776972655c3a6c6f6164696e675c2e666c65785d5b776972655c3a6c6f6164696e675c2e666c65785d2c205b7769\n",
      "\n",
      "File header (ASCII; non-printable characters shown as escape sequences):\n",
      "general_plant_id,distribution_map_html\\r\\n1,\"<!DOCTYPE html>\\n<html lang=\"\"en\"\">\\n    <head>\\n\\n        <!-- 60 -->\\n        \\n        <meta name=\"\"robots\"\" content=\"\"noindex, nofollow\"\">\\n\\n        <!-- Livewire Styles --><style >[wire\\:loading][wire\\:loading], [wire\\:loading\\.delay][wire\\:loading\\.delay], [wire\\:loading\\.inline-block][wire\\:loading\\.inline-block], [wire\\:loading\\.inline][wire\\:loading\\.inline], [wire\\:loading\\.block][wire\\:loading\\.block], [wire\\:loading\\.flex][wire\\:loading\\.flex], [wi\n"
     ]
    }
   ],
   "source": [
    "# Read the first few hundred bytes to inspect line endings\n",
    "with open(output_path, 'rb') as f:\n",
    "    first_chunk = f.read(500)  # first 500 bytes\n",
    "    \n",
    "print(\"File header (hex):\")\n",
    "print(first_chunk.hex())\n",
    "\n",
    "print(\"\\nFile header (ASCII; non-printable characters shown as escape sequences):\")\n",
    "# Convert bytes to a readable form, showing special chars as escapes\n",
    "readable = first_chunk.replace(b'\\r', br'\\r').replace(b'\\n', br'\\n')\n",
    "print(readable.decode('utf-8', errors='ignore'))"
   ]
  },
  {
   "cell_type": "markdown",
   "id": "542ddadd",
   "metadata": {},
   "source": [
    "## Step 7 - Import Distribution Map Table into MySQL"
   ]
  },
  {
   "cell_type": "code",
   "execution_count": 15,
   "id": "1d45ae21",
   "metadata": {},
   "outputs": [
    {
     "name": "stdout",
     "output_type": "stream",
     "text": [
      "Successfully connected to MySQL server\n",
      "Data import successful! 0 rows affected.\n",
      "MySQL connection closed.\n"
     ]
    }
   ],
   "source": [
    "import mysql.connector\n",
    "from mysql.connector import Error\n",
    "\n",
    "# Database connection configuration\n",
    "db_config = {\n",
    "    'host': 'database-plantx.cqz06uycysiz.us-east-1.rds.amazonaws.com',\n",
    "    'user': 'zihan',\n",
    "    'password': '2002317Yzh12138.',\n",
    "    'database': 'FIT5120_PlantX_Database',\n",
    "    'allow_local_infile': True,\n",
    "    'use_pure': True  # Use pure Python implementation\n",
    "}\n",
    "\n",
    "try:\n",
    "    # Establish connection\n",
    "    connection = mysql.connector.connect(**db_config)\n",
    "    \n",
    "    if connection.is_connected():\n",
    "        print(\"Successfully connected to MySQL server\")\n",
    "        \n",
    "        # Create cursor\n",
    "        cursor = connection.cursor()\n",
    "        \n",
    "        # truncate_query = \"TRUNCATE TABLE Table04_GeneralPlantDistributionMapTable;\"\n",
    "        # cursor.execute(truncate_query)\n",
    "        # print(\"Existing rows truncated.\")\n",
    "        \n",
    "        # Construct LOAD DATA LOCAL INFILE command\n",
    "        load_data_query = \"\"\"\n",
    "        LOAD DATA LOCAL INFILE '02_wrangled_data/Table04_GeneralPlantDistributionMapTable.csv'\n",
    "        INTO TABLE Table04_GeneralPlantDistributionMapTable\n",
    "        CHARACTER SET utf8mb4\n",
    "        FIELDS TERMINATED BY ',' \n",
    "        OPTIONALLY ENCLOSED BY '\"'\n",
    "        LINES TERMINATED BY '\\\\r\\\\n'\n",
    "        IGNORE 1 LINES\n",
    "        (   \n",
    "            general_plant_id, distribution_map_html\n",
    "        );\n",
    "        \"\"\"\n",
    "        \n",
    "        # Execute command\n",
    "        cursor.execute(load_data_query)\n",
    "        connection.commit()  # Commit transaction\n",
    "        \n",
    "        print(f\"Data import successful! {cursor.rowcount} rows affected.\")\n",
    "        \n",
    "except Error as e:\n",
    "    print(f\"Error occurred during execution: {e}\")\n",
    "    \n",
    "finally:\n",
    "    # Close connection\n",
    "    if connection.is_connected():\n",
    "        cursor.close()\n",
    "        connection.close()\n",
    "        print(\"MySQL connection closed.\")"
   ]
  },
  {
   "cell_type": "markdown",
   "id": "a33ac746",
   "metadata": {},
   "source": [
    "## Step 8 - Verify Imported Rows and Preview"
   ]
  },
  {
   "cell_type": "code",
   "execution_count": 16,
   "id": "1048b66d",
   "metadata": {},
   "outputs": [
    {
     "name": "stdout",
     "output_type": "stream",
     "text": [
      "The table currently contains 593 rows\n",
      "(1, '<!DOCTYPE html>\\n<html lang=\"en\">\\n    <head>\\n\\n        <!-- 60 -->\\n        \\n        <meta name=\"robots\" content=\"noindex, nofollow\">\\n\\n        <!-- Livewire Styles --><style >[wire:loading][wire:loading], [wire:loading.delay][wire:loading.delay], [wire:loading.inline-block][wire:loading.inline-block], [wire:loading.inline][wire:loading.inline], [wire:loading.block][wire:loading.block], [wire:loading.flex][wire:loading.flex], [wire:loading.table][wire:loading.table], [wire:loading.grid][wire:loading.grid], [wire:loading.inline-flex][wire:loading.inline-flex] {display: none;}[wire:loading.delay.none][wire:loading.delay.none], [wire:loading.delay.shortest][wire:loading.delay.shortest], [wire:loading.delay.shorter][wire:loading.delay.shorter], [wire:loading.delay.short][wire:loading.delay.short], [wire:loading.delay.default][wire:loading.delay.default], [wire:loading.delay.long][wire:loading.delay.long], [wire:loading.delay.longer][wire:loading.delay.longer], [wire:loading.delay.longest][wire:loading.delay.longest] {display: none;}[wire:offline][wire:offline] {display: none;}[wire:dirty]:not(textarea):not(input):not(select) {display: none;}:root {--livewire-progress-bar-color: #2299dd;}[x-cloak] {display: none !important;}</style>\\n\\n        <!-- Script -->\\n        <script >window.Wireui = {cache: {},hook(hook, callback) {window.addEventListener(`wireui:${hook}`, () => callback())},dispatchHook(hook) {window.dispatchEvent(new Event(`wireui:${hook}`))}}</script>\\n<script src=\"https://perenual.com/wireui/assets/scripts?id=5dda7be9cac61c5885776c4a03411770\" defer ></script>\\n\\n        <link rel=\"preload\" as=\"style\" href=\"https://perenual.com/build/assets/app-Dy9tYsF4.css\" /><link rel=\"modulepreload\" href=\"https://perenual.com/build/assets/app-Xaw6OIO1.js\" /><link rel=\"stylesheet\" href=\"https://perenual.com/build/assets/app-Dy9tYsF4.css\" data-navigate-track=\"reload\" /><script type=\"module\" src=\"https://perenual.com/build/assets/app-Xaw6OIO1.js\" data-navigate-track=\"reload\"></script>\\n<script>\\n     window.addEventListener(\\'load\\', () => window.setTimeout(() => {\\n        const makeLink = (asset) => {\\n            const link = document.createElement(\\'link\\')\\n\\n            Object.keys(asset).forEach((attribute) => {\\n                link.setAttribute(attribute, asset[attribute])\\n            })\\n\\n            return link\\n        }\\n\\n        const loadNext = (assets, count) => window.setTimeout(() => {\\n            if (count > assets.length) {\\n                count = assets.length\\n\\n                if (count === 0) {\\n                    return\\n                }\\n            }\\n\\n            const fragment = new DocumentFragment\\n\\n            while (count > 0) {\\n                const link = makeLink(assets.shift())\\n                fragment.append(link)\\n                count--\\n\\n                if (assets.length) {\\n                    link.onload = () => loadNext(assets, 1)\\n                    link.onerror = () => loadNext(assets, 1)\\n                }\\n            }\\n\\n            document.head.append(fragment)\\n        })\\n\\n        loadNext([], 3)\\n    }))\\n</script>\\n    </head>\\n    \\n    <div>\\n        <div wire:snapshot=\"{&quot;data&quot;:{&quot;zone&quot;:[{&quot;min&quot;:7,&quot;max&quot;:7},{&quot;s&quot;:&quot;arr&quot;}],&quot;size&quot;:&quot;lg&quot;,&quot;species_id&quot;:1},&quot;memo&quot;:{&quot;id&quot;:&quot;69qUc7Z3doCLBeuU1zDA&quot;,&quot;name&quot;:&quot;hardiness.map&quot;,&quot;path&quot;:&quot;api/hardiness-map&quot;,&quot;method&quot;:&quot;GET&quot;,&quot;children&quot;:[],&quot;scripts&quot;:[],&quot;assets&quot;:[],&quot;errors&quot;:[],&quot;locale&quot;:&quot;en&quot;},&quot;checksum&quot;:&quot;b351b0112eba983337031779d6c36a65b1cb9bb410471ce997f9bca3dc3dd792&quot;}\" wire:effects=\"{&quot;url&quot;:{&quot;species_id&quot;:{&quot;as&quot;:&quot;species_id&quot;,&quot;use&quot;:&quot;push&quot;,&quot;alwaysShow&quot;:false,&quot;except&quot;:&quot;&quot;}}}\" wire:id=\"69qUc7Z3doCLBeuU1zDA\" class=\"relative\">\\n    \\n    <canvas id=\"myCanvas\" style=\"width: 100%; height: 100%;\"></canvas>\\n\\n    <script>\\n\\n        // Get the canvas element from the HTML\\n        const canvas = document.getElementById(\\'myCanvas\\');\\n        const ctx = canvas.getContext(\\'2d\\');\\n\\n        // Load the first image using the Image object to get its size\\n        const firstImageUrl = \"https://perenual.com/storage/image/hardiness/lg/0.png\";\\n        const firstImage = new Image();\\n        firstImage.onload = () => {\\n            // Set the canvas size to match the first image\\'s size\\n            canvas.width = firstImage.width;\\n            canvas.height = firstImage.height;\\n\\n            // Load the rest of the images and draw them onto the canvas\\n            const imageUrls = [\"https://perenual.com/storage/image/hardiness/lg/0.png\"];\\n\\n            for (var x = 7; x <= 7; x++) {\\n                const url = \"https://perenual.com/storage/image/hardiness/lg/\" + x + \".png\";\\n                imageUrls.push(url);\\n            }\\n\\n            for (let i = 0; i < imageUrls.length; i++) {\\n                const img = new Image();\\n                img.onload = () => {\\n                  // Set the global alpha value to 0.8 for all layers except for 0.png\\n                  if (i > 0) {\\n                    ctx.globalAlpha = 0.8;\\n                  }\\n                  ctx.drawImage(img, 0, 0);\\n                  // Reset the global alpha value to 1.0 for the next layer\\n                  ctx.globalAlpha = 1.0;\\n                };\\n                img.src = imageUrls[i];\\n              }\\n            };\\n            firstImage.src = firstImageUrl;\\n\\n    </script>\\n</div>    </div>\\n\\n<!-- Livewire Scripts -->\\n<script src=\"/livewire/livewire.js?id=951e6947\"   data-csrf=\"\" data-update-uri=\"/livewire/update\" data-navigate-once=\"true\"></script>\\n</html>\\n\\n')\n",
      "(2, '<!DOCTYPE html>\\n<html lang=\"en\">\\n    <head>\\n\\n        <!-- 60 -->\\n        \\n        <meta name=\"robots\" content=\"noindex, nofollow\">\\n\\n        <!-- Livewire Styles --><style >[wire:loading][wire:loading], [wire:loading.delay][wire:loading.delay], [wire:loading.inline-block][wire:loading.inline-block], [wire:loading.inline][wire:loading.inline], [wire:loading.block][wire:loading.block], [wire:loading.flex][wire:loading.flex], [wire:loading.table][wire:loading.table], [wire:loading.grid][wire:loading.grid], [wire:loading.inline-flex][wire:loading.inline-flex] {display: none;}[wire:loading.delay.none][wire:loading.delay.none], [wire:loading.delay.shortest][wire:loading.delay.shortest], [wire:loading.delay.shorter][wire:loading.delay.shorter], [wire:loading.delay.short][wire:loading.delay.short], [wire:loading.delay.default][wire:loading.delay.default], [wire:loading.delay.long][wire:loading.delay.long], [wire:loading.delay.longer][wire:loading.delay.longer], [wire:loading.delay.longest][wire:loading.delay.longest] {display: none;}[wire:offline][wire:offline] {display: none;}[wire:dirty]:not(textarea):not(input):not(select) {display: none;}:root {--livewire-progress-bar-color: #2299dd;}[x-cloak] {display: none !important;}</style>\\n\\n        <!-- Script -->\\n        <script >window.Wireui = {cache: {},hook(hook, callback) {window.addEventListener(`wireui:${hook}`, () => callback())},dispatchHook(hook) {window.dispatchEvent(new Event(`wireui:${hook}`))}}</script>\\n<script src=\"https://perenual.com/wireui/assets/scripts?id=5dda7be9cac61c5885776c4a03411770\" defer ></script>\\n\\n        <link rel=\"preload\" as=\"style\" href=\"https://perenual.com/build/assets/app-Dy9tYsF4.css\" /><link rel=\"modulepreload\" href=\"https://perenual.com/build/assets/app-Xaw6OIO1.js\" /><link rel=\"stylesheet\" href=\"https://perenual.com/build/assets/app-Dy9tYsF4.css\" data-navigate-track=\"reload\" /><script type=\"module\" src=\"https://perenual.com/build/assets/app-Xaw6OIO1.js\" data-navigate-track=\"reload\"></script>\\n<script>\\n     window.addEventListener(\\'load\\', () => window.setTimeout(() => {\\n        const makeLink = (asset) => {\\n            const link = document.createElement(\\'link\\')\\n\\n            Object.keys(asset).forEach((attribute) => {\\n                link.setAttribute(attribute, asset[attribute])\\n            })\\n\\n            return link\\n        }\\n\\n        const loadNext = (assets, count) => window.setTimeout(() => {\\n            if (count > assets.length) {\\n                count = assets.length\\n\\n                if (count === 0) {\\n                    return\\n                }\\n            }\\n\\n            const fragment = new DocumentFragment\\n\\n            while (count > 0) {\\n                const link = makeLink(assets.shift())\\n                fragment.append(link)\\n                count--\\n\\n                if (assets.length) {\\n                    link.onload = () => loadNext(assets, 1)\\n                    link.onerror = () => loadNext(assets, 1)\\n                }\\n            }\\n\\n            document.head.append(fragment)\\n        })\\n\\n        loadNext([], 3)\\n    }))\\n</script>\\n    </head>\\n    \\n    <div>\\n        <div wire:snapshot=\"{&quot;data&quot;:{&quot;zone&quot;:[{&quot;min&quot;:4,&quot;max&quot;:4},{&quot;s&quot;:&quot;arr&quot;}],&quot;size&quot;:&quot;lg&quot;,&quot;species_id&quot;:2},&quot;memo&quot;:{&quot;id&quot;:&quot;rpGSUMaaqJNBcS4qO9cm&quot;,&quot;name&quot;:&quot;hardiness.map&quot;,&quot;path&quot;:&quot;api/hardiness-map&quot;,&quot;method&quot;:&quot;GET&quot;,&quot;children&quot;:[],&quot;scripts&quot;:[],&quot;assets&quot;:[],&quot;errors&quot;:[],&quot;locale&quot;:&quot;en&quot;},&quot;checksum&quot;:&quot;d4b644d73636f493aa06cef579128b8980a5aae65763a40b4d47f8b923327056&quot;}\" wire:effects=\"{&quot;url&quot;:{&quot;species_id&quot;:{&quot;as&quot;:&quot;species_id&quot;,&quot;use&quot;:&quot;push&quot;,&quot;alwaysShow&quot;:false,&quot;except&quot;:&quot;&quot;}}}\" wire:id=\"rpGSUMaaqJNBcS4qO9cm\" class=\"relative\">\\n    \\n    <canvas id=\"myCanvas\" style=\"width: 100%; height: 100%;\"></canvas>\\n\\n    <script>\\n\\n        // Get the canvas element from the HTML\\n        const canvas = document.getElementById(\\'myCanvas\\');\\n        const ctx = canvas.getContext(\\'2d\\');\\n\\n        // Load the first image using the Image object to get its size\\n        const firstImageUrl = \"https://perenual.com/storage/image/hardiness/lg/0.png\";\\n        const firstImage = new Image();\\n        firstImage.onload = () => {\\n            // Set the canvas size to match the first image\\'s size\\n            canvas.width = firstImage.width;\\n            canvas.height = firstImage.height;\\n\\n            // Load the rest of the images and draw them onto the canvas\\n            const imageUrls = [\"https://perenual.com/storage/image/hardiness/lg/0.png\"];\\n\\n            for (var x = 4; x <= 4; x++) {\\n                const url = \"https://perenual.com/storage/image/hardiness/lg/\" + x + \".png\";\\n                imageUrls.push(url);\\n            }\\n\\n            for (let i = 0; i < imageUrls.length; i++) {\\n                const img = new Image();\\n                img.onload = () => {\\n                  // Set the global alpha value to 0.8 for all layers except for 0.png\\n                  if (i > 0) {\\n                    ctx.globalAlpha = 0.8;\\n                  }\\n                  ctx.drawImage(img, 0, 0);\\n                  // Reset the global alpha value to 1.0 for the next layer\\n                  ctx.globalAlpha = 1.0;\\n                };\\n                img.src = imageUrls[i];\\n              }\\n            };\\n            firstImage.src = firstImageUrl;\\n\\n    </script>\\n</div>    </div>\\n\\n<!-- Livewire Scripts -->\\n<script src=\"/livewire/livewire.js?id=951e6947\"   data-csrf=\"\" data-update-uri=\"/livewire/update\" data-navigate-once=\"true\"></script>\\n</html>\\n\\n')\n",
      "(3, '<!DOCTYPE html>\\n<html lang=\"en\">\\n    <head>\\n\\n        <!-- 60 -->\\n        \\n        <meta name=\"robots\" content=\"noindex, nofollow\">\\n\\n        <!-- Livewire Styles --><style >[wire:loading][wire:loading], [wire:loading.delay][wire:loading.delay], [wire:loading.inline-block][wire:loading.inline-block], [wire:loading.inline][wire:loading.inline], [wire:loading.block][wire:loading.block], [wire:loading.flex][wire:loading.flex], [wire:loading.table][wire:loading.table], [wire:loading.grid][wire:loading.grid], [wire:loading.inline-flex][wire:loading.inline-flex] {display: none;}[wire:loading.delay.none][wire:loading.delay.none], [wire:loading.delay.shortest][wire:loading.delay.shortest], [wire:loading.delay.shorter][wire:loading.delay.shorter], [wire:loading.delay.short][wire:loading.delay.short], [wire:loading.delay.default][wire:loading.delay.default], [wire:loading.delay.long][wire:loading.delay.long], [wire:loading.delay.longer][wire:loading.delay.longer], [wire:loading.delay.longest][wire:loading.delay.longest] {display: none;}[wire:offline][wire:offline] {display: none;}[wire:dirty]:not(textarea):not(input):not(select) {display: none;}:root {--livewire-progress-bar-color: #2299dd;}[x-cloak] {display: none !important;}</style>\\n\\n        <!-- Script -->\\n        <script >window.Wireui = {cache: {},hook(hook, callback) {window.addEventListener(`wireui:${hook}`, () => callback())},dispatchHook(hook) {window.dispatchEvent(new Event(`wireui:${hook}`))}}</script>\\n<script src=\"https://perenual.com/wireui/assets/scripts?id=5dda7be9cac61c5885776c4a03411770\" defer ></script>\\n\\n        <link rel=\"preload\" as=\"style\" href=\"https://perenual.com/build/assets/app-Dy9tYsF4.css\" /><link rel=\"modulepreload\" href=\"https://perenual.com/build/assets/app-Xaw6OIO1.js\" /><link rel=\"stylesheet\" href=\"https://perenual.com/build/assets/app-Dy9tYsF4.css\" data-navigate-track=\"reload\" /><script type=\"module\" src=\"https://perenual.com/build/assets/app-Xaw6OIO1.js\" data-navigate-track=\"reload\"></script>\\n<script>\\n     window.addEventListener(\\'load\\', () => window.setTimeout(() => {\\n        const makeLink = (asset) => {\\n            const link = document.createElement(\\'link\\')\\n\\n            Object.keys(asset).forEach((attribute) => {\\n                link.setAttribute(attribute, asset[attribute])\\n            })\\n\\n            return link\\n        }\\n\\n        const loadNext = (assets, count) => window.setTimeout(() => {\\n            if (count > assets.length) {\\n                count = assets.length\\n\\n                if (count === 0) {\\n                    return\\n                }\\n            }\\n\\n            const fragment = new DocumentFragment\\n\\n            while (count > 0) {\\n                const link = makeLink(assets.shift())\\n                fragment.append(link)\\n                count--\\n\\n                if (assets.length) {\\n                    link.onload = () => loadNext(assets, 1)\\n                    link.onerror = () => loadNext(assets, 1)\\n                }\\n            }\\n\\n            document.head.append(fragment)\\n        })\\n\\n        loadNext([], 3)\\n    }))\\n</script>\\n    </head>\\n    \\n    <div>\\n        <div wire:snapshot=\"{&quot;data&quot;:{&quot;zone&quot;:[{&quot;min&quot;:3,&quot;max&quot;:3},{&quot;s&quot;:&quot;arr&quot;}],&quot;size&quot;:&quot;lg&quot;,&quot;species_id&quot;:3},&quot;memo&quot;:{&quot;id&quot;:&quot;Gls2FwP8ElzSRj7QE3GY&quot;,&quot;name&quot;:&quot;hardiness.map&quot;,&quot;path&quot;:&quot;api/hardiness-map&quot;,&quot;method&quot;:&quot;GET&quot;,&quot;children&quot;:[],&quot;scripts&quot;:[],&quot;assets&quot;:[],&quot;errors&quot;:[],&quot;locale&quot;:&quot;en&quot;},&quot;checksum&quot;:&quot;edc98e56af04fa7b42c3dfae329fc398e4f924986a198e599b9b45726e9e7564&quot;}\" wire:effects=\"{&quot;url&quot;:{&quot;species_id&quot;:{&quot;as&quot;:&quot;species_id&quot;,&quot;use&quot;:&quot;push&quot;,&quot;alwaysShow&quot;:false,&quot;except&quot;:&quot;&quot;}}}\" wire:id=\"Gls2FwP8ElzSRj7QE3GY\" class=\"relative\">\\n    \\n    <canvas id=\"myCanvas\" style=\"width: 100%; height: 100%;\"></canvas>\\n\\n    <script>\\n\\n        // Get the canvas element from the HTML\\n        const canvas = document.getElementById(\\'myCanvas\\');\\n        const ctx = canvas.getContext(\\'2d\\');\\n\\n        // Load the first image using the Image object to get its size\\n        const firstImageUrl = \"https://perenual.com/storage/image/hardiness/lg/0.png\";\\n        const firstImage = new Image();\\n        firstImage.onload = () => {\\n            // Set the canvas size to match the first image\\'s size\\n            canvas.width = firstImage.width;\\n            canvas.height = firstImage.height;\\n\\n            // Load the rest of the images and draw them onto the canvas\\n            const imageUrls = [\"https://perenual.com/storage/image/hardiness/lg/0.png\"];\\n\\n            for (var x = 3; x <= 3; x++) {\\n                const url = \"https://perenual.com/storage/image/hardiness/lg/\" + x + \".png\";\\n                imageUrls.push(url);\\n            }\\n\\n            for (let i = 0; i < imageUrls.length; i++) {\\n                const img = new Image();\\n                img.onload = () => {\\n                  // Set the global alpha value to 0.8 for all layers except for 0.png\\n                  if (i > 0) {\\n                    ctx.globalAlpha = 0.8;\\n                  }\\n                  ctx.drawImage(img, 0, 0);\\n                  // Reset the global alpha value to 1.0 for the next layer\\n                  ctx.globalAlpha = 1.0;\\n                };\\n                img.src = imageUrls[i];\\n              }\\n            };\\n            firstImage.src = firstImageUrl;\\n\\n    </script>\\n</div>    </div>\\n\\n<!-- Livewire Scripts -->\\n<script src=\"/livewire/livewire.js?id=951e6947\"   data-csrf=\"\" data-update-uri=\"/livewire/update\" data-navigate-once=\"true\"></script>\\n</html>\\n\\n')\n",
      "(4, '<!DOCTYPE html>\\n<html lang=\"en\">\\n    <head>\\n\\n        <!-- 60 -->\\n        \\n        <meta name=\"robots\" content=\"noindex, nofollow\">\\n\\n        <!-- Livewire Styles --><style >[wire:loading][wire:loading], [wire:loading.delay][wire:loading.delay], [wire:loading.inline-block][wire:loading.inline-block], [wire:loading.inline][wire:loading.inline], [wire:loading.block][wire:loading.block], [wire:loading.flex][wire:loading.flex], [wire:loading.table][wire:loading.table], [wire:loading.grid][wire:loading.grid], [wire:loading.inline-flex][wire:loading.inline-flex] {display: none;}[wire:loading.delay.none][wire:loading.delay.none], [wire:loading.delay.shortest][wire:loading.delay.shortest], [wire:loading.delay.shorter][wire:loading.delay.shorter], [wire:loading.delay.short][wire:loading.delay.short], [wire:loading.delay.default][wire:loading.delay.default], [wire:loading.delay.long][wire:loading.delay.long], [wire:loading.delay.longer][wire:loading.delay.longer], [wire:loading.delay.longest][wire:loading.delay.longest] {display: none;}[wire:offline][wire:offline] {display: none;}[wire:dirty]:not(textarea):not(input):not(select) {display: none;}:root {--livewire-progress-bar-color: #2299dd;}[x-cloak] {display: none !important;}</style>\\n\\n        <!-- Script -->\\n        <script >window.Wireui = {cache: {},hook(hook, callback) {window.addEventListener(`wireui:${hook}`, () => callback())},dispatchHook(hook) {window.dispatchEvent(new Event(`wireui:${hook}`))}}</script>\\n<script src=\"https://perenual.com/wireui/assets/scripts?id=5dda7be9cac61c5885776c4a03411770\" defer ></script>\\n\\n        <link rel=\"preload\" as=\"style\" href=\"https://perenual.com/build/assets/app-Dy9tYsF4.css\" /><link rel=\"modulepreload\" href=\"https://perenual.com/build/assets/app-Xaw6OIO1.js\" /><link rel=\"stylesheet\" href=\"https://perenual.com/build/assets/app-Dy9tYsF4.css\" data-navigate-track=\"reload\" /><script type=\"module\" src=\"https://perenual.com/build/assets/app-Xaw6OIO1.js\" data-navigate-track=\"reload\"></script>\\n<script>\\n     window.addEventListener(\\'load\\', () => window.setTimeout(() => {\\n        const makeLink = (asset) => {\\n            const link = document.createElement(\\'link\\')\\n\\n            Object.keys(asset).forEach((attribute) => {\\n                link.setAttribute(attribute, asset[attribute])\\n            })\\n\\n            return link\\n        }\\n\\n        const loadNext = (assets, count) => window.setTimeout(() => {\\n            if (count > assets.length) {\\n                count = assets.length\\n\\n                if (count === 0) {\\n                    return\\n                }\\n            }\\n\\n            const fragment = new DocumentFragment\\n\\n            while (count > 0) {\\n                const link = makeLink(assets.shift())\\n                fragment.append(link)\\n                count--\\n\\n                if (assets.length) {\\n                    link.onload = () => loadNext(assets, 1)\\n                    link.onerror = () => loadNext(assets, 1)\\n                }\\n            }\\n\\n            document.head.append(fragment)\\n        })\\n\\n        loadNext([], 3)\\n    }))\\n</script>\\n    </head>\\n    \\n    <div>\\n        <div wire:snapshot=\"{&quot;data&quot;:{&quot;zone&quot;:[{&quot;min&quot;:4,&quot;max&quot;:4},{&quot;s&quot;:&quot;arr&quot;}],&quot;size&quot;:&quot;lg&quot;,&quot;species_id&quot;:4},&quot;memo&quot;:{&quot;id&quot;:&quot;Ws6QLut07Syy1vxXYi8d&quot;,&quot;name&quot;:&quot;hardiness.map&quot;,&quot;path&quot;:&quot;api/hardiness-map&quot;,&quot;method&quot;:&quot;GET&quot;,&quot;children&quot;:[],&quot;scripts&quot;:[],&quot;assets&quot;:[],&quot;errors&quot;:[],&quot;locale&quot;:&quot;en&quot;},&quot;checksum&quot;:&quot;5dfec768b5899f41e215f33437f46e6038f19e50982bbb51f3b1a4c43bde4746&quot;}\" wire:effects=\"{&quot;url&quot;:{&quot;species_id&quot;:{&quot;as&quot;:&quot;species_id&quot;,&quot;use&quot;:&quot;push&quot;,&quot;alwaysShow&quot;:false,&quot;except&quot;:&quot;&quot;}}}\" wire:id=\"Ws6QLut07Syy1vxXYi8d\" class=\"relative\">\\n    \\n    <canvas id=\"myCanvas\" style=\"width: 100%; height: 100%;\"></canvas>\\n\\n    <script>\\n\\n        // Get the canvas element from the HTML\\n        const canvas = document.getElementById(\\'myCanvas\\');\\n        const ctx = canvas.getContext(\\'2d\\');\\n\\n        // Load the first image using the Image object to get its size\\n        const firstImageUrl = \"https://perenual.com/storage/image/hardiness/lg/0.png\";\\n        const firstImage = new Image();\\n        firstImage.onload = () => {\\n            // Set the canvas size to match the first image\\'s size\\n            canvas.width = firstImage.width;\\n            canvas.height = firstImage.height;\\n\\n            // Load the rest of the images and draw them onto the canvas\\n            const imageUrls = [\"https://perenual.com/storage/image/hardiness/lg/0.png\"];\\n\\n            for (var x = 4; x <= 4; x++) {\\n                const url = \"https://perenual.com/storage/image/hardiness/lg/\" + x + \".png\";\\n                imageUrls.push(url);\\n            }\\n\\n            for (let i = 0; i < imageUrls.length; i++) {\\n                const img = new Image();\\n                img.onload = () => {\\n                  // Set the global alpha value to 0.8 for all layers except for 0.png\\n                  if (i > 0) {\\n                    ctx.globalAlpha = 0.8;\\n                  }\\n                  ctx.drawImage(img, 0, 0);\\n                  // Reset the global alpha value to 1.0 for the next layer\\n                  ctx.globalAlpha = 1.0;\\n                };\\n                img.src = imageUrls[i];\\n              }\\n            };\\n            firstImage.src = firstImageUrl;\\n\\n    </script>\\n</div>    </div>\\n\\n<!-- Livewire Scripts -->\\n<script src=\"/livewire/livewire.js?id=951e6947\"   data-csrf=\"\" data-update-uri=\"/livewire/update\" data-navigate-once=\"true\"></script>\\n</html>\\n\\n')\n",
      "(5, '<!DOCTYPE html>\\n<html lang=\"en\">\\n    <head>\\n\\n        <!-- 60 -->\\n        \\n        <meta name=\"robots\" content=\"noindex, nofollow\">\\n\\n        <!-- Livewire Styles --><style >[wire:loading][wire:loading], [wire:loading.delay][wire:loading.delay], [wire:loading.inline-block][wire:loading.inline-block], [wire:loading.inline][wire:loading.inline], [wire:loading.block][wire:loading.block], [wire:loading.flex][wire:loading.flex], [wire:loading.table][wire:loading.table], [wire:loading.grid][wire:loading.grid], [wire:loading.inline-flex][wire:loading.inline-flex] {display: none;}[wire:loading.delay.none][wire:loading.delay.none], [wire:loading.delay.shortest][wire:loading.delay.shortest], [wire:loading.delay.shorter][wire:loading.delay.shorter], [wire:loading.delay.short][wire:loading.delay.short], [wire:loading.delay.default][wire:loading.delay.default], [wire:loading.delay.long][wire:loading.delay.long], [wire:loading.delay.longer][wire:loading.delay.longer], [wire:loading.delay.longest][wire:loading.delay.longest] {display: none;}[wire:offline][wire:offline] {display: none;}[wire:dirty]:not(textarea):not(input):not(select) {display: none;}:root {--livewire-progress-bar-color: #2299dd;}[x-cloak] {display: none !important;}</style>\\n\\n        <!-- Script -->\\n        <script >window.Wireui = {cache: {},hook(hook, callback) {window.addEventListener(`wireui:${hook}`, () => callback())},dispatchHook(hook) {window.dispatchEvent(new Event(`wireui:${hook}`))}}</script>\\n<script src=\"https://perenual.com/wireui/assets/scripts?id=5dda7be9cac61c5885776c4a03411770\" defer ></script>\\n\\n        <link rel=\"preload\" as=\"style\" href=\"https://perenual.com/build/assets/app-Dy9tYsF4.css\" /><link rel=\"modulepreload\" href=\"https://perenual.com/build/assets/app-Xaw6OIO1.js\" /><link rel=\"stylesheet\" href=\"https://perenual.com/build/assets/app-Dy9tYsF4.css\" data-navigate-track=\"reload\" /><script type=\"module\" src=\"https://perenual.com/build/assets/app-Xaw6OIO1.js\" data-navigate-track=\"reload\"></script>\\n<script>\\n     window.addEventListener(\\'load\\', () => window.setTimeout(() => {\\n        const makeLink = (asset) => {\\n            const link = document.createElement(\\'link\\')\\n\\n            Object.keys(asset).forEach((attribute) => {\\n                link.setAttribute(attribute, asset[attribute])\\n            })\\n\\n            return link\\n        }\\n\\n        const loadNext = (assets, count) => window.setTimeout(() => {\\n            if (count > assets.length) {\\n                count = assets.length\\n\\n                if (count === 0) {\\n                    return\\n                }\\n            }\\n\\n            const fragment = new DocumentFragment\\n\\n            while (count > 0) {\\n                const link = makeLink(assets.shift())\\n                fragment.append(link)\\n                count--\\n\\n                if (assets.length) {\\n                    link.onload = () => loadNext(assets, 1)\\n                    link.onerror = () => loadNext(assets, 1)\\n                }\\n            }\\n\\n            document.head.append(fragment)\\n        })\\n\\n        loadNext([], 3)\\n    }))\\n</script>\\n    </head>\\n    \\n    <div>\\n        <div wire:snapshot=\"{&quot;data&quot;:{&quot;zone&quot;:[{&quot;min&quot;:6,&quot;max&quot;:6},{&quot;s&quot;:&quot;arr&quot;}],&quot;size&quot;:&quot;lg&quot;,&quot;species_id&quot;:5},&quot;memo&quot;:{&quot;id&quot;:&quot;Ya3qzVu4e1TGYZIZIF0R&quot;,&quot;name&quot;:&quot;hardiness.map&quot;,&quot;path&quot;:&quot;api/hardiness-map&quot;,&quot;method&quot;:&quot;GET&quot;,&quot;children&quot;:[],&quot;scripts&quot;:[],&quot;assets&quot;:[],&quot;errors&quot;:[],&quot;locale&quot;:&quot;en&quot;},&quot;checksum&quot;:&quot;b3db52cbb28d42dde437ee4659550c64ab15f852eadc2ef238a44a656bf593d8&quot;}\" wire:effects=\"{&quot;url&quot;:{&quot;species_id&quot;:{&quot;as&quot;:&quot;species_id&quot;,&quot;use&quot;:&quot;push&quot;,&quot;alwaysShow&quot;:false,&quot;except&quot;:&quot;&quot;}}}\" wire:id=\"Ya3qzVu4e1TGYZIZIF0R\" class=\"relative\">\\n    \\n    <canvas id=\"myCanvas\" style=\"width: 100%; height: 100%;\"></canvas>\\n\\n    <script>\\n\\n        // Get the canvas element from the HTML\\n        const canvas = document.getElementById(\\'myCanvas\\');\\n        const ctx = canvas.getContext(\\'2d\\');\\n\\n        // Load the first image using the Image object to get its size\\n        const firstImageUrl = \"https://perenual.com/storage/image/hardiness/lg/0.png\";\\n        const firstImage = new Image();\\n        firstImage.onload = () => {\\n            // Set the canvas size to match the first image\\'s size\\n            canvas.width = firstImage.width;\\n            canvas.height = firstImage.height;\\n\\n            // Load the rest of the images and draw them onto the canvas\\n            const imageUrls = [\"https://perenual.com/storage/image/hardiness/lg/0.png\"];\\n\\n            for (var x = 6; x <= 6; x++) {\\n                const url = \"https://perenual.com/storage/image/hardiness/lg/\" + x + \".png\";\\n                imageUrls.push(url);\\n            }\\n\\n            for (let i = 0; i < imageUrls.length; i++) {\\n                const img = new Image();\\n                img.onload = () => {\\n                  // Set the global alpha value to 0.8 for all layers except for 0.png\\n                  if (i > 0) {\\n                    ctx.globalAlpha = 0.8;\\n                  }\\n                  ctx.drawImage(img, 0, 0);\\n                  // Reset the global alpha value to 1.0 for the next layer\\n                  ctx.globalAlpha = 1.0;\\n                };\\n                img.src = imageUrls[i];\\n              }\\n            };\\n            firstImage.src = firstImageUrl;\\n\\n    </script>\\n</div>    </div>\\n\\n<!-- Livewire Scripts -->\\n<script src=\"/livewire/livewire.js?id=951e6947\"   data-csrf=\"\" data-update-uri=\"/livewire/update\" data-navigate-once=\"true\"></script>\\n</html>\\n\\n')\n"
     ]
    }
   ],
   "source": [
    "# In the same connection session, or in a new one\n",
    "try:\n",
    "    connection = mysql.connector.connect(**db_config)\n",
    "    cursor = connection.cursor()\n",
    "    \n",
    "    cursor.execute(\"SELECT COUNT(*) FROM Table04_GeneralPlantDistributionMapTable\")\n",
    "    row_count = cursor.fetchone()[0]\n",
    "    print(f\"The table currently contains {row_count} rows\")\n",
    "    \n",
    "    # Preview first few rows\n",
    "    cursor.execute(\"SELECT * FROM Table04_GeneralPlantDistributionMapTable LIMIT 5\")\n",
    "    rows = cursor.fetchall()\n",
    "    for row in rows:\n",
    "        print(row)\n",
    "        \n",
    "except Error as e:\n",
    "    print(f\"Error occurred during query: {e}\")\n",
    "finally:\n",
    "    if connection.is_connected():\n",
    "        cursor.close()\n",
    "        connection.close()"
   ]
  },
  {
   "cell_type": "markdown",
   "id": "3ea07765",
   "metadata": {},
   "source": [
    "## Step 9 - 2nd Spot-Check: Read HTML from DB and Open in Browser\n",
    "Extract HTML from the database and test by saving to a file."
   ]
  },
  {
   "cell_type": "code",
   "execution_count": 17,
   "id": "cb925792",
   "metadata": {},
   "outputs": [
    {
     "name": "stdout",
     "output_type": "stream",
     "text": [
      "Temporary file created: C:\\Users\\zyyin1\\AppData\\Local\\Temp\\tmpkwdye7yp.html\n",
      "Temporary file deleted: C:\\Users\\zyyin1\\AppData\\Local\\Temp\\tmpkwdye7yp.html\n"
     ]
    }
   ],
   "source": [
    "import mysql.connector\n",
    "from mysql.connector import Error\n",
    "import tempfile\n",
    "import os\n",
    "import webbrowser\n",
    "\n",
    "# Database extraction and browser test\n",
    "def test_html_from_database(plant_id):\n",
    "    \"\"\"Fetch HTML for a given plant_id from the database and test in the browser.\"\"\"\n",
    "    try:\n",
    "        connection = mysql.connector.connect(**db_config)\n",
    "        cursor = connection.cursor()\n",
    "        \n",
    "        # Query the HTML content for the specified plant\n",
    "        query = \"\"\"\n",
    "            SELECT \n",
    "                distribution_map_html \n",
    "            FROM \n",
    "                Table04_GeneralPlantDistributionMapTable \n",
    "            WHERE \n",
    "                general_plant_id = %s\n",
    "        \"\"\"\n",
    "        cursor.execute(query, (plant_id,))\n",
    "        result = cursor.fetchone()\n",
    "        \n",
    "        if result:\n",
    "            html_content = result[0]\n",
    "            \n",
    "            # Create a temporary HTML file\n",
    "            with tempfile.NamedTemporaryFile(mode='w', suffix='.html', delete=False, encoding='utf-8') as f:\n",
    "                f.write(html_content)\n",
    "                temp_file = f.name\n",
    "            \n",
    "            print(f\"Temporary file created: {temp_file}\")\n",
    "            \n",
    "            # Open in the default browser\n",
    "            webbrowser.open('file://' + os.path.realpath(temp_file))\n",
    "            \n",
    "            # Wait for user confirmation\n",
    "            input(f\"Please check whether the distribution map for plant ID {plant_id} renders correctly. Press Enter to continue...\")\n",
    "            \n",
    "            # Delete the temporary file\n",
    "            os.unlink(temp_file)\n",
    "            print(f\"Temporary file deleted: {temp_file}\")\n",
    "        else:\n",
    "            print(f\"No distribution map found for plant ID {plant_id}\")\n",
    "            \n",
    "    except Error as e:\n",
    "        print(f\"Error occurred during query: {e}\")\n",
    "    finally:\n",
    "        if connection.is_connected():\n",
    "            cursor.close()\n",
    "            connection.close()\n",
    "\n",
    "# Test a few different plant IDs (example)\n",
    "test_html_from_database(77)"
   ]
  }
 ],
 "metadata": {
  "kernelspec": {
   "display_name": "base",
   "language": "python",
   "name": "python3"
  },
  "language_info": {
   "codemirror_mode": {
    "name": "ipython",
    "version": 3
   },
   "file_extension": ".py",
   "mimetype": "text/x-python",
   "name": "python",
   "nbconvert_exporter": "python",
   "pygments_lexer": "ipython3",
   "version": "3.10.16"
  }
 },
 "nbformat": 4,
 "nbformat_minor": 5
}
