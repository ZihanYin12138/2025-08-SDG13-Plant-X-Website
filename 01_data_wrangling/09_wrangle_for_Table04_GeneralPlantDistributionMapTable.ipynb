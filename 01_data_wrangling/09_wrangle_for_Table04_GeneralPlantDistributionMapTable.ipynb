{
 "cells": [
  {
   "cell_type": "code",
   "execution_count": 1,
   "id": "4f5c7fdd",
   "metadata": {},
   "outputs": [],
   "source": [
    "import os\n",
    "import json\n",
    "import pandas as pd\n",
    "from glob import glob\n",
    "\n",
    "# Paths\n",
    "html_dir = \"01_raw_data/03_hardiness_map\"\n",
    "output_path = \"02_wrangled_data/Table04_GeneralPlantDistributionMapTable.csv\""
   ]
  },
  {
   "cell_type": "code",
   "execution_count": 2,
   "id": "f08cc10c",
   "metadata": {},
   "outputs": [],
   "source": [
    "# Extract distribution map info\n",
    "html_files = glob(os.path.join(html_dir, \"plant_species_hardiness_map_*.html\"))\n",
    "\n",
    "records = []\n",
    "for file in html_files:\n",
    "    basename = os.path.basename(file)\n",
    "    try:\n",
    "        # 从文件名中提取植物 ID\n",
    "        general_plant_id = int(basename.split(\"_\")[-1].split(\".\")[0])\n",
    "        \n",
    "        # 读取 HTML 文件内容\n",
    "        with open(file, 'r', encoding='utf-8') as f:\n",
    "            html_content = f.read()\n",
    "        \n",
    "        # 将植物 ID 和 HTML 内容添加到记录中\n",
    "        records.append({\n",
    "            \"general_plant_id\": general_plant_id,\n",
    "            \"distribution_map_html\": html_content  # 存储 HTML 内容而不是文件路径\n",
    "        })\n",
    "    except (ValueError, IndexError) as e:\n",
    "        print(f\"跳过格式错误的文件: {basename}, 错误: {e}\")\n",
    "        continue"
   ]
  },
  {
   "cell_type": "code",
   "execution_count": 3,
   "id": "f06e5631",
   "metadata": {},
   "outputs": [
    {
     "name": "stdout",
     "output_type": "stream",
     "text": [
      "成功处理 593 个HTML文件，已保存到 02_wrangled_data/Table04_GeneralPlantDistributionMapTable.csv\n"
     ]
    }
   ],
   "source": [
    "# 创建 DataFrame 并排序\n",
    "df = pd.DataFrame(records)\n",
    "df = df.sort_values(by=\"general_plant_id\").reset_index(drop=True)\n",
    "df[\"general_plant_id\"] = pd.to_numeric(df[\"general_plant_id\"], errors=\"coerce\").astype(\"Int64\")\n",
    "\n",
    "# 保存到 CSV\n",
    "os.makedirs(os.path.dirname(output_path), exist_ok=True)\n",
    "df.to_csv(output_path, index=False, encoding='utf-8', lineterminator='\\r\\n')\n",
    "\n",
    "print(f\"成功处理 {len(records)} 个HTML文件，已保存到 {output_path}\")"
   ]
  },
  {
   "cell_type": "markdown",
   "id": "3c24768c",
   "metadata": {},
   "source": [
    "## 验证：使用 Python 创建临时 HTML 文件并打开"
   ]
  },
  {
   "cell_type": "code",
   "execution_count": 43,
   "id": "cb63cb1a",
   "metadata": {},
   "outputs": [
    {
     "name": "stdout",
     "output_type": "stream",
     "text": [
      "已创建临时文件: C:\\Users\\zyyin1\\AppData\\Local\\Temp\\tmpjib8lhke.html\n"
     ]
    }
   ],
   "source": [
    "import pandas as pd\n",
    "import tempfile\n",
    "import os\n",
    "import webbrowser\n",
    "\n",
    "# 读取 CSV 文件\n",
    "csv_path = \"02_wrangled_data/Table04_GeneralPlantDistributionMapTable.csv\"\n",
    "df = pd.read_csv(csv_path)\n",
    "\n",
    "# 选择要验证的植物 ID（例如第77个）\n",
    "plant_id = df.iloc[77]['general_plant_id']\n",
    "html_content = df.iloc[77]['distribution_map_html']\n",
    "\n",
    "# 创建临时 HTML 文件\n",
    "with tempfile.NamedTemporaryFile(mode='w', suffix='.html', delete=False, encoding='utf-8') as f:\n",
    "    f.write(html_content)\n",
    "    temp_file = f.name\n",
    "\n",
    "print(f\"已创建临时文件: {temp_file}\")\n",
    "\n",
    "# 在默认浏览器中打开\n",
    "webbrowser.open('file://' + os.path.realpath(temp_file))\n",
    "\n",
    "# 可选：等待用户输入后删除临时文件\n",
    "input(\"按回车键删除临时文件...\")\n",
    "os.unlink(temp_file)"
   ]
  },
  {
   "cell_type": "code",
   "execution_count": 4,
   "id": "c83e3845",
   "metadata": {},
   "outputs": [
    {
     "name": "stdout",
     "output_type": "stream",
     "text": [
      "✅ CSV 文件使用 CRLF (\\r\\n) 行终止符\n"
     ]
    }
   ],
   "source": [
    "# 验证行终止符\n",
    "with open(output_path, 'rb') as f:\n",
    "    content = f.read()\n",
    "    \n",
    "if b'\\r\\n' in content:\n",
    "    print(\"✅ CSV 文件使用 CRLF (\\\\r\\\\n) 行终止符\")\n",
    "elif b'\\n' in content:\n",
    "    print(\"❌ CSV 文件使用 LF (\\\\n) 行终止符\")\n",
    "else:\n",
    "    print(\"❓ 无法确定行终止符类型\")"
   ]
  },
  {
   "cell_type": "code",
   "execution_count": 5,
   "id": "7306779b",
   "metadata": {},
   "outputs": [
    {
     "name": "stdout",
     "output_type": "stream",
     "text": [
      "文件开头部分（十六进制）：\n",
      "67656e6572616c5f706c616e745f69642c646973747269627574696f6e5f6d61705f68746d6c0d0a312c223c21444f43545950452068746d6c3e0a3c68746d6c206c616e673d2222656e22223e0a202020203c686561643e0a0a20202020202020203c212d2d203630202d2d3e0a20202020202020200a20202020202020203c6d657461206e616d653d2222726f626f7473222220636f6e74656e743d22226e6f696e6465782c206e6f666f6c6c6f7722223e0a0a20202020202020203c212d2d204c69766577697265205374796c6573202d2d3e3c7374796c65203e5b776972655c3a6c6f6164696e675d5b776972655c3a6c6f6164696e675d2c205b776972655c3a6c6f6164696e675c2e64656c61795d5b776972655c3a6c6f6164696e675c2e64656c61795d2c205b776972655c3a6c6f6164696e675c2e696e6c696e652d626c6f636b5d5b776972655c3a6c6f6164696e675c2e696e6c696e652d626c6f636b5d2c205b776972655c3a6c6f6164696e675c2e696e6c696e655d5b776972655c3a6c6f6164696e675c2e696e6c696e655d2c205b776972655c3a6c6f6164696e675c2e626c6f636b5d5b776972655c3a6c6f6164696e675c2e626c6f636b5d2c205b776972655c3a6c6f6164696e675c2e666c65785d5b776972655c3a6c6f6164696e675c2e666c65785d2c205b7769\n",
      "\n",
      "文件开头部分（ASCII，不可见字符显示为转义序列）：\n",
      "general_plant_id,distribution_map_html\\r\\n1,\"<!DOCTYPE html>\\n<html lang=\"\"en\"\">\\n    <head>\\n\\n        <!-- 60 -->\\n        \\n        <meta name=\"\"robots\"\" content=\"\"noindex, nofollow\"\">\\n\\n        <!-- Livewire Styles --><style >[wire\\:loading][wire\\:loading], [wire\\:loading\\.delay][wire\\:loading\\.delay], [wire\\:loading\\.inline-block][wire\\:loading\\.inline-block], [wire\\:loading\\.inline][wire\\:loading\\.inline], [wire\\:loading\\.block][wire\\:loading\\.block], [wire\\:loading\\.flex][wire\\:loading\\.flex], [wi\n"
     ]
    }
   ],
   "source": [
    "# 读取文件的前几百个字节来检查行终止符\n",
    "with open(output_path, 'rb') as f:\n",
    "    first_chunk = f.read(500)  # 读取前500字节\n",
    "    \n",
    "print(\"文件开头部分（十六进制）：\")\n",
    "print(first_chunk.hex())\n",
    "\n",
    "print(\"\\n文件开头部分（ASCII，不可见字符显示为转义序列）：\")\n",
    "# 将字节转换为可读形式，特殊字符显示为转义序列\n",
    "readable = first_chunk.replace(b'\\r', br'\\r').replace(b'\\n', br'\\n')\n",
    "print(readable.decode('utf-8', errors='ignore'))"
   ]
  },
  {
   "cell_type": "markdown",
   "id": "542ddadd",
   "metadata": {},
   "source": [
    "## 执行 LOAD DATA LOCAL INFILE 命令上传到数据库"
   ]
  },
  {
   "cell_type": "code",
   "execution_count": 6,
   "id": "1d45ae21",
   "metadata": {},
   "outputs": [
    {
     "name": "stdout",
     "output_type": "stream",
     "text": [
      "成功连接到 MySQL 服务器\n",
      "数据导入成功！影响了 98 行。\n",
      "MySQL 连接已关闭。\n"
     ]
    }
   ],
   "source": [
    "import mysql.connector\n",
    "from mysql.connector import Error\n",
    "\n",
    "# 数据库连接配置\n",
    "db_config = {\n",
    "    'host': 'database-plantx.cqz06uycysiz.us-east-1.rds.amazonaws.com',\n",
    "    'user': 'zihan',\n",
    "    'password': '2002317Yzh12138.',\n",
    "    'database': 'FIT5120_PlantX_Database',\n",
    "    'allow_local_infile': True,\n",
    "    'use_pure': True  # 使用纯Python实现\n",
    "}\n",
    "\n",
    "try:\n",
    "    # 建立连接\n",
    "    connection = mysql.connector.connect(**db_config)\n",
    "    \n",
    "    if connection.is_connected():\n",
    "        print(\"成功连接到 MySQL 服务器\")\n",
    "        \n",
    "        # 创建游标\n",
    "        cursor = connection.cursor()\n",
    "        \n",
    "        # truncate_query = \"TRUNCATE TABLE Table04_GeneralPlantDistributionMapTable;\" \n",
    "        # cursor.execute(truncate_query) \n",
    "        # print(\"已清空表中原有数据。\") \n",
    "        \n",
    "        # 构建 LOAD DATA LOCAL INFILE 命令\n",
    "        # 注意：请将下面的文件路径替换为你实际的CSV文件路径\n",
    "        load_data_query = \"\"\"\n",
    "        LOAD DATA LOCAL INFILE '02_wrangled_data/Table04_GeneralPlantDistributionMapTable.csv'\n",
    "        INTO TABLE Table04_GeneralPlantDistributionMapTable\n",
    "        CHARACTER SET utf8mb4\n",
    "        FIELDS TERMINATED BY ',' \n",
    "        OPTIONALLY ENCLOSED BY '\"'\n",
    "        LINES TERMINATED BY '\\\\r\\\\n'\n",
    "        IGNORE 1 LINES\n",
    "        (   \n",
    "            general_plant_id, distribution_map_html\n",
    "        );\n",
    "        \"\"\"\n",
    "        \n",
    "        # 执行命令\n",
    "        cursor.execute(load_data_query)\n",
    "        connection.commit()  # 提交事务\n",
    "        \n",
    "        print(f\"数据导入成功！影响了 {cursor.rowcount} 行。\")\n",
    "        \n",
    "except Error as e:\n",
    "    print(f\"执行过程中发生错误：{e}\")\n",
    "    \n",
    "finally:\n",
    "    # 关闭连接\n",
    "    if connection.is_connected():\n",
    "        cursor.close()\n",
    "        connection.close()\n",
    "        print(\"MySQL 连接已关闭。\")"
   ]
  },
  {
   "cell_type": "markdown",
   "id": "a33ac746",
   "metadata": {},
   "source": [
    "## 验证导入结果"
   ]
  },
  {
   "cell_type": "code",
   "execution_count": 7,
   "id": "1048b66d",
   "metadata": {},
   "outputs": [
    {
     "name": "stdout",
     "output_type": "stream",
     "text": [
      "表中现有 593 行数据\n",
      "(1, '<!DOCTYPE html>\\n<html lang=\"en\">\\n    <head>\\n\\n        <!-- 60 -->\\n        \\n        <meta name=\"robots\" content=\"noindex, nofollow\">\\n\\n        <!-- Livewire Styles --><style >[wire:loading][wire:loading], [wire:loading.delay][wire:loading.delay], [wire:loading.inline-block][wire:loading.inline-block], [wire:loading.inline][wire:loading.inline], [wire:loading.block][wire:loading.block], [wire:loading.flex][wire:loading.flex], [wire:loading.table][wire:loading.table], [wire:loading.grid][wire:loading.grid], [wire:loading.inline-flex][wire:loading.inline-flex] {display: none;}[wire:loading.delay.none][wire:loading.delay.none], [wire:loading.delay.shortest][wire:loading.delay.shortest], [wire:loading.delay.shorter][wire:loading.delay.shorter], [wire:loading.delay.short][wire:loading.delay.short], [wire:loading.delay.default][wire:loading.delay.default], [wire:loading.delay.long][wire:loading.delay.long], [wire:loading.delay.longer][wire:loading.delay.longer], [wire:loading.delay.longest][wire:loading.delay.longest] {display: none;}[wire:offline][wire:offline] {display: none;}[wire:dirty]:not(textarea):not(input):not(select) {display: none;}:root {--livewire-progress-bar-color: #2299dd;}[x-cloak] {display: none !important;}</style>\\n\\n        <!-- Script -->\\n        <script >window.Wireui = {cache: {},hook(hook, callback) {window.addEventListener(`wireui:${hook}`, () => callback())},dispatchHook(hook) {window.dispatchEvent(new Event(`wireui:${hook}`))}}</script>\\n<script src=\"https://perenual.com/wireui/assets/scripts?id=5dda7be9cac61c5885776c4a03411770\" defer ></script>\\n\\n        <link rel=\"preload\" as=\"style\" href=\"https://perenual.com/build/assets/app-Dy9tYsF4.css\" /><link rel=\"modulepreload\" href=\"https://perenual.com/build/assets/app-Xaw6OIO1.js\" /><link rel=\"stylesheet\" href=\"https://perenual.com/build/assets/app-Dy9tYsF4.css\" data-navigate-track=\"reload\" /><script type=\"module\" src=\"https://perenual.com/build/assets/app-Xaw6OIO1.js\" data-navigate-track=\"reload\"></script>\\n<script>\\n     window.addEventListener(\\'load\\', () => window.setTimeout(() => {\\n        const makeLink = (asset) => {\\n            const link = document.createElement(\\'link\\')\\n\\n            Object.keys(asset).forEach((attribute) => {\\n                link.setAttribute(attribute, asset[attribute])\\n            })\\n\\n            return link\\n        }\\n\\n        const loadNext = (assets, count) => window.setTimeout(() => {\\n            if (count > assets.length) {\\n                count = assets.length\\n\\n                if (count === 0) {\\n                    return\\n                }\\n            }\\n\\n            const fragment = new DocumentFragment\\n\\n            while (count > 0) {\\n                const link = makeLink(assets.shift())\\n                fragment.append(link)\\n                count--\\n\\n                if (assets.length) {\\n                    link.onload = () => loadNext(assets, 1)\\n                    link.onerror = () => loadNext(assets, 1)\\n                }\\n            }\\n\\n            document.head.append(fragment)\\n        })\\n\\n        loadNext([], 3)\\n    }))\\n</script>\\n    </head>\\n    \\n    <div>\\n        <div wire:snapshot=\"{&quot;data&quot;:{&quot;zone&quot;:[{&quot;min&quot;:7,&quot;max&quot;:7},{&quot;s&quot;:&quot;arr&quot;}],&quot;size&quot;:&quot;lg&quot;,&quot;species_id&quot;:1},&quot;memo&quot;:{&quot;id&quot;:&quot;69qUc7Z3doCLBeuU1zDA&quot;,&quot;name&quot;:&quot;hardiness.map&quot;,&quot;path&quot;:&quot;api/hardiness-map&quot;,&quot;method&quot;:&quot;GET&quot;,&quot;children&quot;:[],&quot;scripts&quot;:[],&quot;assets&quot;:[],&quot;errors&quot;:[],&quot;locale&quot;:&quot;en&quot;},&quot;checksum&quot;:&quot;b351b0112eba983337031779d6c36a65b1cb9bb410471ce997f9bca3dc3dd792&quot;}\" wire:effects=\"{&quot;url&quot;:{&quot;species_id&quot;:{&quot;as&quot;:&quot;species_id&quot;,&quot;use&quot;:&quot;push&quot;,&quot;alwaysShow&quot;:false,&quot;except&quot;:&quot;&quot;}}}\" wire:id=\"69qUc7Z3doCLBeuU1zDA\" class=\"relative\">\\n    \\n    <canvas id=\"myCanvas\" style=\"width: 100%; height: 100%;\"></canvas>\\n\\n    <script>\\n\\n        // Get the canvas element from the HTML\\n        const canvas = document.getElementById(\\'myCanvas\\');\\n        const ctx = canvas.getContext(\\'2d\\');\\n\\n        // Load the first image using the Image object to get its size\\n        const firstImageUrl = \"https://perenual.com/storage/image/hardiness/lg/0.png\";\\n        const firstImage = new Image();\\n        firstImage.onload = () => {\\n            // Set the canvas size to match the first image\\'s size\\n            canvas.width = firstImage.width;\\n            canvas.height = firstImage.height;\\n\\n            // Load the rest of the images and draw them onto the canvas\\n            const imageUrls = [\"https://perenual.com/storage/image/hardiness/lg/0.png\"];\\n\\n            for (var x = 7; x <= 7; x++) {\\n                const url = \"https://perenual.com/storage/image/hardiness/lg/\" + x + \".png\";\\n                imageUrls.push(url);\\n            }\\n\\n            for (let i = 0; i < imageUrls.length; i++) {\\n                const img = new Image();\\n                img.onload = () => {\\n                  // Set the global alpha value to 0.8 for all layers except for 0.png\\n                  if (i > 0) {\\n                    ctx.globalAlpha = 0.8;\\n                  }\\n                  ctx.drawImage(img, 0, 0);\\n                  // Reset the global alpha value to 1.0 for the next layer\\n                  ctx.globalAlpha = 1.0;\\n                };\\n                img.src = imageUrls[i];\\n              }\\n            };\\n            firstImage.src = firstImageUrl;\\n\\n    </script>\\n</div>    </div>\\n\\n<!-- Livewire Scripts -->\\n<script src=\"/livewire/livewire.js?id=951e6947\"   data-csrf=\"\" data-update-uri=\"/livewire/update\" data-navigate-once=\"true\"></script>\\n</html>\\n\\n')\n",
      "(2, '<!DOCTYPE html>\\n<html lang=\"en\">\\n    <head>\\n\\n        <!-- 60 -->\\n        \\n        <meta name=\"robots\" content=\"noindex, nofollow\">\\n\\n        <!-- Livewire Styles --><style >[wire:loading][wire:loading], [wire:loading.delay][wire:loading.delay], [wire:loading.inline-block][wire:loading.inline-block], [wire:loading.inline][wire:loading.inline], [wire:loading.block][wire:loading.block], [wire:loading.flex][wire:loading.flex], [wire:loading.table][wire:loading.table], [wire:loading.grid][wire:loading.grid], [wire:loading.inline-flex][wire:loading.inline-flex] {display: none;}[wire:loading.delay.none][wire:loading.delay.none], [wire:loading.delay.shortest][wire:loading.delay.shortest], [wire:loading.delay.shorter][wire:loading.delay.shorter], [wire:loading.delay.short][wire:loading.delay.short], [wire:loading.delay.default][wire:loading.delay.default], [wire:loading.delay.long][wire:loading.delay.long], [wire:loading.delay.longer][wire:loading.delay.longer], [wire:loading.delay.longest][wire:loading.delay.longest] {display: none;}[wire:offline][wire:offline] {display: none;}[wire:dirty]:not(textarea):not(input):not(select) {display: none;}:root {--livewire-progress-bar-color: #2299dd;}[x-cloak] {display: none !important;}</style>\\n\\n        <!-- Script -->\\n        <script >window.Wireui = {cache: {},hook(hook, callback) {window.addEventListener(`wireui:${hook}`, () => callback())},dispatchHook(hook) {window.dispatchEvent(new Event(`wireui:${hook}`))}}</script>\\n<script src=\"https://perenual.com/wireui/assets/scripts?id=5dda7be9cac61c5885776c4a03411770\" defer ></script>\\n\\n        <link rel=\"preload\" as=\"style\" href=\"https://perenual.com/build/assets/app-Dy9tYsF4.css\" /><link rel=\"modulepreload\" href=\"https://perenual.com/build/assets/app-Xaw6OIO1.js\" /><link rel=\"stylesheet\" href=\"https://perenual.com/build/assets/app-Dy9tYsF4.css\" data-navigate-track=\"reload\" /><script type=\"module\" src=\"https://perenual.com/build/assets/app-Xaw6OIO1.js\" data-navigate-track=\"reload\"></script>\\n<script>\\n     window.addEventListener(\\'load\\', () => window.setTimeout(() => {\\n        const makeLink = (asset) => {\\n            const link = document.createElement(\\'link\\')\\n\\n            Object.keys(asset).forEach((attribute) => {\\n                link.setAttribute(attribute, asset[attribute])\\n            })\\n\\n            return link\\n        }\\n\\n        const loadNext = (assets, count) => window.setTimeout(() => {\\n            if (count > assets.length) {\\n                count = assets.length\\n\\n                if (count === 0) {\\n                    return\\n                }\\n            }\\n\\n            const fragment = new DocumentFragment\\n\\n            while (count > 0) {\\n                const link = makeLink(assets.shift())\\n                fragment.append(link)\\n                count--\\n\\n                if (assets.length) {\\n                    link.onload = () => loadNext(assets, 1)\\n                    link.onerror = () => loadNext(assets, 1)\\n                }\\n            }\\n\\n            document.head.append(fragment)\\n        })\\n\\n        loadNext([], 3)\\n    }))\\n</script>\\n    </head>\\n    \\n    <div>\\n        <div wire:snapshot=\"{&quot;data&quot;:{&quot;zone&quot;:[{&quot;min&quot;:4,&quot;max&quot;:4},{&quot;s&quot;:&quot;arr&quot;}],&quot;size&quot;:&quot;lg&quot;,&quot;species_id&quot;:2},&quot;memo&quot;:{&quot;id&quot;:&quot;rpGSUMaaqJNBcS4qO9cm&quot;,&quot;name&quot;:&quot;hardiness.map&quot;,&quot;path&quot;:&quot;api/hardiness-map&quot;,&quot;method&quot;:&quot;GET&quot;,&quot;children&quot;:[],&quot;scripts&quot;:[],&quot;assets&quot;:[],&quot;errors&quot;:[],&quot;locale&quot;:&quot;en&quot;},&quot;checksum&quot;:&quot;d4b644d73636f493aa06cef579128b8980a5aae65763a40b4d47f8b923327056&quot;}\" wire:effects=\"{&quot;url&quot;:{&quot;species_id&quot;:{&quot;as&quot;:&quot;species_id&quot;,&quot;use&quot;:&quot;push&quot;,&quot;alwaysShow&quot;:false,&quot;except&quot;:&quot;&quot;}}}\" wire:id=\"rpGSUMaaqJNBcS4qO9cm\" class=\"relative\">\\n    \\n    <canvas id=\"myCanvas\" style=\"width: 100%; height: 100%;\"></canvas>\\n\\n    <script>\\n\\n        // Get the canvas element from the HTML\\n        const canvas = document.getElementById(\\'myCanvas\\');\\n        const ctx = canvas.getContext(\\'2d\\');\\n\\n        // Load the first image using the Image object to get its size\\n        const firstImageUrl = \"https://perenual.com/storage/image/hardiness/lg/0.png\";\\n        const firstImage = new Image();\\n        firstImage.onload = () => {\\n            // Set the canvas size to match the first image\\'s size\\n            canvas.width = firstImage.width;\\n            canvas.height = firstImage.height;\\n\\n            // Load the rest of the images and draw them onto the canvas\\n            const imageUrls = [\"https://perenual.com/storage/image/hardiness/lg/0.png\"];\\n\\n            for (var x = 4; x <= 4; x++) {\\n                const url = \"https://perenual.com/storage/image/hardiness/lg/\" + x + \".png\";\\n                imageUrls.push(url);\\n            }\\n\\n            for (let i = 0; i < imageUrls.length; i++) {\\n                const img = new Image();\\n                img.onload = () => {\\n                  // Set the global alpha value to 0.8 for all layers except for 0.png\\n                  if (i > 0) {\\n                    ctx.globalAlpha = 0.8;\\n                  }\\n                  ctx.drawImage(img, 0, 0);\\n                  // Reset the global alpha value to 1.0 for the next layer\\n                  ctx.globalAlpha = 1.0;\\n                };\\n                img.src = imageUrls[i];\\n              }\\n            };\\n            firstImage.src = firstImageUrl;\\n\\n    </script>\\n</div>    </div>\\n\\n<!-- Livewire Scripts -->\\n<script src=\"/livewire/livewire.js?id=951e6947\"   data-csrf=\"\" data-update-uri=\"/livewire/update\" data-navigate-once=\"true\"></script>\\n</html>\\n\\n')\n",
      "(3, '<!DOCTYPE html>\\n<html lang=\"en\">\\n    <head>\\n\\n        <!-- 60 -->\\n        \\n        <meta name=\"robots\" content=\"noindex, nofollow\">\\n\\n        <!-- Livewire Styles --><style >[wire:loading][wire:loading], [wire:loading.delay][wire:loading.delay], [wire:loading.inline-block][wire:loading.inline-block], [wire:loading.inline][wire:loading.inline], [wire:loading.block][wire:loading.block], [wire:loading.flex][wire:loading.flex], [wire:loading.table][wire:loading.table], [wire:loading.grid][wire:loading.grid], [wire:loading.inline-flex][wire:loading.inline-flex] {display: none;}[wire:loading.delay.none][wire:loading.delay.none], [wire:loading.delay.shortest][wire:loading.delay.shortest], [wire:loading.delay.shorter][wire:loading.delay.shorter], [wire:loading.delay.short][wire:loading.delay.short], [wire:loading.delay.default][wire:loading.delay.default], [wire:loading.delay.long][wire:loading.delay.long], [wire:loading.delay.longer][wire:loading.delay.longer], [wire:loading.delay.longest][wire:loading.delay.longest] {display: none;}[wire:offline][wire:offline] {display: none;}[wire:dirty]:not(textarea):not(input):not(select) {display: none;}:root {--livewire-progress-bar-color: #2299dd;}[x-cloak] {display: none !important;}</style>\\n\\n        <!-- Script -->\\n        <script >window.Wireui = {cache: {},hook(hook, callback) {window.addEventListener(`wireui:${hook}`, () => callback())},dispatchHook(hook) {window.dispatchEvent(new Event(`wireui:${hook}`))}}</script>\\n<script src=\"https://perenual.com/wireui/assets/scripts?id=5dda7be9cac61c5885776c4a03411770\" defer ></script>\\n\\n        <link rel=\"preload\" as=\"style\" href=\"https://perenual.com/build/assets/app-Dy9tYsF4.css\" /><link rel=\"modulepreload\" href=\"https://perenual.com/build/assets/app-Xaw6OIO1.js\" /><link rel=\"stylesheet\" href=\"https://perenual.com/build/assets/app-Dy9tYsF4.css\" data-navigate-track=\"reload\" /><script type=\"module\" src=\"https://perenual.com/build/assets/app-Xaw6OIO1.js\" data-navigate-track=\"reload\"></script>\\n<script>\\n     window.addEventListener(\\'load\\', () => window.setTimeout(() => {\\n        const makeLink = (asset) => {\\n            const link = document.createElement(\\'link\\')\\n\\n            Object.keys(asset).forEach((attribute) => {\\n                link.setAttribute(attribute, asset[attribute])\\n            })\\n\\n            return link\\n        }\\n\\n        const loadNext = (assets, count) => window.setTimeout(() => {\\n            if (count > assets.length) {\\n                count = assets.length\\n\\n                if (count === 0) {\\n                    return\\n                }\\n            }\\n\\n            const fragment = new DocumentFragment\\n\\n            while (count > 0) {\\n                const link = makeLink(assets.shift())\\n                fragment.append(link)\\n                count--\\n\\n                if (assets.length) {\\n                    link.onload = () => loadNext(assets, 1)\\n                    link.onerror = () => loadNext(assets, 1)\\n                }\\n            }\\n\\n            document.head.append(fragment)\\n        })\\n\\n        loadNext([], 3)\\n    }))\\n</script>\\n    </head>\\n    \\n    <div>\\n        <div wire:snapshot=\"{&quot;data&quot;:{&quot;zone&quot;:[{&quot;min&quot;:3,&quot;max&quot;:3},{&quot;s&quot;:&quot;arr&quot;}],&quot;size&quot;:&quot;lg&quot;,&quot;species_id&quot;:3},&quot;memo&quot;:{&quot;id&quot;:&quot;Gls2FwP8ElzSRj7QE3GY&quot;,&quot;name&quot;:&quot;hardiness.map&quot;,&quot;path&quot;:&quot;api/hardiness-map&quot;,&quot;method&quot;:&quot;GET&quot;,&quot;children&quot;:[],&quot;scripts&quot;:[],&quot;assets&quot;:[],&quot;errors&quot;:[],&quot;locale&quot;:&quot;en&quot;},&quot;checksum&quot;:&quot;edc98e56af04fa7b42c3dfae329fc398e4f924986a198e599b9b45726e9e7564&quot;}\" wire:effects=\"{&quot;url&quot;:{&quot;species_id&quot;:{&quot;as&quot;:&quot;species_id&quot;,&quot;use&quot;:&quot;push&quot;,&quot;alwaysShow&quot;:false,&quot;except&quot;:&quot;&quot;}}}\" wire:id=\"Gls2FwP8ElzSRj7QE3GY\" class=\"relative\">\\n    \\n    <canvas id=\"myCanvas\" style=\"width: 100%; height: 100%;\"></canvas>\\n\\n    <script>\\n\\n        // Get the canvas element from the HTML\\n        const canvas = document.getElementById(\\'myCanvas\\');\\n        const ctx = canvas.getContext(\\'2d\\');\\n\\n        // Load the first image using the Image object to get its size\\n        const firstImageUrl = \"https://perenual.com/storage/image/hardiness/lg/0.png\";\\n        const firstImage = new Image();\\n        firstImage.onload = () => {\\n            // Set the canvas size to match the first image\\'s size\\n            canvas.width = firstImage.width;\\n            canvas.height = firstImage.height;\\n\\n            // Load the rest of the images and draw them onto the canvas\\n            const imageUrls = [\"https://perenual.com/storage/image/hardiness/lg/0.png\"];\\n\\n            for (var x = 3; x <= 3; x++) {\\n                const url = \"https://perenual.com/storage/image/hardiness/lg/\" + x + \".png\";\\n                imageUrls.push(url);\\n            }\\n\\n            for (let i = 0; i < imageUrls.length; i++) {\\n                const img = new Image();\\n                img.onload = () => {\\n                  // Set the global alpha value to 0.8 for all layers except for 0.png\\n                  if (i > 0) {\\n                    ctx.globalAlpha = 0.8;\\n                  }\\n                  ctx.drawImage(img, 0, 0);\\n                  // Reset the global alpha value to 1.0 for the next layer\\n                  ctx.globalAlpha = 1.0;\\n                };\\n                img.src = imageUrls[i];\\n              }\\n            };\\n            firstImage.src = firstImageUrl;\\n\\n    </script>\\n</div>    </div>\\n\\n<!-- Livewire Scripts -->\\n<script src=\"/livewire/livewire.js?id=951e6947\"   data-csrf=\"\" data-update-uri=\"/livewire/update\" data-navigate-once=\"true\"></script>\\n</html>\\n\\n')\n",
      "(4, '<!DOCTYPE html>\\n<html lang=\"en\">\\n    <head>\\n\\n        <!-- 60 -->\\n        \\n        <meta name=\"robots\" content=\"noindex, nofollow\">\\n\\n        <!-- Livewire Styles --><style >[wire:loading][wire:loading], [wire:loading.delay][wire:loading.delay], [wire:loading.inline-block][wire:loading.inline-block], [wire:loading.inline][wire:loading.inline], [wire:loading.block][wire:loading.block], [wire:loading.flex][wire:loading.flex], [wire:loading.table][wire:loading.table], [wire:loading.grid][wire:loading.grid], [wire:loading.inline-flex][wire:loading.inline-flex] {display: none;}[wire:loading.delay.none][wire:loading.delay.none], [wire:loading.delay.shortest][wire:loading.delay.shortest], [wire:loading.delay.shorter][wire:loading.delay.shorter], [wire:loading.delay.short][wire:loading.delay.short], [wire:loading.delay.default][wire:loading.delay.default], [wire:loading.delay.long][wire:loading.delay.long], [wire:loading.delay.longer][wire:loading.delay.longer], [wire:loading.delay.longest][wire:loading.delay.longest] {display: none;}[wire:offline][wire:offline] {display: none;}[wire:dirty]:not(textarea):not(input):not(select) {display: none;}:root {--livewire-progress-bar-color: #2299dd;}[x-cloak] {display: none !important;}</style>\\n\\n        <!-- Script -->\\n        <script >window.Wireui = {cache: {},hook(hook, callback) {window.addEventListener(`wireui:${hook}`, () => callback())},dispatchHook(hook) {window.dispatchEvent(new Event(`wireui:${hook}`))}}</script>\\n<script src=\"https://perenual.com/wireui/assets/scripts?id=5dda7be9cac61c5885776c4a03411770\" defer ></script>\\n\\n        <link rel=\"preload\" as=\"style\" href=\"https://perenual.com/build/assets/app-Dy9tYsF4.css\" /><link rel=\"modulepreload\" href=\"https://perenual.com/build/assets/app-Xaw6OIO1.js\" /><link rel=\"stylesheet\" href=\"https://perenual.com/build/assets/app-Dy9tYsF4.css\" data-navigate-track=\"reload\" /><script type=\"module\" src=\"https://perenual.com/build/assets/app-Xaw6OIO1.js\" data-navigate-track=\"reload\"></script>\\n<script>\\n     window.addEventListener(\\'load\\', () => window.setTimeout(() => {\\n        const makeLink = (asset) => {\\n            const link = document.createElement(\\'link\\')\\n\\n            Object.keys(asset).forEach((attribute) => {\\n                link.setAttribute(attribute, asset[attribute])\\n            })\\n\\n            return link\\n        }\\n\\n        const loadNext = (assets, count) => window.setTimeout(() => {\\n            if (count > assets.length) {\\n                count = assets.length\\n\\n                if (count === 0) {\\n                    return\\n                }\\n            }\\n\\n            const fragment = new DocumentFragment\\n\\n            while (count > 0) {\\n                const link = makeLink(assets.shift())\\n                fragment.append(link)\\n                count--\\n\\n                if (assets.length) {\\n                    link.onload = () => loadNext(assets, 1)\\n                    link.onerror = () => loadNext(assets, 1)\\n                }\\n            }\\n\\n            document.head.append(fragment)\\n        })\\n\\n        loadNext([], 3)\\n    }))\\n</script>\\n    </head>\\n    \\n    <div>\\n        <div wire:snapshot=\"{&quot;data&quot;:{&quot;zone&quot;:[{&quot;min&quot;:4,&quot;max&quot;:4},{&quot;s&quot;:&quot;arr&quot;}],&quot;size&quot;:&quot;lg&quot;,&quot;species_id&quot;:4},&quot;memo&quot;:{&quot;id&quot;:&quot;Ws6QLut07Syy1vxXYi8d&quot;,&quot;name&quot;:&quot;hardiness.map&quot;,&quot;path&quot;:&quot;api/hardiness-map&quot;,&quot;method&quot;:&quot;GET&quot;,&quot;children&quot;:[],&quot;scripts&quot;:[],&quot;assets&quot;:[],&quot;errors&quot;:[],&quot;locale&quot;:&quot;en&quot;},&quot;checksum&quot;:&quot;5dfec768b5899f41e215f33437f46e6038f19e50982bbb51f3b1a4c43bde4746&quot;}\" wire:effects=\"{&quot;url&quot;:{&quot;species_id&quot;:{&quot;as&quot;:&quot;species_id&quot;,&quot;use&quot;:&quot;push&quot;,&quot;alwaysShow&quot;:false,&quot;except&quot;:&quot;&quot;}}}\" wire:id=\"Ws6QLut07Syy1vxXYi8d\" class=\"relative\">\\n    \\n    <canvas id=\"myCanvas\" style=\"width: 100%; height: 100%;\"></canvas>\\n\\n    <script>\\n\\n        // Get the canvas element from the HTML\\n        const canvas = document.getElementById(\\'myCanvas\\');\\n        const ctx = canvas.getContext(\\'2d\\');\\n\\n        // Load the first image using the Image object to get its size\\n        const firstImageUrl = \"https://perenual.com/storage/image/hardiness/lg/0.png\";\\n        const firstImage = new Image();\\n        firstImage.onload = () => {\\n            // Set the canvas size to match the first image\\'s size\\n            canvas.width = firstImage.width;\\n            canvas.height = firstImage.height;\\n\\n            // Load the rest of the images and draw them onto the canvas\\n            const imageUrls = [\"https://perenual.com/storage/image/hardiness/lg/0.png\"];\\n\\n            for (var x = 4; x <= 4; x++) {\\n                const url = \"https://perenual.com/storage/image/hardiness/lg/\" + x + \".png\";\\n                imageUrls.push(url);\\n            }\\n\\n            for (let i = 0; i < imageUrls.length; i++) {\\n                const img = new Image();\\n                img.onload = () => {\\n                  // Set the global alpha value to 0.8 for all layers except for 0.png\\n                  if (i > 0) {\\n                    ctx.globalAlpha = 0.8;\\n                  }\\n                  ctx.drawImage(img, 0, 0);\\n                  // Reset the global alpha value to 1.0 for the next layer\\n                  ctx.globalAlpha = 1.0;\\n                };\\n                img.src = imageUrls[i];\\n              }\\n            };\\n            firstImage.src = firstImageUrl;\\n\\n    </script>\\n</div>    </div>\\n\\n<!-- Livewire Scripts -->\\n<script src=\"/livewire/livewire.js?id=951e6947\"   data-csrf=\"\" data-update-uri=\"/livewire/update\" data-navigate-once=\"true\"></script>\\n</html>\\n\\n')\n",
      "(5, '<!DOCTYPE html>\\n<html lang=\"en\">\\n    <head>\\n\\n        <!-- 60 -->\\n        \\n        <meta name=\"robots\" content=\"noindex, nofollow\">\\n\\n        <!-- Livewire Styles --><style >[wire:loading][wire:loading], [wire:loading.delay][wire:loading.delay], [wire:loading.inline-block][wire:loading.inline-block], [wire:loading.inline][wire:loading.inline], [wire:loading.block][wire:loading.block], [wire:loading.flex][wire:loading.flex], [wire:loading.table][wire:loading.table], [wire:loading.grid][wire:loading.grid], [wire:loading.inline-flex][wire:loading.inline-flex] {display: none;}[wire:loading.delay.none][wire:loading.delay.none], [wire:loading.delay.shortest][wire:loading.delay.shortest], [wire:loading.delay.shorter][wire:loading.delay.shorter], [wire:loading.delay.short][wire:loading.delay.short], [wire:loading.delay.default][wire:loading.delay.default], [wire:loading.delay.long][wire:loading.delay.long], [wire:loading.delay.longer][wire:loading.delay.longer], [wire:loading.delay.longest][wire:loading.delay.longest] {display: none;}[wire:offline][wire:offline] {display: none;}[wire:dirty]:not(textarea):not(input):not(select) {display: none;}:root {--livewire-progress-bar-color: #2299dd;}[x-cloak] {display: none !important;}</style>\\n\\n        <!-- Script -->\\n        <script >window.Wireui = {cache: {},hook(hook, callback) {window.addEventListener(`wireui:${hook}`, () => callback())},dispatchHook(hook) {window.dispatchEvent(new Event(`wireui:${hook}`))}}</script>\\n<script src=\"https://perenual.com/wireui/assets/scripts?id=5dda7be9cac61c5885776c4a03411770\" defer ></script>\\n\\n        <link rel=\"preload\" as=\"style\" href=\"https://perenual.com/build/assets/app-Dy9tYsF4.css\" /><link rel=\"modulepreload\" href=\"https://perenual.com/build/assets/app-Xaw6OIO1.js\" /><link rel=\"stylesheet\" href=\"https://perenual.com/build/assets/app-Dy9tYsF4.css\" data-navigate-track=\"reload\" /><script type=\"module\" src=\"https://perenual.com/build/assets/app-Xaw6OIO1.js\" data-navigate-track=\"reload\"></script>\\n<script>\\n     window.addEventListener(\\'load\\', () => window.setTimeout(() => {\\n        const makeLink = (asset) => {\\n            const link = document.createElement(\\'link\\')\\n\\n            Object.keys(asset).forEach((attribute) => {\\n                link.setAttribute(attribute, asset[attribute])\\n            })\\n\\n            return link\\n        }\\n\\n        const loadNext = (assets, count) => window.setTimeout(() => {\\n            if (count > assets.length) {\\n                count = assets.length\\n\\n                if (count === 0) {\\n                    return\\n                }\\n            }\\n\\n            const fragment = new DocumentFragment\\n\\n            while (count > 0) {\\n                const link = makeLink(assets.shift())\\n                fragment.append(link)\\n                count--\\n\\n                if (assets.length) {\\n                    link.onload = () => loadNext(assets, 1)\\n                    link.onerror = () => loadNext(assets, 1)\\n                }\\n            }\\n\\n            document.head.append(fragment)\\n        })\\n\\n        loadNext([], 3)\\n    }))\\n</script>\\n    </head>\\n    \\n    <div>\\n        <div wire:snapshot=\"{&quot;data&quot;:{&quot;zone&quot;:[{&quot;min&quot;:6,&quot;max&quot;:6},{&quot;s&quot;:&quot;arr&quot;}],&quot;size&quot;:&quot;lg&quot;,&quot;species_id&quot;:5},&quot;memo&quot;:{&quot;id&quot;:&quot;Ya3qzVu4e1TGYZIZIF0R&quot;,&quot;name&quot;:&quot;hardiness.map&quot;,&quot;path&quot;:&quot;api/hardiness-map&quot;,&quot;method&quot;:&quot;GET&quot;,&quot;children&quot;:[],&quot;scripts&quot;:[],&quot;assets&quot;:[],&quot;errors&quot;:[],&quot;locale&quot;:&quot;en&quot;},&quot;checksum&quot;:&quot;b3db52cbb28d42dde437ee4659550c64ab15f852eadc2ef238a44a656bf593d8&quot;}\" wire:effects=\"{&quot;url&quot;:{&quot;species_id&quot;:{&quot;as&quot;:&quot;species_id&quot;,&quot;use&quot;:&quot;push&quot;,&quot;alwaysShow&quot;:false,&quot;except&quot;:&quot;&quot;}}}\" wire:id=\"Ya3qzVu4e1TGYZIZIF0R\" class=\"relative\">\\n    \\n    <canvas id=\"myCanvas\" style=\"width: 100%; height: 100%;\"></canvas>\\n\\n    <script>\\n\\n        // Get the canvas element from the HTML\\n        const canvas = document.getElementById(\\'myCanvas\\');\\n        const ctx = canvas.getContext(\\'2d\\');\\n\\n        // Load the first image using the Image object to get its size\\n        const firstImageUrl = \"https://perenual.com/storage/image/hardiness/lg/0.png\";\\n        const firstImage = new Image();\\n        firstImage.onload = () => {\\n            // Set the canvas size to match the first image\\'s size\\n            canvas.width = firstImage.width;\\n            canvas.height = firstImage.height;\\n\\n            // Load the rest of the images and draw them onto the canvas\\n            const imageUrls = [\"https://perenual.com/storage/image/hardiness/lg/0.png\"];\\n\\n            for (var x = 6; x <= 6; x++) {\\n                const url = \"https://perenual.com/storage/image/hardiness/lg/\" + x + \".png\";\\n                imageUrls.push(url);\\n            }\\n\\n            for (let i = 0; i < imageUrls.length; i++) {\\n                const img = new Image();\\n                img.onload = () => {\\n                  // Set the global alpha value to 0.8 for all layers except for 0.png\\n                  if (i > 0) {\\n                    ctx.globalAlpha = 0.8;\\n                  }\\n                  ctx.drawImage(img, 0, 0);\\n                  // Reset the global alpha value to 1.0 for the next layer\\n                  ctx.globalAlpha = 1.0;\\n                };\\n                img.src = imageUrls[i];\\n              }\\n            };\\n            firstImage.src = firstImageUrl;\\n\\n    </script>\\n</div>    </div>\\n\\n<!-- Livewire Scripts -->\\n<script src=\"/livewire/livewire.js?id=951e6947\"   data-csrf=\"\" data-update-uri=\"/livewire/update\" data-navigate-once=\"true\"></script>\\n</html>\\n\\n')\n"
     ]
    }
   ],
   "source": [
    "# 在同一个连接会话中，或者在新的连接中执行\n",
    "try:\n",
    "    connection = mysql.connector.connect(**db_config)\n",
    "    cursor = connection.cursor()\n",
    "    \n",
    "    cursor.execute(\"SELECT COUNT(*) FROM Table04_GeneralPlantDistributionMapTable\")\n",
    "    row_count = cursor.fetchone()[0]\n",
    "    print(f\"表中现有 {row_count} 行数据\")\n",
    "    \n",
    "    # 查看前几行数据\n",
    "    cursor.execute(\"SELECT * FROM Table04_GeneralPlantDistributionMapTable LIMIT 5\")\n",
    "    rows = cursor.fetchall()\n",
    "    for row in rows:\n",
    "        print(row)\n",
    "        \n",
    "except Error as e:\n",
    "    print(f\"查询过程中发生错误：{e}\")\n",
    "finally:\n",
    "    if connection.is_connected():\n",
    "        cursor.close()\n",
    "        connection.close()"
   ]
  },
  {
   "cell_type": "markdown",
   "id": "a8c0798d",
   "metadata": {},
   "source": [
    "## 验证数据库中 HTML 内容的可复现性  \n",
    "从数据库提取 HTML 并保存为文件测试。"
   ]
  },
  {
   "cell_type": "code",
   "execution_count": 8,
   "id": "cb925792",
   "metadata": {},
   "outputs": [
    {
     "name": "stdout",
     "output_type": "stream",
     "text": [
      "已创建临时文件: C:\\Users\\zyyin1\\AppData\\Local\\Temp\\tmp4pptz27m.html\n",
      "已删除临时文件: C:\\Users\\zyyin1\\AppData\\Local\\Temp\\tmp4pptz27m.html\n"
     ]
    }
   ],
   "source": [
    "import mysql.connector\n",
    "from mysql.connector import Error\n",
    "import tempfile\n",
    "import os\n",
    "import webbrowser\n",
    "\n",
    "# 数据库连接配置\n",
    "def test_html_from_database(plant_id):\n",
    "    \"\"\"从数据库提取指定植物的 HTML 并在浏览器中测试\"\"\"\n",
    "    try:\n",
    "        connection = mysql.connector.connect(**db_config)\n",
    "        cursor = connection.cursor()\n",
    "        \n",
    "        # 查询指定植物的 HTML 内容\n",
    "        query = \"\"\"\n",
    "            SELECT \n",
    "                distribution_map_html \n",
    "            FROM \n",
    "                Table04_GeneralPlantDistributionMapTable \n",
    "            WHERE \n",
    "                general_plant_id = %s\n",
    "        \"\"\"\n",
    "        cursor.execute(query, (plant_id,))\n",
    "        result = cursor.fetchone()\n",
    "        \n",
    "        if result:\n",
    "            html_content = result[0]\n",
    "            \n",
    "            # 创建临时 HTML 文件\n",
    "            with tempfile.NamedTemporaryFile(mode='w', suffix='.html', delete=False, encoding='utf-8') as f:\n",
    "                f.write(html_content)\n",
    "                temp_file = f.name\n",
    "            \n",
    "            print(f\"已创建临时文件: {temp_file}\")\n",
    "            \n",
    "            # 在默认浏览器中打开\n",
    "            webbrowser.open('file://' + os.path.realpath(temp_file))\n",
    "            \n",
    "            # 等待用户确认\n",
    "            input(f\"请检查植物 ID {plant_id} 的分布图是否正常显示，按回车继续...\")\n",
    "            \n",
    "            # 删除临时文件\n",
    "            os.unlink(temp_file)\n",
    "            print(f\"已删除临时文件: {temp_file}\")\n",
    "        else:\n",
    "            print(f\"未找到植物 ID {plant_id} 的分布图数据\")\n",
    "            \n",
    "    except Error as e:\n",
    "        print(f\"查询过程中发生错误：{e}\")\n",
    "    finally:\n",
    "        if connection.is_connected():\n",
    "            cursor.close()\n",
    "            connection.close()\n",
    "\n",
    "# 测试几个不同的植物 ID\n",
    "test_html_from_database(77)"
   ]
  }
 ],
 "metadata": {
  "kernelspec": {
   "display_name": "base",
   "language": "python",
   "name": "python3"
  },
  "language_info": {
   "codemirror_mode": {
    "name": "ipython",
    "version": 3
   },
   "file_extension": ".py",
   "mimetype": "text/x-python",
   "name": "python",
   "nbconvert_exporter": "python",
   "pygments_lexer": "ipython3",
   "version": "3.10.16"
  }
 },
 "nbformat": 4,
 "nbformat_minor": 5
}
