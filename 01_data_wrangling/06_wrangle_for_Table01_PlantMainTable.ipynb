{
 "cells": [
  {
   "cell_type": "markdown",
   "id": "9b324eb6",
   "metadata": {},
   "source": [
    "# Plant Main Table Assembly and Database Import\n",
    "\n",
    "Name: Zihan, Klarissa"
   ]
  },
  {
   "cell_type": "markdown",
   "id": "d7ef9ffc",
   "metadata": {},
   "source": [
    "## Step 1 - Set Up Paths and Imports"
   ]
  },
  {
   "cell_type": "code",
   "execution_count": 1,
   "id": "698126d6",
   "metadata": {},
   "outputs": [],
   "source": [
    "import os\n",
    "import json\n",
    "import pandas as pd\n",
    "from glob import glob\n",
    "\n",
    "# Define input and output paths\n",
    "json_dir = \"01_raw_data/01_species_details\"\n",
    "csv_path = \"01_raw_data/01_threatened-plant-living-collection-plan.csv\"\n",
    "output_path = \"02_wrangled_data/Table01_PlantMainTable.csv\""
   ]
  },
  {
   "cell_type": "markdown",
   "id": "97545531",
   "metadata": {},
   "source": [
    "## Step 2 - Helpers and Flatten Functions"
   ]
  },
  {
   "cell_type": "code",
   "execution_count": 2,
   "id": "95bf1dc8",
   "metadata": {},
   "outputs": [],
   "source": [
    "# Flatten each JSON record\n",
    "def first_or_none(lst):\n",
    "    return lst[0] if isinstance(lst, list) and lst else None\n",
    "\n",
    "\n",
    "cycle_map = {\n",
    "    \"Perennial\": \"Every year\",\n",
    "    \"Annual\": \"Once a year\",\n",
    "    \"Biennial\": \"Every 2 years\"\n",
    "}\n",
    "\n",
    "def flatten_general(data):\n",
    "    plant_id = data.get(\"id\")\n",
    "    return {\n",
    "        \"plant_id\": plant_id,\n",
    "        \"general_plant_id\": plant_id,\n",
    "        \"threatened_plant_id\": None,\n",
    "        \"common_name\": data.get(\"common_name\"),\n",
    "        \"scientific_name\": first_or_none(data.get(\"scientific_name\")),\n",
    "        \"other_name\": first_or_none(data.get(\"other_name\")),\n",
    "        \"if_threatened\": False,\n",
    "        \"if_edible\": data.get(\"edible_fruit\", False) or data.get(\"edible_leaf\", False) or data.get(\"cuisine\", False),\n",
    "        \"if_indoors\": data.get(\"indoor\", False),\n",
    "        \"if_medicinal\": data.get(\"medicinal\", False),\n",
    "        \"if_poisonous\": data.get(\"poisonous_to_humans\", False) or data.get(\"poisonous_to_pets\", False),\n",
    "        \"if_fruits\": data.get(\"fruits\", False),\n",
    "        \"if_flowers\": data.get(\"flowers\", False),\n",
    "        # Store as JSON string to fit MySQL Workbench\n",
    "        \"sun_expose\": json.dumps(data.get(\"sunlight\", []), ensure_ascii=False),\n",
    "        \"watering\": data.get(\"watering\"),\n",
    "        \"plant_cycle\": cycle_map.get(data.get(\"cycle\"), data.get(\"cycle\")),\n",
    "        \"growth_rate\": data.get(\"growth_rate\")\n",
    "    }\n",
    "\n",
    "def flatten_threatened(row, index_offset):\n",
    "    plant_id = 3001 + index_offset\n",
    "    return {\n",
    "        \"plant_id\": plant_id,\n",
    "        \"general_plant_id\": None,\n",
    "        \"threatened_plant_id\": plant_id,\n",
    "        \"common_name\": row[\"Common Name\"],\n",
    "        \"scientific_name\": row[\"Species Name\"],\n",
    "        \"other_name\": None,\n",
    "        \"if_threatened\": True,\n",
    "        \"if_edible\": False,\n",
    "        \"if_indoors\": False,\n",
    "        \"if_medicinal\": False,\n",
    "        \"if_poisonous\": False,\n",
    "        \"if_fruits\": False,\n",
    "        \"if_flowers\": False,\n",
    "        # Store as JSON string to fit MySQL Workbench\n",
    "        \"sun_expose\": json.dumps(([row[\"Sun\"]] if pd.notna(row[\"Sun\"]) else []), ensure_ascii=False),\n",
    "        \"watering\": None,\n",
    "        \"plant_cycle\": cycle_map.get(row[\"Habit\"], row[\"Habit\"]),\n",
    "        \"growth_rate\": None\n",
    "    }"
   ]
  },
  {
   "cell_type": "markdown",
   "id": "537ad40c",
   "metadata": {},
   "source": [
    "## Step 3 - Load Raw JSON and CSV"
   ]
  },
  {
   "cell_type": "code",
   "execution_count": 3,
   "id": "28845b89",
   "metadata": {},
   "outputs": [],
   "source": [
    "# Load all JSON files\n",
    "json_files = glob(os.path.join(json_dir, \"plant_species_details_*.json\"))\n",
    "general_data = []\n",
    "for file in json_files:\n",
    "    with open(file, \"r\", encoding=\"utf-8\") as f:\n",
    "        data = json.load(f)\n",
    "        general_data.append(flatten_general(data))\n",
    "\n",
    "# Load threatened CSV\n",
    "threatened_df = pd.read_csv(csv_path)\n",
    "threatened_data = [flatten_threatened(row, i) for i, row in threatened_df.iterrows()]"
   ]
  },
  {
   "cell_type": "markdown",
   "id": "e437f11d",
   "metadata": {},
   "source": [
    "## Step 4 - Combine, Order Columns, and Save CSV"
   ]
  },
  {
   "cell_type": "code",
   "execution_count": 4,
   "id": "1ffe030c",
   "metadata": {},
   "outputs": [],
   "source": [
    "# Create DataFrame and sort\n",
    "combined_df = pd.DataFrame(general_data + threatened_data)\n",
    "combined_df = combined_df.sort_values(by=\"plant_id\").reset_index(drop=True)\n",
    "\n",
    "# Reorder columns\n",
    "ordered_cols = [\n",
    "    \"plant_id\", \"general_plant_id\", \"threatened_plant_id\",\n",
    "    \"common_name\", \"scientific_name\", \"other_name\",\n",
    "    \"if_threatened\", \"if_edible\", \"if_indoors\", \"if_medicinal\",\n",
    "    \"if_poisonous\", \"if_fruits\", \"if_flowers\",\n",
    "    \"sun_expose\", \"watering\", \"plant_cycle\", \"growth_rate\"\n",
    "]\n",
    "combined_df = combined_df[ordered_cols]\n",
    "\n",
    "# Ensure ID fields are integers (or NaN if missing)\n",
    "combined_df[\"plant_id\"] = pd.to_numeric(combined_df[\"plant_id\"], errors=\"coerce\").astype(\"Int64\")\n",
    "combined_df[\"general_plant_id\"] = pd.to_numeric(combined_df[\"general_plant_id\"], errors=\"coerce\").astype(\"Int64\")\n",
    "combined_df[\"threatened_plant_id\"] = pd.to_numeric(combined_df[\"threatened_plant_id\"], errors=\"coerce\").astype(\"Int64\")\n",
    "\n",
    "# Save to CSV\n",
    "os.makedirs(os.path.dirname(output_path), exist_ok=True)\n",
    "combined_df.to_csv(output_path, index=False)"
   ]
  },
  {
   "cell_type": "markdown",
   "id": "aedd8efb",
   "metadata": {},
   "source": [
    "## Step 5 - Import Plant Main Table into MySQL"
   ]
  },
  {
   "cell_type": "code",
   "execution_count": 5,
   "id": "59a2c85d",
   "metadata": {},
   "outputs": [
    {
     "name": "stdout",
     "output_type": "stream",
     "text": [
      "Successfully connected to MySQL server\n",
      "Data import successful! 891 rows affected.\n",
      "MySQL connection closed.\n"
     ]
    }
   ],
   "source": [
    "import mysql.connector\n",
    "from mysql.connector import Error\n",
    "\n",
    "# Database connection configuration\n",
    "db_config = {\n",
    "    'host': 'database-plantx.cqz06uycysiz.us-east-1.rds.amazonaws.com',\n",
    "    'user': 'zihan',\n",
    "    'password': '2002317Yzh12138.',\n",
    "    'database': 'FIT5120_PlantX_Database',\n",
    "    'allow_local_infile': True,\n",
    "    'use_pure': True  # Use pure Python implementation\n",
    "}\n",
    "\n",
    "try:\n",
    "    # Establish connection\n",
    "    connection = mysql.connector.connect(**db_config)\n",
    "    \n",
    "    if connection.is_connected():\n",
    "        print(\"Successfully connected to MySQL server\")\n",
    "        \n",
    "        # Create cursor\n",
    "        cursor = connection.cursor()\n",
    "        \n",
    "        # Construct LOAD DATA LOCAL INFILE command\n",
    "        load_data_query = \"\"\"\n",
    "        LOAD DATA LOCAL INFILE '02_wrangled_data/Table01_PlantMainTable.csv'\n",
    "        INTO TABLE Table01_PlantMainTable\n",
    "        CHARACTER SET utf8mb4\n",
    "        FIELDS TERMINATED BY ',' \n",
    "        OPTIONALLY ENCLOSED BY '\"'\n",
    "        LINES TERMINATED BY '\\\\r\\\\n'\n",
    "        IGNORE 1 LINES\n",
    "        (\n",
    "            plant_id, general_plant_id, threatened_plant_id, common_name, \n",
    "            scientific_name, other_name, if_threatened, if_edible, \n",
    "            if_indoors, if_medicinal, if_poisonous, if_fruits, \n",
    "            if_flowers, sun_expose, watering, plant_cycle, growth_rate\n",
    "        );\n",
    "        \"\"\"\n",
    "        \n",
    "        # Execute command\n",
    "        cursor.execute(load_data_query)\n",
    "        connection.commit()  # Commit transaction\n",
    "        \n",
    "        print(f\"Data import successful! {cursor.rowcount} rows affected.\")\n",
    "        \n",
    "except Error as e:\n",
    "    print(f\"Error occurred during execution: {e}\")\n",
    "    \n",
    "finally:\n",
    "    # Close connection\n",
    "    if connection.is_connected():\n",
    "        cursor.close()\n",
    "        connection.close()\n",
    "        print(\"MySQL connection closed.\")"
   ]
  },
  {
   "cell_type": "markdown",
   "id": "ce0ff3fc",
   "metadata": {},
   "source": [
    "## Step 6 - Verify Imported Rows and Preview"
   ]
  },
  {
   "cell_type": "code",
   "execution_count": 6,
   "id": "8eb8ab1c",
   "metadata": {},
   "outputs": [
    {
     "name": "stdout",
     "output_type": "stream",
     "text": [
      "The table currently contains 1684 rows\n",
      "(1, 1, 0, 'European Silver Fir', 'Abies alba', 'Common Silver Fir', 'False', 'False', 'False', 'True', 'False', 'False', 'False', '[\"full sun\"]', 'Frequent', 'Every year', 'High')\n",
      "(2, 2, 0, 'Pyramidalis Silver Fir', \"Abies alba 'Pyramidalis'\", '', 'False', 'False', 'False', 'False', 'False', 'False', 'False', '[\"full sun\"]', 'Average', 'Every year', 'Low')\n",
      "(3, 3, 0, 'White Fir', 'Abies concolor', 'Silver Fir', 'False', 'False', 'False', 'True', 'False', 'False', 'True', '[\"Full sun\", \"part shade\"]', 'Average', 'Every year', 'Low')\n",
      "(4, 4, 0, 'Candicans White Fir', \"Abies concolor 'Candicans'\", 'Silver Fir', 'False', 'False', 'False', 'False', 'False', 'False', 'False', '[\"full sun\"]', 'Average', 'Every year', 'Low')\n",
      "(5, 5, 0, 'Fraser Fir', 'Abies fraseri', 'Southern Fir', 'False', 'False', 'False', 'False', 'False', 'False', 'True', '[\"full sun\", \"part shade\", \"filtered shade\"]', 'Frequent', 'Every year', 'Moderate')\n"
     ]
    }
   ],
   "source": [
    "# In the same connection session, or in a new one\n",
    "try:\n",
    "    connection = mysql.connector.connect(**db_config)\n",
    "    cursor = connection.cursor()\n",
    "    \n",
    "    cursor.execute(\"SELECT COUNT(*) FROM Table01_PlantMainTable\")\n",
    "    row_count = cursor.fetchone()[0]\n",
    "    print(f\"The table currently contains {row_count} rows\")\n",
    "    \n",
    "    # Preview first few rows\n",
    "    cursor.execute(\"SELECT * FROM Table01_PlantMainTable LIMIT 5\")\n",
    "    rows = cursor.fetchall()\n",
    "    for row in rows:\n",
    "        print(row)\n",
    "        \n",
    "except Error as e:\n",
    "    print(f\"Error occurred during query: {e}\")\n",
    "finally:\n",
    "    if connection.is_connected():\n",
    "        cursor.close()\n",
    "        connection.close()"
   ]
  }
 ],
 "metadata": {
  "kernelspec": {
   "display_name": "base",
   "language": "python",
   "name": "python3"
  },
  "language_info": {
   "codemirror_mode": {
    "name": "ipython",
    "version": 3
   },
   "file_extension": ".py",
   "mimetype": "text/x-python",
   "name": "python",
   "nbconvert_exporter": "python",
   "pygments_lexer": "ipython3",
   "version": "3.10.16"
  }
 },
 "nbformat": 4,
 "nbformat_minor": 5
}
