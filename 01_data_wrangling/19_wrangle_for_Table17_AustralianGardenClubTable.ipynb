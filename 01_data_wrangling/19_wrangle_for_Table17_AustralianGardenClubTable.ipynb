{
 "cells": [
  {
   "cell_type": "markdown",
   "id": "fa10e155",
   "metadata": {},
   "source": [
    "# Import and Verify Australian Garden Club Table (Table17) in MySQL\n",
    "\n",
    "Name: Zihan  \n",
    "\n",
    "This notebook creates and imports the **Australian Garden Club Table (Table17)** into the MySQL database.  \n",
    "It includes three main steps:\n",
    "1. Create the table schema if not exists  \n",
    "2. Import data from CSV file  \n",
    "3. Verify imported rows and preview sample data\n"
   ]
  },
  {
   "cell_type": "markdown",
   "id": "3eac4f08",
   "metadata": {},
   "source": [
    "## Step 1 - Import Australian Garden Club Table (Table17) into MySQL"
   ]
  },
  {
   "cell_type": "code",
   "execution_count": null,
   "id": "f94c5305",
   "metadata": {},
   "outputs": [
    {
     "name": "stdout",
     "output_type": "stream",
     "text": [
      "Successfully connected to MySQL server.\n",
      "Table17_AustralianGardenClubTable schema created successfully.\n",
      "MySQL connection for creating Table17 schema closed.\n"
     ]
    }
   ],
   "source": [
    "import mysql.connector\n",
    "from mysql.connector import Error\n",
    "\n",
    "# Database connection configuration\n",
    "db_config = {\n",
    "    'host': 'database-plantx.cqz06uycysiz.us-east-1.rds.amazonaws.com',\n",
    "    'user': 'zihan',\n",
    "    'password': '2002317Yzh12138.',\n",
    "    'database': 'FIT5120_PlantX_Database',\n",
    "    'allow_local_infile': True,\n",
    "    'use_pure': True,\n",
    "    'charset': 'utf8mb4'\n",
    "}\n",
    "\n",
    "# Step 1 - Create Table17 schema if not exists\n",
    "try:\n",
    "    connection = mysql.connector.connect(**db_config)\n",
    "    if connection.is_connected():\n",
    "        print(\"Successfully connected to MySQL server.\")\n",
    "        cursor = connection.cursor()\n",
    "\n",
    "        create_table_17 = \"\"\"\n",
    "        CREATE TABLE IF NOT EXISTS Table17_AustralianGardenClubTable (\n",
    "            Club TEXT,\n",
    "            Link TEXT,\n",
    "            Meeting_day INT,\n",
    "            Meeting_week INT,\n",
    "            Meeting_hour TEXT,\n",
    "            Contact TEXT,\n",
    "            State TEXT,\n",
    "            Location TEXT\n",
    "        ) CHARACTER SET utf8mb4 COLLATE utf8mb4_unicode_ci;\n",
    "        \"\"\"\n",
    "\n",
    "        cursor.execute(create_table_17)\n",
    "        connection.commit()\n",
    "        print(\"Table17_AustralianGardenClubTable schema created successfully.\")\n",
    "\n",
    "except Error as e:\n",
    "    print(f\"Error occurred during creating Table17 schema: {e}\")\n",
    "\n",
    "finally:\n",
    "    if 'connection' in locals() and connection.is_connected():\n",
    "        cursor.close()\n",
    "        connection.close()\n",
    "        print(\"MySQL connection for creating Table17 schema closed.\")\n"
   ]
  },
  {
   "cell_type": "markdown",
   "id": "8bb9ecf2",
   "metadata": {},
   "source": [
    "## Step 2 - Import Data into Table17\n",
    "This step loads data from the CSV file into the newly created MySQL table.  \n",
    "Make sure the CSV file path and permissions are correct before running."
   ]
  },
  {
   "cell_type": "code",
   "execution_count": 5,
   "id": "9d1ddc78",
   "metadata": {},
   "outputs": [
    {
     "name": "stdout",
     "output_type": "stream",
     "text": [
      "Connected for Table17 data import.\n",
      "Table17 data import successful! 182 rows affected.\n",
      "MySQL connection for Table17 import closed.\n"
     ]
    }
   ],
   "source": [
    "## Step 2 - Import Data into Table17\n",
    "try:\n",
    "    connection = mysql.connector.connect(**db_config)\n",
    "    if connection.is_connected():\n",
    "        print(\"Connected for Table17 data import.\")\n",
    "        cursor = connection.cursor()\n",
    "\n",
    "        load_data_query_17 = f\"\"\"\n",
    "        LOAD DATA LOCAL INFILE '02_wrangled_data/Table17_AustralianGardenClubTable.csv'\n",
    "        INTO TABLE Table17_AustralianGardenClubTable\n",
    "        CHARACTER SET utf8mb4\n",
    "        FIELDS TERMINATED BY ','\n",
    "        OPTIONALLY ENCLOSED BY '\"'\n",
    "        LINES TERMINATED BY '\\\\r\\\\n'\n",
    "        IGNORE 1 LINES\n",
    "        (\n",
    "            Club,\n",
    "            Link,\n",
    "            Meeting_day,\n",
    "            Meeting_week,\n",
    "            Meeting_hour,\n",
    "            Contact,\n",
    "            State,\n",
    "            Location\n",
    "        );\n",
    "        \"\"\"\n",
    "\n",
    "        cursor.execute(load_data_query_17)\n",
    "        connection.commit()\n",
    "        print(f\"Table17 data import successful! {cursor.rowcount} rows affected.\")\n",
    "\n",
    "except Error as e:\n",
    "    print(f\"Error occurred during Table17 import: {e}\")\n",
    "\n",
    "finally:\n",
    "    if 'connection' in locals() and connection.is_connected():\n",
    "        cursor.close()\n",
    "        connection.close()\n",
    "        print(\"MySQL connection for Table17 import closed.\")"
   ]
  },
  {
   "cell_type": "markdown",
   "metadata": {},
   "source": [
    "## Step 3 - Verify Imported Rows and Preview (Table17)\n",
    "This step verifies how many rows were imported successfully and displays a sample of the data.\n"
   ]
  },
  {
   "cell_type": "code",
   "execution_count": null,
   "id": "0eb5267e",
   "metadata": {},
   "outputs": [
    {
     "name": "stdout",
     "output_type": "stream",
     "text": [
      "Table17_AustralianGardenClubTable currently contains 182 rows.\n",
      "\n",
      "--- Preview of first 5 rows from Table17 ---\n",
      "('African Violet Association of Australia', 'https://africanviolet.org.au/', 1, 2, '10:00', '02 4973 5727', 'ALL', '')\n",
      "('African Violet Association of Australia', 'https://africanviolet.org.au/', 1, 4, '20:00', '02 4973 5727', 'ALL', '')\n",
      "('Australasian Association of Friends of Botanic Gardens', 'https://friendsbotanicgardens.org/', 0, 0, '', '', 'ALL', '')\n",
      "('Australasian Carnivorous Plant Society', 'https://auscps.com/', 5, 2, '19:30', '', 'NSW', '')\n",
      "('Australasian Carnivorous Plant Society', 'https://auscps.com/', 3, 1, '19:00', '', 'QLD', '')\n",
      "MySQL connection for Table17 verification closed.\n"
     ]
    }
   ],
   "source": [
    "## Step 3 - Verify Imported Rows and Preview (Table17)\n",
    "try:\n",
    "    connection = mysql.connector.connect(**db_config)\n",
    "    if connection.is_connected():\n",
    "        cursor = connection.cursor()\n",
    "\n",
    "        # Count total rows\n",
    "        cursor.execute(\"SELECT COUNT(*) FROM Table17_AustralianGardenClubTable\")\n",
    "        row_count = cursor.fetchone()[0]\n",
    "        print(f\"Table17_AustralianGardenClubTable currently contains {row_count} rows.\")\n",
    "\n",
    "        # Preview first 5 rows\n",
    "        print(\"\\n--- Preview of first 5 rows from Table17 ---\")\n",
    "        cursor.execute(\"SELECT * FROM Table17_AustralianGardenClubTable LIMIT 5\")\n",
    "        rows = cursor.fetchall()\n",
    "        for row in rows:\n",
    "            print(row)\n",
    "\n",
    "except Error as e:\n",
    "    print(f\"Error occurred during Table17 verification: {e}\")\n",
    "\n",
    "finally:\n",
    "    if 'connection' in locals() and connection.is_connected():\n",
    "        cursor.close()\n",
    "        connection.close()\n",
    "        print(\"MySQL connection for Table17 verification closed.\")"
   ]
  }
 ],
 "metadata": {
  "kernelspec": {
   "display_name": "python_for_data_analysis",
   "language": "python",
   "name": "python3"
  },
  "language_info": {
   "codemirror_mode": {
    "name": "ipython",
    "version": 3
   },
   "file_extension": ".py",
   "mimetype": "text/x-python",
   "name": "python",
   "nbconvert_exporter": "python",
   "pygments_lexer": "ipython3",
   "version": "3.10.16"
  }
 },
 "nbformat": 4,
 "nbformat_minor": 5
}
