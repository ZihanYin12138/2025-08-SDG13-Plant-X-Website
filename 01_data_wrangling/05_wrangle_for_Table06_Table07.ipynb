{
 "cells": [
  {
   "cell_type": "markdown",
   "metadata": {},
   "source": [
    "# Threatened Plant Data Wrangling and Database Import\n",
    "\n",
    "Name: Zihan Yin"
   ]
  },
  {
   "cell_type": "markdown",
   "metadata": {},
   "source": [
    "## Step 1 - Load and Clean Raw Data"
   ]
  },
  {
   "cell_type": "code",
   "execution_count": 1,
   "metadata": {},
   "outputs": [],
   "source": [
    "import pandas as pd\n",
    "import re\n",
    "\n",
    "def strip_prefix(value):\n",
    "    if pd.isna(value):\n",
    "        return value\n",
    "    # Match prefix: optional number + optional * + followed by - or =\n",
    "    return re.sub(r'^\\s*\\d+\\*?\\s*[-=]\\s*', '', str(value)).strip()\n",
    "\n",
    "# Load raw file\n",
    "df = pd.read_csv(\"01_raw_data/01_threatened-plant-living-collection-plan.csv\")\n",
    "\n",
    "rename_map = {\n",
    "    \"Species Name\": \"species_name\",\n",
    "    \"Common Name\": \"common_name\",\n",
    "    \"Habit\": \"habit\",\n",
    "    \"Soil\": \"soil\",\n",
    "    \"Sun\": \"sun\",\n",
    "    \"Cultivation Protocols \": \"cultivation_protocols\",\n",
    "    \"Propagation Protocols \": \"propagation_protocols\",\n",
    "    \"Propagation Methods\": \"propagation_methods\",\n",
    "    \"Cultivation Requirements Subtotal\": \"cultivation_requirements_subtotal\",\n",
    "    \"Germplasm Source\": \"germplasm_source\",\n",
    "    \"Conservation Status\": \"conservation_status\",\n",
    "    \"Germplasm Origin\": \"germplasm_origin\",\n",
    "    \"Provenance\": \"provenance\",\n",
    "    \"Additional Conservation\\r\\nbenefit\": \"additional_conservation_benefit\",\n",
    "    \"Conservation Subtotal\": \"conservation_subtotal\",\n",
    "    \"Additional Local Benefits Description (i.e., to City of Melbourne)\": \"additional_local_benefits_description_i_e_to_city_of_melbourne\",\n",
    "    \"Additional Local Benefits Subtotal\": \"additional_local_benefits_subtotal\",\n",
    "    \"Total Score\": \"total_score\",\n",
    "    \"Horticultural Potential \": \"horticultural_potential\",\n",
    "    \"Total Score Including Hort Potential\": \"total_score_including_hort_potential\",\n",
    "    \"Weed Rating\": \"weed_rating\",\n",
    "    \"Priority species\": \"priority_species\"\n",
    "}\n",
    "\n",
    "df.rename(columns=rename_map, inplace=True)"
   ]
  },
  {
   "cell_type": "markdown",
   "metadata": {},
   "source": [
    "## Step 2 - Create Table06 and Table07 DataFrames"
   ]
  },
  {
   "cell_type": "code",
   "execution_count": 2,
   "metadata": {},
   "outputs": [],
   "source": [
    "import numpy as np\n",
    "\n",
    "# Add threatened_plant_id\n",
    "df['threatened_plant_id'] = range(3001, 3001 + len(df))\n",
    "\n",
    "# Table06\n",
    "table06 = df[['threatened_plant_id',\n",
    "              'conservation_status',\n",
    "              'provenance',\n",
    "              'weed_rating',\n",
    "              'habit',\n",
    "              'germplasm_source',\n",
    "              'additional_conservation_benefit',\n",
    "              'additional_local_benefits_description_i_e_to_city_of_melbourne',\n",
    "              'horticultural_potential']].copy()\n",
    "\n",
    "table06.rename(columns={\n",
    "    'additional_conservation_benefit': 'conservation_benefit',\n",
    "    'additional_local_benefits_description_i_e_to_city_of_melbourne': 'local_benefits_description'\n",
    "}, inplace=True)\n",
    "\n",
    "table06['conservation_benefit'] = table06['conservation_benefit'].replace('0', np.nan)\n",
    "\n",
    "# Remove prefix numbers\n",
    "for col in ['provenance', 'conservation_status', 'conservation_benefit', 'germplasm_source', 'horticultural_potential']:\n",
    "    table06[col] = table06[col].apply(strip_prefix)\n",
    "\n",
    "table06.to_csv(\"02_wrangled_data/Table06_ThreatenedPlantDescriptionTable.csv\", index=False)\n",
    "\n",
    "# Table07\n",
    "table07 = df[['threatened_plant_id',\n",
    "              'soil',\n",
    "              'sun',\n",
    "              'propagation_methods',\n",
    "              'propagation_protocols',\n",
    "              'cultivation_protocols']].copy()\n",
    "\n",
    "table07.rename(columns={\n",
    "    'propagation_protocols': 'propagation_level',\n",
    "    'cultivation_protocols': 'cultivation_note'\n",
    "}, inplace=True)\n",
    "\n",
    "# Remove prefix numbers\n",
    "for col in ['propagation_level', 'cultivation_note']:\n",
    "    table07[col] = table07[col].apply(strip_prefix)\n",
    "\n",
    "table07.to_csv(\"02_wrangled_data/Table07_ThreatenedPlantCareGuideTable.csv\", index=False)"
   ]
  },
  {
   "cell_type": "markdown",
   "metadata": {},
   "source": [
    "## Step 3 - Import Table06 into MySQL Database"
   ]
  },
  {
   "cell_type": "code",
   "execution_count": 3,
   "metadata": {},
   "outputs": [
    {
     "name": "stdout",
     "output_type": "stream",
     "text": [
      "Successfully connected to MySQL server\n",
      "Data import successful! 0 rows affected.\n",
      "MySQL connection closed.\n"
     ]
    }
   ],
   "source": [
    "import mysql.connector\n",
    "from mysql.connector import Error\n",
    "\n",
    "# Database connection config\n",
    "db_config = {\n",
    "    'host': 'database-plantx.cqz06uycysiz.us-east-1.rds.amazonaws.com',\n",
    "    'user': 'zihan',\n",
    "    'password': '2002317Yzh12138.',\n",
    "    'database': 'FIT5120_PlantX_Database',\n",
    "    'allow_local_infile': True,\n",
    "    'use_pure': True  # Use pure Python implementation\n",
    "}\n",
    "\n",
    "try:\n",
    "    # Establish connection\n",
    "    connection = mysql.connector.connect(**db_config)\n",
    "    \n",
    "    if connection.is_connected():\n",
    "        print(\"Successfully connected to MySQL server\")\n",
    "        \n",
    "        # Create cursor\n",
    "        cursor = connection.cursor()\n",
    "        \n",
    "        # Construct LOAD DATA LOCAL INFILE query\n",
    "        load_data_query = \"\"\"\n",
    "        LOAD DATA LOCAL INFILE '02_wrangled_data/Table06_ThreatenedPlantDescriptionTable.csv'\n",
    "        INTO TABLE Table06_ThreatenedPlantDescriptionTable\n",
    "        CHARACTER SET utf8mb4\n",
    "        FIELDS TERMINATED BY ',' \n",
    "        OPTIONALLY ENCLOSED BY '\"'\n",
    "        LINES TERMINATED BY '\\\\r\\\\n'\n",
    "        IGNORE 1 LINES\n",
    "        (\n",
    "            threatened_plant_id, conservation_status, provenance, weed_rating, habit, germplasm_source,\n",
    "            conservation_benefit, local_benefits_description, horticultural_potential\n",
    "        );\n",
    "        \"\"\"\n",
    "        \n",
    "        # Execute query\n",
    "        cursor.execute(load_data_query)\n",
    "        connection.commit()\n",
    "        \n",
    "        print(f\"Data import successful! {cursor.rowcount} rows affected.\")\n",
    "        \n",
    "except Error as e:\n",
    "    print(f\"Error occurred during execution: {e}\")\n",
    "    \n",
    "finally:\n",
    "    if connection.is_connected():\n",
    "        cursor.close()\n",
    "        connection.close()\n",
    "        print(\"MySQL connection closed.\")"
   ]
  },
  {
   "cell_type": "markdown",
   "metadata": {},
   "source": [
    "## Step 4 - Verify Data in Table06"
   ]
  },
  {
   "cell_type": "code",
   "execution_count": 4,
   "metadata": {},
   "outputs": [
    {
     "name": "stdout",
     "output_type": "stream",
     "text": [
      "The table currently contains 200 rows\n",
      "(3001, 'Critically Endangered', 'Indigenous to City of Melbourne', 'Low Risk', 'Annual', 'Currently held limited propagation material', 'Bushfire Recovery', 'Culturally Important to Traditional owners / and or local community', 'Plant with some ornamental attributes (form/flowers/fruit etc.) at various times of the year and could be reasonably incorporated into mixed plantings')\n",
      "(3002, 'Critically Endangered', 'Indigenous to City of Melbourne', 'Low Risk', 'Annual', 'Currently held in collection', 'Bushfire Recovery', 'Culturally Important to Traditional owners / and or local community', 'Plant with some ornamental attributes (form/flowers/fruit etc.) at various times of the year and could be reasonably incorporated into mixed plantings')\n",
      "(3003, 'Endangered', 'Indigenous to City of Melbourne', 'Medium Risk', 'Herbaceous Perennial', 'Not held in collection but easily obtained', '', 'Culturally Important to Traditional owners / and or local community, Suited to Green infrastructure Projects (Rain Gardens, Green Walls, Green Roofs, Woody Meadow)', 'Plant with some ornamental attributes (form/flowers/fruit etc.) at various times of the year and could be reasonably incorporated into mixed plantings')\n",
      "(3004, 'Endangered', 'Indigenous to City of Melbourne', 'Medium Risk', 'Herbaceous Perennial', 'Not held in collection moderately difficult to collect', '', 'Culturally Important to Traditional owners / and or local community', 'Little or no ornamental/display potential')\n",
      "(3005, 'Critically Endangered', 'Indigenous to City of Melbourne', 'Medium Risk', 'Herbaceous Perennial', 'Currently held limited propagation material', '', 'Culturally Important to Traditional owners / and or local community, Suited to Green infrastructure Projects (Rain Gardens, Green Walls, Green Roofs, Woody Meadow)', 'Plant with many ornamental attributes (form/flowers/fruit etc.) throughout year')\n"
     ]
    }
   ],
   "source": [
    "try:\n",
    "    connection = mysql.connector.connect(**db_config)\n",
    "    cursor = connection.cursor()\n",
    "    \n",
    "    cursor.execute(\"SELECT COUNT(*) FROM Table06_ThreatenedPlantDescriptionTable\")\n",
    "    row_count = cursor.fetchone()[0]\n",
    "    print(f\"The table currently contains {row_count} rows\")\n",
    "    \n",
    "    cursor.execute(\"SELECT * FROM Table06_ThreatenedPlantDescriptionTable LIMIT 5\")\n",
    "    rows = cursor.fetchall()\n",
    "    for row in rows:\n",
    "        print(row)\n",
    "        \n",
    "except Error as e:\n",
    "    print(f\"Error occurred during query: {e}\")\n",
    "finally:\n",
    "    if connection.is_connected():\n",
    "        cursor.close()\n",
    "        connection.close()"
   ]
  },
  {
   "cell_type": "markdown",
   "metadata": {},
   "source": [
    "## Step 5 - Import Table07 into MySQL Database"
   ]
  },
  {
   "cell_type": "code",
   "execution_count": 5,
   "metadata": {},
   "outputs": [
    {
     "name": "stdout",
     "output_type": "stream",
     "text": [
      "Successfully connected to MySQL server\n",
      "Data import successful! 0 rows affected.\n",
      "MySQL connection closed.\n"
     ]
    }
   ],
   "source": [
    "try:\n",
    "    connection = mysql.connector.connect(**db_config)\n",
    "    \n",
    "    if connection.is_connected():\n",
    "        print(\"Successfully connected to MySQL server\")\n",
    "        \n",
    "        cursor = connection.cursor()\n",
    "        \n",
    "        load_data_query = \"\"\"\n",
    "        LOAD DATA LOCAL INFILE '02_wrangled_data/Table07_ThreatenedPlantCareGuideTable.csv'\n",
    "        INTO TABLE Table07_ThreatenedPlantCareGuideTable\n",
    "        CHARACTER SET utf8mb4\n",
    "        FIELDS TERMINATED BY ',' \n",
    "        OPTIONALLY ENCLOSED BY '\"'\n",
    "        LINES TERMINATED BY '\\\\r\\\\n'\n",
    "        IGNORE 1 LINES\n",
    "        (\n",
    "            threatened_plant_id, soil, sun, propagation_methods, propagation_level, cultivation_note\n",
    "        );\n",
    "        \"\"\"\n",
    "        \n",
    "        cursor.execute(load_data_query)\n",
    "        connection.commit()\n",
    "        \n",
    "        print(f\"Data import successful! {cursor.rowcount} rows affected.\")\n",
    "        \n",
    "except Error as e:\n",
    "    print(f\"Error occurred during execution: {e}\")\n",
    "    \n",
    "finally:\n",
    "    if connection.is_connected():\n",
    "        cursor.close()\n",
    "        connection.close()\n",
    "        print(\"MySQL connection closed.\")"
   ]
  },
  {
   "cell_type": "markdown",
   "metadata": {},
   "source": [
    "## Step 6 - Verify Data in Table07"
   ]
  },
  {
   "cell_type": "code",
   "execution_count": 6,
   "metadata": {},
   "outputs": [
    {
     "name": "stdout",
     "output_type": "stream",
     "text": [
      "The table currently contains 200 rows\n",
      "(3001, 'Free Draining, Moderately Draining', 'Full Sun', 'Seed/Cuttings', 'Can be propagated - but requires significant time/effort', 'Difficult (but not impossible) to cultivate - short lived or has specific requirements for cultivation such as misting or mycorrhizal associates or pot culture')\n",
      "(3002, 'Free Draining, Moderately Draining', 'Full Sun', 'Seed', 'Difficult to propagate', 'Difficult (but not impossible) to cultivate - short lived or has specific requirements for cultivation such as misting or mycorrhizal associates or pot culture')\n",
      "(3003, 'Free Draining', 'Full Sun', 'Seed/Cuttings', 'Easily propagated', 'Can be cultivated with specific growing conditions eg moist well drained soils  - would need to be replaced within 5 years to maintain high quality plant')\n",
      "(3004, 'Free Draining', 'Full Sun, Part Shade', 'Seed', 'Easily propagated', 'Can be cultivated and is reasonably  tolerant of a range of garden situations/conditions - Longer lived 5+ years')\n",
      "(3005, 'Free Draining, Moderately Draining', 'Full Sun, Part Shade', 'Seed/Division', 'Easily propagated', 'Can be cultivated and is reasonably  tolerant of a range of garden situations/conditions - Longer lived 5+ years')\n"
     ]
    }
   ],
   "source": [
    "try:\n",
    "    connection = mysql.connector.connect(**db_config)\n",
    "    cursor = connection.cursor()\n",
    "    \n",
    "    cursor.execute(\"SELECT COUNT(*) FROM Table07_ThreatenedPlantCareGuideTable\")\n",
    "    row_count = cursor.fetchone()[0]\n",
    "    print(f\"The table currently contains {row_count} rows\")\n",
    "    \n",
    "    cursor.execute(\"SELECT * FROM Table07_ThreatenedPlantCareGuideTable LIMIT 5\")\n",
    "    rows = cursor.fetchall()\n",
    "    for row in rows:\n",
    "        print(row)\n",
    "        \n",
    "except Error as e:\n",
    "    print(f\"Error occurred during query: {e}\")\n",
    "finally:\n",
    "    if connection.is_connected():\n",
    "        cursor.close()\n",
    "        connection.close()"
   ]
  }
 ],
 "metadata": {
  "kernelspec": {
   "display_name": "python_for_data_analysis",
   "language": "python",
   "name": "python3"
  },
  "language_info": {
   "codemirror_mode": {
    "name": "ipython",
    "version": 3
   },
   "file_extension": ".py",
   "mimetype": "text/x-python",
   "name": "python",
   "nbconvert_exporter": "python",
   "pygments_lexer": "ipython3",
   "version": "3.10.16"
  },
  "orig_nbformat": 4
 },
 "nbformat": 4,
 "nbformat_minor": 2
}
