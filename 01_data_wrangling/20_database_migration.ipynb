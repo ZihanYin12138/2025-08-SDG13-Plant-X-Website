{
 "cells": [
  {
   "cell_type": "markdown",
   "id": "53054fca",
   "metadata": {},
   "source": [
    "# MySQL Database Migration (Old to New AWS RDS)"
   ]
  },
  {
   "cell_type": "markdown",
   "id": "319ec97f",
   "metadata": {},
   "source": [
    "## Step 0 — 导入库"
   ]
  },
  {
   "cell_type": "code",
   "execution_count": 18,
   "id": "2373fb70",
   "metadata": {},
   "outputs": [],
   "source": [
    "import os\n",
    "import subprocess"
   ]
  },
  {
   "cell_type": "markdown",
   "id": "d525bf2b",
   "metadata": {},
   "source": [
    "## Step 1 — 设置路径与备份文件位置"
   ]
  },
  {
   "cell_type": "code",
   "execution_count": 19,
   "id": "f12fe042",
   "metadata": {},
   "outputs": [
    {
     "name": "stdout",
     "output_type": "stream",
     "text": [
      "📂 当前工作目录: e:\\05_YZH_DS\\02_Monash_DS\\2025_S2_FIT5120_Industry_Experience_Studio_Project\\06_main_project\\03_github_submission\\03_github_submission\\2025-08-SDG13-Plant-X-Website\\01_data_wrangling\n",
      "💾 备份文件将保存到: e:\\05_YZH_DS\\02_Monash_DS\\2025_S2_FIT5120_Industry_Experience_Studio_Project\\06_main_project\\03_github_submission\\03_github_submission\\2025-08-SDG13-Plant-X-Website\\01_data_wrangling\\02_wrangled_data\\plantx_backup.sql\n"
     ]
    }
   ],
   "source": [
    "# 当前工作目录\n",
    "cwd = os.getcwd()\n",
    "print(f\"📂 当前工作目录: {cwd}\")\n",
    "\n",
    "# 备份文件路径：保存在当前目录下的 02_wrangled_data 文件夹\n",
    "backup_dir = os.path.join(cwd, \"02_wrangled_data\")\n",
    "os.makedirs(backup_dir, exist_ok=True)\n",
    "backup_file = os.path.join(backup_dir, \"plantx_backup.sql\")\n",
    "\n",
    "print(f\"💾 备份文件将保存到: {backup_file}\")"
   ]
  },
  {
   "cell_type": "markdown",
   "id": "9d0a174c",
   "metadata": {},
   "source": [
    "## Step 2 — 数据库配置"
   ]
  },
  {
   "cell_type": "code",
   "execution_count": 20,
   "id": "067d8a3f",
   "metadata": {},
   "outputs": [],
   "source": [
    "# 旧数据库（原 AWS 账号）\n",
    "old_db = {\n",
    "    \"host\": \"database-plantx.cqz06uycysiz.us-east-1.rds.amazonaws.com\",\n",
    "    \"user\": \"zihan\",\n",
    "    \"password\": \"2002317Yzh12138.\",\n",
    "    \"database\": \"FIT5120_PlantX_Database\"\n",
    "}\n",
    "\n",
    "# 新数据库（同学提供的新账号）\n",
    "new_db = {\n",
    "    \"host\": \"database-plantx.cerawa8mwzg4.us-east-1.rds.amazonaws.com\",\n",
    "    \"user\": \"zihan\",\n",
    "    \"password\": \"2002317Yzh12138.\",\n",
    "    \"database\": \"FIT5120_PlantX_Database\"\n",
    "}"
   ]
  },
  {
   "cell_type": "markdown",
   "id": "ee144596",
   "metadata": {},
   "source": [
    "## Step 3 — 指定 mysqldump/mysql 路径并检查"
   ]
  },
  {
   "cell_type": "code",
   "execution_count": 21,
   "id": "48a157ca",
   "metadata": {},
   "outputs": [
    {
     "name": "stdout",
     "output_type": "stream",
     "text": [
      "✅ 找到: E:\\02_App\\MySQL\\MySQL Workbench 8.0 CE\\mysqldump.exe\n",
      "✅ 找到: E:\\02_App\\MySQL\\MySQL Workbench 8.0 CE\\mysql.exe\n"
     ]
    }
   ],
   "source": [
    "# 指定路径（你的 MySQL Workbench 在 E 盘）\n",
    "MYSQL_BIN_PATH = r\"E:\\02_App\\MySQL\\MySQL Workbench 8.0 CE\"\n",
    "dump_exe = os.path.join(MYSQL_BIN_PATH, \"mysqldump.exe\")\n",
    "mysql_exe = os.path.join(MYSQL_BIN_PATH, \"mysql.exe\")\n",
    "\n",
    "# 检查路径是否存在\n",
    "for exe in [dump_exe, mysql_exe]:\n",
    "    if not os.path.exists(exe):\n",
    "        print(f\"⚠️ 警告：找不到 {exe}\")\n",
    "    else:\n",
    "        print(f\"✅ 找到: {exe}\")"
   ]
  },
  {
   "cell_type": "markdown",
   "id": "5b72426a",
   "metadata": {},
   "source": [
    "## Step 4 — 导出旧数据库"
   ]
  },
  {
   "cell_type": "code",
   "execution_count": 22,
   "id": "d4626162",
   "metadata": {},
   "outputs": [
    {
     "name": "stdout",
     "output_type": "stream",
     "text": [
      "\n",
      "🟡 正在导出旧数据库...\n",
      "✅ 导出完成: e:\\05_YZH_DS\\02_Monash_DS\\2025_S2_FIT5120_Industry_Experience_Studio_Project\\06_main_project\\03_github_submission\\03_github_submission\\2025-08-SDG13-Plant-X-Website\\01_data_wrangling\\02_wrangled_data\\plantx_backup.sql\n"
     ]
    }
   ],
   "source": [
    "## Step 4 — 导出旧数据库\n",
    "dump_cmd = [\n",
    "    dump_exe,\n",
    "    \"-h\", old_db[\"host\"],\n",
    "    \"-u\", old_db[\"user\"],\n",
    "    f\"-p{old_db['password']}\",\n",
    "    \"--routines\", \"--triggers\", \"--events\", \"--add-drop-table\",\n",
    "    old_db[\"database\"]\n",
    "]\n",
    "\n",
    "print(\"\\n🟡 正在导出旧数据库...\")\n",
    "#\n",
    "# 【修正 1】: 使用 \"wb\" (二进制写入) 模式, 而不是 \"w\" 和 encoding=\"utf-8\"\n",
    "# 这将确保 mysqldump 输出的二进制数据 (如 GEOMETRY) 被正确保存。\n",
    "#\n",
    "with open(backup_file, \"wb\") as f:\n",
    "    subprocess.run(dump_cmd, stdout=f, check=True)\n",
    "print(f\"✅ 导出完成: {backup_file}\")"
   ]
  },
  {
   "cell_type": "markdown",
   "id": "bede8734",
   "metadata": {},
   "source": [
    "## Step 5 — 导入到新数据库"
   ]
  },
  {
   "cell_type": "code",
   "execution_count": 23,
   "id": "929b6acc",
   "metadata": {},
   "outputs": [
    {
     "name": "stdout",
     "output_type": "stream",
     "text": [
      "\n",
      "🟡 正在导入到新数据库（改进版：忽略权限错误 + 关闭外键检查）...\n",
      "STDERR（错误信息片段）:\n",
      " mysql: [Warning] Using a password on the command line interface can be insecure.\n",
      "ERROR 1227 (42000) at line 25: Access denied; you need (at least one of) the SUPER or SYSTEM_VARIABLES_ADMIN privilege(s) for this operation\n",
      "\n",
      "✅ 导入完成！数据库迁移成功 🎉\n"
     ]
    }
   ],
   "source": [
    "## Step 5 — 导入到新数据库\n",
    "print(\"\\n🟡 正在导入到新数据库（改进版：忽略权限错误 + 关闭外键检查）...\")\n",
    "\n",
    "#\n",
    "# 【修正 2】: 定义 import_cmd 变量\n",
    "# 你在 subprocess.run 中使用了 import_cmd, 但它没有被定义。\n",
    "# 我们还添加了 --default-character-set=utf8mb4 来确保连接编码正确。\n",
    "#\n",
    "import_cmd = [\n",
    "    mysql_exe,\n",
    "    \"-h\", new_db[\"host\"],\n",
    "    \"-u\", new_db[\"user\"],\n",
    "    f\"-p{new_db['password']}\",\n",
    "    \"--default-character-set=utf8mb4\",\n",
    "    new_db[\"database\"]\n",
    "]\n",
    "\n",
    "#\n",
    "# 【修正 3】: 移除 SET sql_log_bin=0;\n",
    "# AWS RDS 不允许此操作，它会导致 ERROR 1227 权限错误。\n",
    "#\n",
    "prefix_sql = \"SET FOREIGN_KEY_CHECKS=0;\\n\"\n",
    "\n",
    "# 以二进制模式读取，这是正确的\n",
    "with open(backup_file, \"rb\") as f:\n",
    "    backup_data = f.read()\n",
    "\n",
    "# 将 SQL 文件内容与前缀命令拼接\n",
    "import_data = prefix_sql.encode(\"utf-8\") + backup_data + b\"\\nSET FOREIGN_KEY_CHECKS=1;\\n\"\n",
    "\n",
    "# 执行导入命令\n",
    "result = subprocess.run(\n",
    "    import_cmd + [\"--force\"],\n",
    "    input=import_data,\n",
    "    capture_output=True\n",
    ")\n",
    "\n",
    "# 输出错误（仅显示前 800 个字节以防太长）\n",
    "print(\"STDERR（错误信息片段）:\\n\", result.stderr.decode(errors=\"ignore\")[:800])\n",
    "\n",
    "# 检查返回值\n",
    "if result.returncode == 0:\n",
    "    print(\"✅ 导入完成！数据库迁移成功 🎉\")\n",
    "else:\n",
    "    print(f\"⚠️ 导入返回码: {result.returncode}，部分 SQL 可能被跳过。\")"
   ]
  }
 ],
 "metadata": {
  "kernelspec": {
   "display_name": "python_for_data_analysis",
   "language": "python",
   "name": "python3"
  },
  "language_info": {
   "codemirror_mode": {
    "name": "ipython",
    "version": 3
   },
   "file_extension": ".py",
   "mimetype": "text/x-python",
   "name": "python",
   "nbconvert_exporter": "python",
   "pygments_lexer": "ipython3",
   "version": "3.10.16"
  }
 },
 "nbformat": 4,
 "nbformat_minor": 5
}
