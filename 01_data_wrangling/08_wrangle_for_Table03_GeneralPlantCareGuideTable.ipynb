{
 "cells": [
  {
   "cell_type": "code",
   "execution_count": 9,
   "id": "5ee4524e",
   "metadata": {},
   "outputs": [],
   "source": [
    "import os\n",
    "import json\n",
    "import pandas as pd\n",
    "from glob import glob\n",
    "\n",
    "# Paths\n",
    "details_dir = \"01_raw_data/01_species_details\"\n",
    "care_dir = \"01_raw_data/02_care_guide\"\n",
    "output_path = \"02_wrangled_data/Table03_GeneralPlantCareGuideTable.csv\""
   ]
  },
  {
   "cell_type": "code",
   "execution_count": 10,
   "id": "49689c57",
   "metadata": {},
   "outputs": [],
   "source": [
    "# Cycle label mapping\n",
    "cycle_map = {\n",
    "    \"Perennial\": \"Every year\",\n",
    "    \"Annual\": \"Once a year\",\n",
    "    \"Biennial\": \"Every 2 years\"\n",
    "}"
   ]
  },
  {
   "cell_type": "code",
   "execution_count": 11,
   "id": "5af65dc8",
   "metadata": {},
   "outputs": [],
   "source": [
    "# Care guide parser\n",
    "def parse_care_sections(sections):\n",
    "    guide = {\"watering_guide\": None, \"sunlight_guide\": None, \"pruning_guide\": None}\n",
    "    for section in sections:\n",
    "        section_type = section.get(\"type\")\n",
    "        description = section.get(\"description\")\n",
    "        if section_type and description:\n",
    "            if section_type == \"watering\":\n",
    "                guide[\"watering_guide\"] = description\n",
    "            elif section_type == \"sunlight\":\n",
    "                guide[\"sunlight_guide\"] = description\n",
    "            elif section_type == \"pruning\":\n",
    "                guide[\"pruning_guide\"] = description\n",
    "    return guide"
   ]
  },
  {
   "cell_type": "code",
   "execution_count": 12,
   "id": "373e7a53",
   "metadata": {},
   "outputs": [],
   "source": [
    "# Flatten general plant record with care guide\n",
    "def flatten_general_care(details, care):\n",
    "    plant_id = details.get(\"id\")\n",
    "    if plant_id > 3000:\n",
    "        return None  # Skip threatened plants\n",
    "\n",
    "    # Extract care guide sections\n",
    "    care_sections = care.get(\"data\", [{}])[0].get(\"section\", []) if care else []\n",
    "    guide = parse_care_sections(care_sections)\n",
    "\n",
    "    # Compose benchmark\n",
    "    benchmark = details.get(\"watering_general_benchmark\", {})\n",
    "    benchmark_str = None\n",
    "    if benchmark.get(\"value\") and benchmark.get(\"unit\"):\n",
    "        benchmark_str = f\"At least once {benchmark['value']} {benchmark['unit']}\"\n",
    "\n",
    "    # Compose pruning count\n",
    "    pruning_count_list = details.get(\"pruning_count\", [])\n",
    "    pruning_str = None\n",
    "    if isinstance(pruning_count_list, list) and pruning_count_list:\n",
    "        first_entry = pruning_count_list[0]\n",
    "        if isinstance(first_entry, dict) and \"amount\" in first_entry and \"interval\" in first_entry:\n",
    "            pruning_str = f\"{first_entry['amount']} times {first_entry['interval']}\"\n",
    "\n",
    "\n",
    "    # Compose flowers detail\n",
    "    flowers_detail = None\n",
    "    if details.get(\"flowers\") and details.get(\"flowering_season\"):\n",
    "        flowers_detail = f\"Flowers in {details['flowering_season']}\"\n",
    "\n",
    "    return {\n",
    "        \"general_plant_id\": plant_id,\n",
    "        \n",
    "        \"watering\": details.get(\"watering\"),\n",
    "        \"watering_general_benchmark\": benchmark_str,\n",
    "        # \"sunlight\": details.get(\"sunlight\", []),\n",
    "        \"sunlight\": json.dumps(details.get(\"sunlight\", []), ensure_ascii=False), # Change a little bit to fit MySQL Workbench\n",
    "        # \"soil\": details.get(\"soil\", []),\n",
    "        \"soil\": json.dumps(details.get(\"soil\", []), ensure_ascii=False), # Change a little bit to fit MySQL Workbench\n",
    "        \"drought_tolerant\": details.get(\"drought_tolerant\", False),\n",
    "        \"salt_tolerant\": details.get(\"salt_tolerant\", False),\n",
    "        # \"pruning_month\": details.get(\"pruning_month\", []),\n",
    "        \"pruning_month\": json.dumps(details.get(\"pruning_month\", []), ensure_ascii=False), # Change a little bit to fit MySQL Workbench\n",
    "        \"pruning_count\": pruning_str,\n",
    "        # \"pest_susceptibility\": details.get(\"pest_susceptibility\", []),\n",
    "        \"pest_susceptibility\": json.dumps(details.get(\"pest_susceptibility\", []), ensure_ascii=False), # Change a little bit to fit MySQL Workbench\n",
    "        \"flowers_detail\": flowers_detail,\n",
    "        \"harvest_season\": details.get(\"harvest_season\"),\n",
    "        \"growth_rate\": details.get(\"growth_rate\"),\n",
    "        \"maintenance\": details.get(\"maintenance\"),\n",
    "        \"care_level\": details.get(\"care_level\"),\n",
    "        \n",
    "        \"watering_guide\": guide[\"watering_guide\"],\n",
    "        \"sunlight_guide\": guide[\"sunlight_guide\"],\n",
    "        \"pruning_guide\": guide[\"pruning_guide\"]\n",
    "    }"
   ]
  },
  {
   "cell_type": "code",
   "execution_count": 13,
   "id": "347ac661",
   "metadata": {},
   "outputs": [],
   "source": [
    "# Load general plant JSON files\n",
    "detail_files = glob(os.path.join(details_dir, \"plant_species_details_*.json\"))\n",
    "care_files = glob(os.path.join(care_dir, \"plant_species_care_guide_*.json\"))"
   ]
  },
  {
   "cell_type": "code",
   "execution_count": 14,
   "id": "1646225e",
   "metadata": {},
   "outputs": [],
   "source": [
    "# Build care guide lookup by species_id\n",
    "care_lookup = {}\n",
    "for file in care_files:\n",
    "    with open(file, \"r\", encoding=\"utf-8\") as f:\n",
    "        care_data = json.load(f)\n",
    "        species_id = care_data.get(\"data\", [{}])[0].get(\"species_id\")\n",
    "        if species_id:\n",
    "            care_lookup[species_id] = care_data\n",
    "\n",
    "# Flatten and combine\n",
    "flattened_data = []\n",
    "for file in detail_files:\n",
    "    with open(file, \"r\", encoding=\"utf-8\") as f:\n",
    "        details = json.load(f)\n",
    "        species_id = details.get(\"id\")\n",
    "        care = care_lookup.get(species_id)\n",
    "        record = flatten_general_care(details, care)\n",
    "        if record:\n",
    "            flattened_data.append(record)\n"
   ]
  },
  {
   "cell_type": "code",
   "execution_count": 15,
   "id": "1a6b5c2e",
   "metadata": {},
   "outputs": [],
   "source": [
    "# Create DataFrame and sort\n",
    "df = pd.DataFrame(flattened_data)\n",
    "df = df.sort_values(by=\"general_plant_id\").reset_index(drop=True)\n",
    "df[\"general_plant_id\"] = pd.to_numeric(df[\"general_plant_id\"], errors=\"coerce\").astype(\"Int64\")\n",
    "\n",
    "# Column order\n",
    "ordered_cols = [\n",
    "    \"general_plant_id\", \"watering\", \"watering_general_benchmark\", \"sunlight\", \"soil\",\n",
    "    \"drought_tolerant\", \"salt_tolerant\", \"pruning_month\", \"pruning_count\",\n",
    "    \"pest_susceptibility\", \"flowers_detail\", \"harvest_season\", \"growth_rate\",\n",
    "    \"maintenance\", \"care_level\", \"watering_guide\", \"sunlight_guide\", \"pruning_guide\"\n",
    "]\n",
    "df = df[ordered_cols]"
   ]
  },
  {
   "cell_type": "code",
   "execution_count": 16,
   "id": "85bb15b0",
   "metadata": {},
   "outputs": [],
   "source": [
    "# Save to CSV\n",
    "os.makedirs(os.path.dirname(output_path), exist_ok=True)\n",
    "df.to_csv(output_path, index=False)"
   ]
  },
  {
   "cell_type": "markdown",
   "id": "d054b51e",
   "metadata": {},
   "source": [
    "## 执行 LOAD DATA LOCAL INFILE 命令上传到数据库"
   ]
  },
  {
   "cell_type": "code",
   "execution_count": 18,
   "id": "2917465c",
   "metadata": {},
   "outputs": [
    {
     "name": "stdout",
     "output_type": "stream",
     "text": [
      "成功连接到 MySQL 服务器\n",
      "数据导入成功！影响了 484 行。\n",
      "MySQL 连接已关闭。\n"
     ]
    }
   ],
   "source": [
    "import mysql.connector\n",
    "from mysql.connector import Error\n",
    "\n",
    "# 数据库连接配置\n",
    "db_config = {\n",
    "    'host': 'database-plantx.cqz06uycysiz.us-east-1.rds.amazonaws.com',\n",
    "    'user': 'zihan',\n",
    "    'password': '2002317Yzh12138.',\n",
    "    'database': 'FIT5120_PlantX_Database',\n",
    "    'allow_local_infile': True,\n",
    "    'use_pure': True  # 使用纯Python实现\n",
    "}\n",
    "\n",
    "try:\n",
    "    # 建立连接\n",
    "    connection = mysql.connector.connect(**db_config)\n",
    "    \n",
    "    if connection.is_connected():\n",
    "        print(\"成功连接到 MySQL 服务器\")\n",
    "        \n",
    "        # 创建游标\n",
    "        cursor = connection.cursor()\n",
    "        \n",
    "        # 构建 LOAD DATA LOCAL INFILE 命令\n",
    "        # 注意：请将下面的文件路径替换为你实际的CSV文件路径\n",
    "        load_data_query = \"\"\"\n",
    "        LOAD DATA LOCAL INFILE '02_wrangled_data/Table03_GeneralPlantCareGuideTable.csv'\n",
    "        INTO TABLE Table03_GeneralPlantCareGuideTable\n",
    "        CHARACTER SET utf8mb4\n",
    "        FIELDS TERMINATED BY ',' \n",
    "        OPTIONALLY ENCLOSED BY '\"'\n",
    "        LINES TERMINATED BY '\\\\r\\\\n'\n",
    "        IGNORE 1 LINES\n",
    "        (   \n",
    "            general_plant_id, watering, watering_general_benchmark, sunlight,soil,\n",
    "            drought_tolerant, salt_tolerant, pruning_month,pruning_count,\n",
    "            pest_susceptibility, flowers_detail, harvest_season, growth_rate,maintenance,\n",
    "            care_level, watering_guide, sunlight_guide, pruning_guide\n",
    "        );\n",
    "        \"\"\"\n",
    "        \n",
    "        # 执行命令\n",
    "        cursor.execute(load_data_query)\n",
    "        connection.commit()  # 提交事务\n",
    "        \n",
    "        print(f\"数据导入成功！影响了 {cursor.rowcount} 行。\")\n",
    "        \n",
    "except Error as e:\n",
    "    print(f\"执行过程中发生错误：{e}\")\n",
    "    \n",
    "finally:\n",
    "    # 关闭连接\n",
    "    if connection.is_connected():\n",
    "        cursor.close()\n",
    "        connection.close()\n",
    "        print(\"MySQL 连接已关闭。\")"
   ]
  },
  {
   "cell_type": "markdown",
   "id": "64e267ed",
   "metadata": {},
   "source": [
    "## 验证导入结果"
   ]
  },
  {
   "cell_type": "code",
   "execution_count": 20,
   "id": "4097625d",
   "metadata": {},
   "outputs": [
    {
     "name": "stdout",
     "output_type": "stream",
     "text": [
      "表中现有 494 行数据\n",
      "(1, 'Frequent', 'At least once \"7-10\" days', '[\"full sun\"]', '[]', 'False', 'False', '[\"February\", \"March\", \"April\"]', '', '[]', '', '', 'High', '', 'Medium', \"European Silver Fir 'Abies Alba' should be watered about once a week, depending on the season and weather conditions. During the growing season (spring to mid-summer), water deeply and thoroughly. For the rest of the year, water only when the soil is dry. When watering, ensure that the root system is saturated. Do not over-water, as this can lead to root rot.\", \"European Silver Fir 'Abies Alba' is a species of coniferous tree that grows best in sunny areas. This species of plant requires a minimum of 6 hours of sunlight per day throughout the growing season. Ideally, it should receive up to 8 hours of direct sunlight in the summer months, and 4-5 hours of sunlight in the winter. It is important to note that European Silver Fir 'Abies Alba' is not tolerant of shade and may be damaged if exposed to too much shade.\", 'European Silver Fir should be pruned in the late winter to early spring months. This species should be pruned lightly and selectively, removing any dead, diseased, or broken branches. Foliage and branches that cross over 1 another should also be removed. Generally, pruning should not exceed 1/3 of the total height and width of the tree. When pruning, begin from the bottom of the tree and steadily move upwards.')\n",
      "(2, 'Average', 'At least once \"7-10\" days', '[\"full sun\"]', '[]', 'False', 'False', '[\"February\", \"March\", \"April\"]', '', '[]', '', '', 'Low', '', 'Medium', \"Water your Pyramidalis Silver Fir when the soil appears dry to the touch. The amount of water you give the plant will depend on the area's climate and the pot size in which it is growing. Generally, a good rule of thumb is to water the plant about every 7 to 10 days, giving it an inch (2 cm) of water at a time. If the weather is very hot and dry, you may wish to water the plant more often.\", \"Pyramidalis Silver Fir Abies Alba 'Pyramidalis' will thrive in full sun, meaning 6 or more hours of direct sunlight each day. This species does best in bright, sunny locations, as it will not tolerate shade. It is important to provide it with the proper amount of light throughout the year, as too little sunlight can lead to stunted growth. During the summer months, it should receive full sun all day, while in the winter months it should receive at least 4 hours of direct sunlight each day.\", \"Pruning Pyramidalis Silver Fir Abies Alba 'Pyramidalis' should be done in late winter or early spring. When pruning, the goal should be to maintain the natural pyramidal shape of the tree. Remove any broken or dead branches, as well as any branches that are crossing or rubbing. Be sure to remove any branches that are growing inward toward the center of the tree. It is best to prune only small amounts at a time, removing no more than one-third of the tree鈥檚 foliage. This will ensure that the tree remains healthy and vigorous.\")\n",
      "(3, 'Average', 'At least once \"7-10\" days', '[\"Full sun\", \"part shade\"]', '[\"Acidic\", \" Rocky \", \" gravelly \", \" dry\", \" Well-drained\"]', 'True', 'False', '[\"February\", \"March\", \"April\"]', '', '[\"Aphids\", \"adelgids\", \" Canker\", \"sap rot\", \" Dieback\", \" Root rot\", \"  Pest resistant\", \" Disease resistant \"]', '', '', 'Low', 'Moderate', 'Moderate', 'White Fir (Abies Concolor) should be watered thoroughly once per week during the growing season. During the winter, water should be reduced to once every two weeks. The soil should be moist but not soggy, so it is important to adjust the amount of water as needed.\\n\\nIf the soil around your White Fir becomes too wet, it is important to aerate the soil by adding a bit of sand or stone to allow water to drain better. Firs can also suffer from over-watering, so be sure to check the soil before each watering and adjust accordingly. When in doubt, less water is better than too much when it comes to White Firs.', \"White Fir (Abies Concolor) requires a minimum of 6 hours of direct sunlight per day in order to grow and thrive. It prefers full sun, but it can also tolerate partial shade. The best time for White Fir to receive sunlight is between 10am and 2pm, when the sun is at its strongest. During the late afternoon and early morning, the sun's rays may be too weak for the tree to absorb.\\n\\nIf the tree is not receiving enough sunlight, it may become stunted or develop yellowing needles.\", 'Pruning white fir Abies concolor should be done regularly to keep the tree healthy and promote new growth. Pruning should be done in late winter or early spring before new growth emerges. Make sure to remove any dead, diseased, or damaged branches at this time. Pruning should be light, removing no more than 1/3 of the tree鈥檚 total foliage. Make sure to leave enough foliage to maintain the natural shape of the tree. Pruning can be done with hand shears or pruning saws.')\n",
      "(4, 'Average', 'At least once \"7-10\" days', '[\"full sun\"]', '[]', 'True', 'False', '[\"February\", \"June\", \"July\", \"February\", \"June\", \"July\"]', '', '[]', '', '', 'Low', '', 'Medium', 'Candicans White Fir plants should be watered deeply every 7-14 days during the summer and spring months. In the fall, they should be watered every 14-21 days. During the winter and dry periods, they should be watered monthly. Allow the soil to become dry between waterings and be sure to water around the edges of the pot and not just directly in the center. Soil should never be kept saturated.', 'Candicans White Fir requires 6-8 hours of direct, bright sunlight each day for healthy growth. For best results, provide the longest amounts of time possible for direct sunlight exposure, but be sure to gradually increase exposure time so the tree does not become scorched. For example, begin with 4 hours of direct sunlight and increase by 1-2 hours per week thereafter until reaching the ideal 6-8 hours of sunlight each day.', \"Candicans White Fir (Abies concolor 'Candicans') should be pruned twice a year, once in the late winter and again in early summer. Pruning in late winter should be done to thin out the crown, removing up to 25% of the branches and lateral sprouts. Gently remove any crossing branches, diseased or dead branches, and any branches that grow in toward the center of the tree. Pruning in early summer should be done to shape the tree, such as cutting back some of the top branches to create a more rounded crown.\")\n",
      "(5, 'Frequent', 'At least once \"6-12\" days', '[\"full sun\", \"part shade\", \"filtered shade\"]', '[\"Well-drained\"]', 'False', 'False', '[\"February\", \"March\", \"April\", \"June\", \"July\", \"August\"]', '', '[\"Aphids\", \"adelgids\", \"  Pest resistant\", \" Disease resistant \"]', '', '', 'Moderate', 'Moderate', 'Medium', \"Fraser Fir (Abies fraseri) should be watered once every 2 weeks in the spring and summer. In the fall and winter, Fraser Fir should be watered only when the top few inches of soil become dry (around once a month). Water thoroughly until water runs out of the drainage holes. It is important to check the plant's soil moisture levels before watering to ensure that the soil doesn't become too wet.\", 'Fraser Fir (Abies fraseri) plants require full sun to thrive and will benefit from at least 6 hours of direct sunlight each day. This species usually does better in cooler climates, where it will receive partial or filtered light for the remainder of the day. It is important to remember that during the summer months, when the days are longer, Fraser Fir can still become stressed from too much exposure to sunlight, especially when temperatures are very high. To avoid sunscald or other damage, make sure to give your Fraser Fir some shade in the afternoon or on particularly hot days.', \"Pruning should generally be done in late winter or early spring, when the Fraser Fir tree is dormant. Otherwise, it is best to prune in the summer. Pruning should be done lightly, taking no more than 10-15% of the tree's foliage away. This will allow the tree time to heal and put its energy into new growth and development. If you have to prune more than that, divide it up over several years.\")\n"
     ]
    }
   ],
   "source": [
    "# 在同一个连接会话中，或者在新的连接中执行\n",
    "try:\n",
    "    connection = mysql.connector.connect(**db_config)\n",
    "    cursor = connection.cursor()\n",
    "    \n",
    "    cursor.execute(\"SELECT COUNT(*) FROM Table03_GeneralPlantCareGuideTable\")\n",
    "    row_count = cursor.fetchone()[0]\n",
    "    print(f\"表中现有 {row_count} 行数据\")\n",
    "    \n",
    "    # 查看前几行数据\n",
    "    cursor.execute(\"SELECT * FROM Table03_GeneralPlantCareGuideTable LIMIT 5\")\n",
    "    rows = cursor.fetchall()\n",
    "    for row in rows:\n",
    "        print(row)\n",
    "        \n",
    "except Error as e:\n",
    "    print(f\"查询过程中发生错误：{e}\")\n",
    "finally:\n",
    "    if connection.is_connected():\n",
    "        cursor.close()\n",
    "        connection.close()"
   ]
  }
 ],
 "metadata": {
  "kernelspec": {
   "display_name": "base",
   "language": "python",
   "name": "python3"
  },
  "language_info": {
   "codemirror_mode": {
    "name": "ipython",
    "version": 3
   },
   "file_extension": ".py",
   "mimetype": "text/x-python",
   "name": "python",
   "nbconvert_exporter": "python",
   "pygments_lexer": "ipython3",
   "version": "3.10.16"
  }
 },
 "nbformat": 4,
 "nbformat_minor": 5
}
