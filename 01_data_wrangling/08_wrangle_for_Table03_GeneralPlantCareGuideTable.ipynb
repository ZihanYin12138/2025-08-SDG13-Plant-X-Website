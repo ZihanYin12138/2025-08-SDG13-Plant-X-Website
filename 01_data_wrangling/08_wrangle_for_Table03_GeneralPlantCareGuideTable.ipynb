{
 "cells": [
  {
   "cell_type": "code",
   "execution_count": 14,
   "id": "5ee4524e",
   "metadata": {},
   "outputs": [],
   "source": [
    "import os\n",
    "import json\n",
    "import pandas as pd\n",
    "from glob import glob\n",
    "\n",
    "# Paths\n",
    "details_dir = \"01_raw_data/01_species_details\"\n",
    "care_dir = \"01_raw_data/02_care_guide\"\n",
    "output_path = \"02_wrangled_data/03_general_care.csv\""
   ]
  },
  {
   "cell_type": "code",
   "execution_count": 15,
   "id": "49689c57",
   "metadata": {},
   "outputs": [],
   "source": [
    "# Cycle label mapping\n",
    "cycle_map = {\n",
    "    \"Perennial\": \"Every year\",\n",
    "    \"Annual\": \"Once a year\",\n",
    "    \"Biennial\": \"Every 2 years\"\n",
    "}"
   ]
  },
  {
   "cell_type": "code",
   "execution_count": 16,
   "id": "5af65dc8",
   "metadata": {},
   "outputs": [],
   "source": [
    "# Care guide parser\n",
    "def parse_care_sections(sections):\n",
    "    guide = {\"watering_guide\": None, \"sunlight_guide\": None, \"pruning_guide\": None}\n",
    "    for section in sections:\n",
    "        section_type = section.get(\"type\")\n",
    "        description = section.get(\"description\")\n",
    "        if section_type and description:\n",
    "            if section_type == \"watering\":\n",
    "                guide[\"watering_guide\"] = description\n",
    "            elif section_type == \"sunlight\":\n",
    "                guide[\"sunlight_guide\"] = description\n",
    "            elif section_type == \"pruning\":\n",
    "                guide[\"pruning_guide\"] = description\n",
    "    return guide"
   ]
  },
  {
   "cell_type": "code",
   "execution_count": 17,
   "id": "373e7a53",
   "metadata": {},
   "outputs": [],
   "source": [
    "# Flatten general plant record with care guide\n",
    "def flatten_general_care(details, care):\n",
    "    plant_id = details.get(\"id\")\n",
    "    if plant_id > 3000:\n",
    "        return None  # Skip threatened plants\n",
    "\n",
    "    # Extract care guide sections\n",
    "    care_sections = care.get(\"data\", [{}])[0].get(\"section\", []) if care else []\n",
    "    guide = parse_care_sections(care_sections)\n",
    "\n",
    "    # Compose benchmark\n",
    "    benchmark = details.get(\"watering_general_benchmark\", {})\n",
    "    benchmark_str = None\n",
    "    if benchmark.get(\"value\") and benchmark.get(\"unit\"):\n",
    "        benchmark_str = f\"At least once {benchmark['value']} {benchmark['unit']}\"\n",
    "\n",
    "    # Compose pruning count\n",
    "    pruning_count_list = details.get(\"pruning_count\", [])\n",
    "    pruning_str = None\n",
    "    if isinstance(pruning_count_list, list) and pruning_count_list:\n",
    "        first_entry = pruning_count_list[0]\n",
    "        if isinstance(first_entry, dict) and \"amount\" in first_entry and \"interval\" in first_entry:\n",
    "            pruning_str = f\"{first_entry['amount']} times {first_entry['interval']}\"\n",
    "\n",
    "\n",
    "    # Compose flowers detail\n",
    "    flowers_detail = None\n",
    "    if details.get(\"flowers\") and details.get(\"flowering_season\"):\n",
    "        flowers_detail = f\"Flowers in {details['flowering_season']}\"\n",
    "\n",
    "    return {\n",
    "        \"general_plant_id\": plant_id,\n",
    "        \"watering\": details.get(\"watering\"),\n",
    "        \"watering_general_benchmark\": benchmark_str,\n",
    "        \"sunlight\": details.get(\"sunlight\", []),\n",
    "        \"soil\": details.get(\"soil\", []),\n",
    "        \"drought_tolerant\": details.get(\"drought_tolerant\", False),\n",
    "        \"salt_tolerant\": details.get(\"salt_tolerant\", False),\n",
    "        \"pruning_month\": details.get(\"pruning_month\", []),\n",
    "        \"pruning_count\": pruning_str,\n",
    "        \"pest_susceptibility\": details.get(\"pest_susceptibility\", []),\n",
    "        \"flowers_detail\": flowers_detail,\n",
    "        \"harvest_season\": details.get(\"harvest_season\"),\n",
    "        \"growth_rate\": details.get(\"growth_rate\"),\n",
    "        \"maintenance\": details.get(\"maintenance\"),\n",
    "        \"care_level\": details.get(\"care_level\"),\n",
    "        \"watering_guide\": guide[\"watering_guide\"],\n",
    "        \"sunlight_guide\": guide[\"sunlight_guide\"],\n",
    "        \"pruning_guide\": guide[\"pruning_guide\"]\n",
    "    }"
   ]
  },
  {
   "cell_type": "code",
   "execution_count": 18,
   "id": "347ac661",
   "metadata": {},
   "outputs": [],
   "source": [
    "# Load general plant JSON files\n",
    "detail_files = glob(os.path.join(details_dir, \"plant_species_details_*.json\"))\n",
    "care_files = glob(os.path.join(care_dir, \"plant_species_care_guide_*.json\"))\n"
   ]
  },
  {
   "cell_type": "code",
   "execution_count": 19,
   "id": "1646225e",
   "metadata": {},
   "outputs": [],
   "source": [
    "# Build care guide lookup by species_id\n",
    "care_lookup = {}\n",
    "for file in care_files:\n",
    "    with open(file, \"r\", encoding=\"utf-8\") as f:\n",
    "        care_data = json.load(f)\n",
    "        species_id = care_data.get(\"data\", [{}])[0].get(\"species_id\")\n",
    "        if species_id:\n",
    "            care_lookup[species_id] = care_data\n",
    "\n",
    "# Flatten and combine\n",
    "flattened_data = []\n",
    "for file in detail_files:\n",
    "    with open(file, \"r\", encoding=\"utf-8\") as f:\n",
    "        details = json.load(f)\n",
    "        species_id = details.get(\"id\")\n",
    "        care = care_lookup.get(species_id)\n",
    "        record = flatten_general_care(details, care)\n",
    "        if record:\n",
    "            flattened_data.append(record)\n"
   ]
  },
  {
   "cell_type": "code",
   "execution_count": 20,
   "id": "1a6b5c2e",
   "metadata": {},
   "outputs": [],
   "source": [
    "# Create DataFrame and sort\n",
    "df = pd.DataFrame(flattened_data)\n",
    "df = df.sort_values(by=\"general_plant_id\").reset_index(drop=True)\n",
    "df[\"general_plant_id\"] = pd.to_numeric(df[\"general_plant_id\"], errors=\"coerce\").astype(\"Int64\")\n",
    "\n",
    "# Column order\n",
    "ordered_cols = [\n",
    "    \"general_plant_id\", \"watering\", \"watering_general_benchmark\", \"sunlight\", \"soil\",\n",
    "    \"drought_tolerant\", \"salt_tolerant\", \"pruning_month\", \"pruning_count\",\n",
    "    \"pest_susceptibility\", \"flowers_detail\", \"harvest_season\", \"growth_rate\",\n",
    "    \"maintenance\", \"care_level\", \"watering_guide\", \"sunlight_guide\", \"pruning_guide\"\n",
    "]\n",
    "df = df[ordered_cols]\n"
   ]
  },
  {
   "cell_type": "code",
   "execution_count": 21,
   "id": "85bb15b0",
   "metadata": {},
   "outputs": [],
   "source": [
    "# Save to CSV\n",
    "os.makedirs(os.path.dirname(output_path), exist_ok=True)\n",
    "df.to_csv(output_path, index=False)"
   ]
  },
  {
   "cell_type": "code",
   "execution_count": null,
   "id": "1a7ebe7f",
   "metadata": {},
   "outputs": [],
   "source": []
  }
 ],
 "metadata": {
  "kernelspec": {
   "display_name": "base",
   "language": "python",
   "name": "python3"
  },
  "language_info": {
   "codemirror_mode": {
    "name": "ipython",
    "version": 3
   },
   "file_extension": ".py",
   "mimetype": "text/x-python",
   "name": "python",
   "nbconvert_exporter": "python",
   "pygments_lexer": "ipython3",
   "version": "3.12.2"
  }
 },
 "nbformat": 4,
 "nbformat_minor": 5
}
