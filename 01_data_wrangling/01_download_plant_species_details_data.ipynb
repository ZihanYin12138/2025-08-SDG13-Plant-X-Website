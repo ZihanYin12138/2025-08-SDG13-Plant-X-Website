{
 "cells": [
  {
   "cell_type": "markdown",
   "metadata": {},
   "source": [
    "## Cell 1 — 配置（多 Key、范围、输出目录）"
   ]
  },
  {
   "cell_type": "code",
   "execution_count": 15,
   "metadata": {},
   "outputs": [
    {
     "name": "stdout",
     "output_type": "stream",
     "text": [
      "使用 1 个 API Key，ID范围: 1～3000，输出目录: E:\\05_YZH_DS\\02_Monash_DS\\2025_S2_FIT5120_Industry_Experience_Studio_Project\\06_main_project\\02_asmt_draft\\data\\species_details\n"
     ]
    }
   ],
   "source": [
    "# === Config ===\n",
    "\n",
    "# 方式A：在此处直接列出多个 API Key\n",
    "API_KEYS = [\n",
    "    \"sk-kMpx68b02586bb61112084\"\n",
    "    \"sk-3ksU68b046f66e1f912089\",\n",
    "    \"sk-hCEF68b0479a9ad5b12090\",\n",
    "    \"sk-AAWv68b047ef83b2b12091\",\n",
    "    \"sk-TRjA68b0485ed0d8412092\",\n",
    "    \"sk-GAw468b062289a99012094\",\n",
    "    \"sk-Om0C68b0629c837de12095\",\n",
    "    \"sk-ACnv68b0630adff3b12096\"\n",
    "]\n",
    "\n",
    "START_ID = 1\n",
    "END_ID   = 3000\n",
    "\n",
    "# 每个 Key 的当日软上限（官方免费配额是100/天，这里留点缓冲）\n",
    "PER_KEY_SOFT_CAP = 100\n",
    "\n",
    "# 全局限速（每次请求后暂停秒数，避免429）\n",
    "SLEEP_BETWEEN = 1\n",
    "\n",
    "# 重试设置\n",
    "MAX_RETRIES   = 5\n",
    "BACKOFF_BASE  = 1.6\n",
    "\n",
    "# 输出目录 & 文件名模式\n",
    "from pathlib import Path\n",
    "OUT_DIR = Path(\"data/01_raw_datasets/01_species_details\")\n",
    "FILENAME_PATTERN = \"plant_species_details_{species_id}.json\"\n",
    "OUT_DIR.mkdir(parents=True, exist_ok=True)\n",
    "\n",
    "print(f\"使用 {len(API_KEYS)} 个 API Key，ID范围: {START_ID}～{END_ID}，输出目录: {OUT_DIR.resolve()}\")"
   ]
  },
  {
   "cell_type": "markdown",
   "metadata": {},
   "source": [
    "## Cell 2 — Key 轮换管理与工具函数"
   ]
  },
  {
   "cell_type": "code",
   "execution_count": 16,
   "metadata": {},
   "outputs": [],
   "source": [
    "import time\n",
    "import json\n",
    "from typing import Optional, Dict, Any\n",
    "import requests\n",
    "\n",
    "class KeyManager:\n",
    "    \"\"\"\n",
    "    负责在多个 API Key 间轮换、统计每个 Key 已用请求数，并基于响应头的 x-ratelimit-remaining 智能停机。\n",
    "    \"\"\"\n",
    "    def __init__(self, keys, per_key_soft_cap=100):\n",
    "        self.keys = list(keys)\n",
    "        self.n = len(self.keys)\n",
    "        self.per_key_soft_cap = per_key_soft_cap\n",
    "        self.idx = 0\n",
    "        self.usage = {k: 0 for k in self.keys}\n",
    "        self.mark_exhausted = {k: False for k in self.keys}  # 额度用尽或被429/禁止时标记\n",
    "\n",
    "    def current(self) -> Optional[str]:\n",
    "        # 如果当前 key 不可用，向前找可用的\n",
    "        for _ in range(self.n):\n",
    "            k = self.keys[self.idx]\n",
    "            if not self.mark_exhausted[k] and self.usage[k] < self.per_key_soft_cap:\n",
    "                return k\n",
    "            self.idx = (self.idx + 1) % self.n\n",
    "        return None  # 所有 key 都不可用\n",
    "\n",
    "    def rotate(self):\n",
    "        self.idx = (self.idx + 1) % self.n\n",
    "\n",
    "    def add_usage(self, key: str, cnt: int = 1):\n",
    "        self.usage[key] += cnt\n",
    "        if self.usage[key] >= self.per_key_soft_cap:\n",
    "            # 达到软上限，后续不再使用它\n",
    "            self.mark_exhausted[key] = True\n",
    "\n",
    "    def set_exhausted(self, key: str):\n",
    "        self.mark_exhausted[key] = True\n",
    "\n",
    "    def all_exhausted(self) -> bool:\n",
    "        return all(self.mark_exhausted[k] or self.usage[k] >= self.per_key_soft_cap for k in self.keys)\n",
    "\n",
    "def save_json(path: Path, data: Dict[str, Any]):\n",
    "    path.write_text(json.dumps(data, ensure_ascii=False, indent=2), encoding=\"utf-8\")\n",
    "\n",
    "def build_filepath(species_id: int) -> Path:\n",
    "    return OUT_DIR / FILENAME_PATTERN.format(species_id=species_id)\n"
   ]
  },
  {
   "cell_type": "markdown",
   "metadata": {},
   "source": [
    "## Cell 3 — 单条抓取函数（含重试、指数退避、429/5xx 处理）"
   ]
  },
  {
   "cell_type": "code",
   "execution_count": 17,
   "metadata": {},
   "outputs": [],
   "source": [
    "def fetch_species_details(species_id: int, key_manager: KeyManager) -> Optional[dict]:\n",
    "    \"\"\"\n",
    "    返回JSON字典；若检测到配额用尽（从响应头推断）则返回 None 以触发安全停机。\n",
    "    \"\"\"\n",
    "    url = f\"https://perenual.com/api/v2/species/details/{species_id}\"\n",
    "    attempt = 0\n",
    "\n",
    "    while attempt <= MAX_RETRIES:\n",
    "        key = key_manager.current()\n",
    "        if key is None:\n",
    "            print(f\"[ID {species_id}] 所有 Key 当日软上限已满或不可用，停止。\")\n",
    "            return None\n",
    "\n",
    "        try:\n",
    "            resp = requests.get(url, params={\"key\": key}, headers={\"accept\":\"application/json\"}, timeout=30)\n",
    "\n",
    "            # 读剩余额度（若服务端提供）\n",
    "            remaining = resp.headers.get(\"x-ratelimit-remaining\")\n",
    "            if remaining is not None:\n",
    "                try:\n",
    "                    if int(remaining) <= 0:\n",
    "                        print(f\"[{key}] x-ratelimit-remaining=0 -> 标记该 Key 用尽。\")\n",
    "                        key_manager.set_exhausted(key)\n",
    "                        # 立即换下一个 Key 继续尝试\n",
    "                        key_manager.rotate()\n",
    "                        continue\n",
    "                except ValueError:\n",
    "                    pass\n",
    "\n",
    "            if resp.status_code == 200:\n",
    "                key_manager.add_usage(key, 1)\n",
    "                return resp.json()\n",
    "\n",
    "            elif resp.status_code == 404:\n",
    "                key_manager.add_usage(key, 1)\n",
    "                print(f\"[ID {species_id}] 404，不存在：保存占位并继续。\")\n",
    "                return {\"__missing__\": True, \"id\": species_id}\n",
    "\n",
    "            elif resp.status_code == 429:\n",
    "                # 速率受限：指数退避，并暂时避开该 key\n",
    "                wait = (BACKOFF_BASE ** attempt) + 0.2 * attempt\n",
    "                print(f\"[ID {species_id}] 429 Too Many Requests，用 key={key}，等待 {wait:.1f}s 后换 Key 重试。\")\n",
    "                time.sleep(wait)\n",
    "                # 不计入 usage，但先旋转 key\n",
    "                key_manager.rotate()\n",
    "                attempt += 1\n",
    "                continue\n",
    "\n",
    "            elif resp.status_code in (500, 502, 503, 504):\n",
    "                wait = (BACKOFF_BASE ** attempt) + 0.2 * attempt\n",
    "                print(f\"[ID {species_id}] {resp.status_code} 服务端错误，用 key={key}，等待 {wait:.1f}s 重试。\")\n",
    "                time.sleep(wait)\n",
    "                attempt += 1\n",
    "                continue\n",
    "\n",
    "            else:\n",
    "                key_manager.add_usage(key, 1)\n",
    "                print(f\"[ID {species_id}] HTTP {resp.status_code}: {resp.text[:200]}\")\n",
    "                return {\"__error_status__\": resp.status_code, \"id\": species_id}\n",
    "\n",
    "        except requests.RequestException as e:\n",
    "            wait = (BACKOFF_BASE ** attempt) + 0.2 * attempt\n",
    "            print(f\"[ID {species_id}] 网络异常（{type(e).__name__}）：{e}。等待 {wait:.1f}s 重试。\")\n",
    "            time.sleep(wait)\n",
    "            attempt += 1\n",
    "\n",
    "    print(f\"[ID {species_id}] 重试耗尽，放弃。\")\n",
    "    return {\"__error_retries_exhausted__\": True, \"id\": species_id}\n"
   ]
  },
  {
   "cell_type": "markdown",
   "metadata": {},
   "source": [
    "## Cell 4 — 主循环（断点续跑、跳过已有文件、智能停机）"
   ]
  },
  {
   "cell_type": "code",
   "execution_count": null,
   "metadata": {},
   "outputs": [],
   "source": [
    "from tqdm.auto import tqdm  # 非必须；若未安装可注释掉并删去进度条\n",
    "\n",
    "km = KeyManager(API_KEYS, per_key_soft_cap=PER_KEY_SOFT_CAP)\n",
    "\n",
    "downloaded = 0\n",
    "skipped = 0\n",
    "\n",
    "for species_id in tqdm(range(START_ID, END_ID + 1), desc=\"Downloading\"):\n",
    "    fp = build_filepath(species_id)\n",
    "    if fp.exists():\n",
    "        skipped += 1\n",
    "        continue\n",
    "\n",
    "    data = fetch_species_details(species_id, km)\n",
    "    if data is None:\n",
    "        # 所有 key 临时不可用或额度用尽 -> 安全停机\n",
    "        print(\"Key 配额可能用尽或受限，已安全停机。\")\n",
    "        break\n",
    "\n",
    "    save_json(fp, data)\n",
    "    downloaded += 1\n",
    "    time.sleep(SLEEP_BETWEEN)\n",
    "\n",
    "print(f\"新增下载 {downloaded} 个，跳过(已存在) {skipped} 个。输出目录：{OUT_DIR.resolve()}\")\n",
    "print(\"各 Key 使用统计：\", km.usage)\n"
   ]
  },
  {
   "cell_type": "code",
   "execution_count": null,
   "metadata": {},
   "outputs": [],
   "source": [
    "import shutil\n",
    "shutil.make_archive(\"01_species_details\", 'zip', \"data/01_species_details\")"
   ]
  },
  {
   "cell_type": "code",
   "execution_count": null,
   "metadata": {},
   "outputs": [],
   "source": [
    "from google.colab import files\n",
    "files.download(\"01_species_details.zip\")"
   ]
  }
 ],
 "metadata": {
  "kernelspec": {
   "display_name": "python_for_data_analysis",
   "language": "python",
   "name": "python3"
  },
  "language_info": {
   "codemirror_mode": {
    "name": "ipython",
    "version": 3
   },
   "file_extension": ".py",
   "mimetype": "text/x-python",
   "name": "python",
   "nbconvert_exporter": "python",
   "pygments_lexer": "ipython3",
   "version": "3.10.16"
  },
  "orig_nbformat": 4
 },
 "nbformat": 4,
 "nbformat_minor": 2
}
