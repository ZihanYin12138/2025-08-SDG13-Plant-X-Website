{
 "cells": [
  {
   "cell_type": "markdown",
   "metadata": {},
   "source": [
    "# Import and Verify Plant Disease Link Table (Table11) in MySQL\n",
    "\n",
    "Name: Zihan"
   ]
  },
  {
   "cell_type": "markdown",
   "metadata": {},
   "source": [
    "## Step 1 - Import Plant Disease Link Table (Table11) into MySQL"
   ]
  },
  {
   "cell_type": "code",
   "execution_count": 6,
   "metadata": {},
   "outputs": [
    {
     "name": "stdout",
     "output_type": "stream",
     "text": [
      "Successfully connected to MySQL server\n",
      "Table11 schema created successfully.\n",
      "MySQL connection for creating Table11 schema closed.\n"
     ]
    }
   ],
   "source": [
    "import mysql.connector\n",
    "from mysql.connector import Error\n",
    "\n",
    "# Database connection configuration, specifying utf8mb4 for full Unicode support\n",
    "db_config = {\n",
    "    'host': 'database-plantx.cqz06uycysiz.us-east-1.rds.amazonaws.com',\n",
    "    'user': 'zihan',\n",
    "    'password': '2002317Yzh12138.',\n",
    "    'database': 'FIT5120_PlantX_Database',\n",
    "    'allow_local_infile': True,\n",
    "    'use_pure': True,\n",
    "    'charset': 'utf8mb4'\n",
    "}\n",
    "\n",
    "# Attempt to connect and create the necessary table\n",
    "try:\n",
    "    connection = mysql.connector.connect(**db_config)\n",
    "    if connection.is_connected():\n",
    "        print(\"Successfully connected to MySQL server\")\n",
    "        cursor = connection.cursor()\n",
    "\n",
    "        # SQL statement to create the Plant Disease Link table\n",
    "        create_table_11 = \"\"\"\n",
    "        CREATE TABLE IF NOT EXISTS Table11_PlantDiseaseLinkTable (\n",
    "            kaggle_plant_disease_name VARCHAR(255) PRIMARY KEY,\n",
    "            perenual_plant_disease_id INT,\n",
    "            perenual_plant_disease_common_name TEXT,\n",
    "            mapping_notes TEXT\n",
    "        ) CHARACTER SET utf8mb4 COLLATE utf8mb4_unicode_ci;\n",
    "        \"\"\"\n",
    "\n",
    "        cursor.execute(create_table_11)\n",
    "        connection.commit()\n",
    "        print(\"Table11 schema created successfully.\")\n",
    "\n",
    "except Error as e:\n",
    "    print(f\"Error occurred during creating Table11 schema: {e}\")\n",
    "\n",
    "finally:\n",
    "    if 'connection' in locals() and connection.is_connected():\n",
    "        cursor.close()\n",
    "        connection.close()\n",
    "        print(\"MySQL connection for creating Table11 schema closed.\")"
   ]
  },
  {
   "cell_type": "markdown",
   "metadata": {},
   "source": [
    "## Step 2 - Import Data into Table11"
   ]
  },
  {
   "cell_type": "code",
   "execution_count": 7,
   "metadata": {},
   "outputs": [
    {
     "name": "stdout",
     "output_type": "stream",
     "text": [
      "Successfully connected to MySQL server for Table11 import.\n",
      "Table11 data import successful! 91 rows affected.\n",
      "MySQL connection for Table11 closed.\n"
     ]
    }
   ],
   "source": [
    "try:\n",
    "    # Re-establish the connection for the data import operation\n",
    "    connection = mysql.connector.connect(**db_config)\n",
    "    if connection.is_connected():\n",
    "        print(\"Successfully connected to MySQL server for Table11 import.\")\n",
    "        cursor = connection.cursor()\n",
    "\n",
    "        # Define the query to load data from the CSV file into the database\n",
    "        load_data_query_11 = f\"\"\"\n",
    "        LOAD DATA LOCAL INFILE '02_wrangled_data/Table11_PlantDiseaseLinkTable.csv'\n",
    "        INTO TABLE Table11_PlantDiseaseLinkTable\n",
    "        CHARACTER SET utf8mb4\n",
    "        FIELDS TERMINATED BY ','\n",
    "        OPTIONALLY ENCLOSED BY '\"'\n",
    "        LINES TERMINATED BY '\\\\r\\\\n'\n",
    "        IGNORE 1 LINES\n",
    "        (\n",
    "            kaggle_plant_disease_name,\n",
    "            perenual_plant_disease_id,\n",
    "            perenual_plant_disease_common_name,\n",
    "            mapping_notes\n",
    "        );\n",
    "        \"\"\"\n",
    "\n",
    "        cursor.execute(load_data_query_11)\n",
    "        connection.commit()\n",
    "        print(f\"Table11 data import successful! {cursor.rowcount} rows affected.\")\n",
    "\n",
    "except Error as e:\n",
    "    print(f\"Error occurred during Table11 import: {e}\")\n",
    "\n",
    "finally:\n",
    "    if 'connection' in locals() and connection.is_connected():\n",
    "        cursor.close()\n",
    "        connection.close()\n",
    "        print(\"MySQL connection for Table11 closed.\")"
   ]
  },
  {
   "cell_type": "markdown",
   "metadata": {},
   "source": [
    "## Step 3 - Verify Imported Rows and Preview (Table11)"
   ]
  },
  {
   "cell_type": "code",
   "execution_count": 8,
   "metadata": {},
   "outputs": [
    {
     "name": "stdout",
     "output_type": "stream",
     "text": [
      "Table11_PlantDiseaseLinkTable currently contains 91 rows.\n",
      "\n",
      "--- Preview of first 5 rows from Table11 ---\n",
      "('Apple__black_rot', 67, 'Black blight (Ringspot)', 'Mapped to closest match: Black blight')\n",
      "('Apple__healthy', 0, 'healthy', 'Healthy plant')\n",
      "('Apple__rust', 6, 'Rust', 'Common name match')\n",
      "('Apple__scab', 22, 'Apple scab', 'Direct match')\n",
      "('Cassava__bacterial_blight', 56, 'Bacterial soft rots leaf spots blights wilts', 'Bacterial disease, mapped to general category')\n",
      "MySQL connection for Table11 closed.\n"
     ]
    }
   ],
   "source": [
    "try:\n",
    "    connection = mysql.connector.connect(**db_config)\n",
    "    if connection.is_connected():\n",
    "        cursor = connection.cursor()\n",
    "\n",
    "        # Get the total number of rows in the table\n",
    "        cursor.execute(\"SELECT COUNT(*) FROM Table11_PlantDiseaseLinkTable\")\n",
    "        row_count = cursor.fetchone()[0]\n",
    "        print(f\"Table11_PlantDiseaseLinkTable currently contains {row_count} rows.\")\n",
    "\n",
    "        # Fetch and print the first 5 rows for a quick preview\n",
    "        print(\"\\n--- Preview of first 5 rows from Table11 ---\")\n",
    "        cursor.execute(\"SELECT * FROM Table11_PlantDiseaseLinkTable LIMIT 5\")\n",
    "        rows = cursor.fetchall()\n",
    "        for row in rows:\n",
    "            print(row)\n",
    "\n",
    "except Error as e:\n",
    "    print(f\"Error occurred during Table11 verification: {e}\")\n",
    "\n",
    "finally:\n",
    "    if 'connection' in locals() and connection.is_connected():\n",
    "        cursor.close()\n",
    "        connection.close()\n",
    "        print(\"MySQL connection for Table11 closed.\")"
   ]
  }
 ],
 "metadata": {
  "kernelspec": {
   "display_name": "python_for_data_analysis",
   "language": "python",
   "name": "python3"
  },
  "language_info": {
   "codemirror_mode": {
    "name": "ipython",
    "version": 3
   },
   "file_extension": ".py",
   "mimetype": "text/x-python",
   "name": "python",
   "nbconvert_exporter": "python",
   "pygments_lexer": "ipython3",
   "version": "3.10.16"
  },
  "orig_nbformat": 4
 },
 "nbformat": 4,
 "nbformat_minor": 2
}
