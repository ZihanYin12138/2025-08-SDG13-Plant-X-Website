{
 "cells": [
  {
   "cell_type": "markdown",
   "metadata": {},
   "source": [
    "## Cell 1 — 配置（范围、输出目录）"
   ]
  },
  {
   "cell_type": "code",
   "execution_count": 1,
   "metadata": {},
   "outputs": [
    {
     "name": "stdout",
     "output_type": "stream",
     "text": [
      "Key: ****b12091, 疾病ID范围: 1～100, 输出目录: E:\\05_YZH_DS\\02_Monash_DS\\2025_S2_FIT5120_Industry_Experience_Studio_Project\\06_main_project\\03_github_submission\\03_github_submission\\2025-08-SDG13-Plant-X-Website\\01_data_wrangling\\01_raw_data\\04_plant_diseases\n"
     ]
    }
   ],
   "source": [
    "# === Config (single key) ===\n",
    "\n",
    "API_KEY = \"sk-AAWv68b047ef83b2b12091\"   # ←← 替换成你的真实 key\n",
    "\n",
    "# 注意：disease_id 范围通常是 1–100（免费档）\n",
    "START_ID = 1\n",
    "END_ID   = 100\n",
    "\n",
    "# 限速与重试\n",
    "SLEEP_BETWEEN = 1\n",
    "MAX_RETRIES   = 5\n",
    "BACKOFF_BASE  = 1.6\n",
    "\n",
    "# 输出目录 & 文件名模式\n",
    "from pathlib import Path\n",
    "OUT_DIR = Path(\"01_raw_data/04_plant_diseases\")\n",
    "FILENAME_PATTERN = \"plant_disease_{disease_id}.json\"\n",
    "OUT_DIR.mkdir(parents=True, exist_ok=True)\n",
    "\n",
    "print(f\"Key: ****{API_KEY[-6:]}, 疾病ID范围: {START_ID}～{END_ID}, 输出目录: {OUT_DIR.resolve()}\")"
   ]
  },
  {
   "cell_type": "markdown",
   "metadata": {},
   "source": [
    "## Cell 2 — 工具函数"
   ]
  },
  {
   "cell_type": "code",
   "execution_count": 2,
   "metadata": {},
   "outputs": [],
   "source": [
    "import time\n",
    "import json\n",
    "import requests\n",
    "from typing import Optional, Dict, Any\n",
    "\n",
    "def save_json(path: Path, data: Dict[str, Any]):\n",
    "    path.parent.mkdir(parents=True, exist_ok=True)\n",
    "    path.write_text(json.dumps(data, ensure_ascii=False, indent=2), encoding=\"utf-8\")\n",
    "\n",
    "def build_filepath(disease_id: int) -> Path:\n",
    "    return OUT_DIR / FILENAME_PATTERN.format(disease_id=disease_id)"
   ]
  },
  {
   "cell_type": "markdown",
   "metadata": {},
   "source": [
    "## Cell 3 — 单条抓取函数（含重试、指数退避、429/5xx 处理）"
   ]
  },
  {
   "cell_type": "code",
   "execution_count": 3,
   "metadata": {},
   "outputs": [],
   "source": [
    "def fetch_plant_disease(disease_id: int, api_key: str) -> Optional[dict]:\n",
    "    \"\"\"\n",
    "    成功 -> 返回 dict\n",
    "    404   -> 返回 {\"__missing__\": True, \"id\": disease_id}\n",
    "    None  -> 触发主循环早停（例如配额/IP 限制，多次429，或 x-ratelimit-remaining=0）\n",
    "    \"\"\"\n",
    "    base_url = \"https://perenual.com/api/pest-disease-list\"\n",
    "    attempt = 0\n",
    "    consecutive_429 = 0\n",
    "\n",
    "    while attempt <= MAX_RETRIES:\n",
    "        try:\n",
    "            resp = requests.get(\n",
    "                base_url,\n",
    "                params={\"id\": disease_id, \"key\": api_key},\n",
    "                headers={\"accept\": \"application/json\"},\n",
    "                timeout=30\n",
    "            )\n",
    "\n",
    "            remaining = resp.headers.get(\"x-ratelimit-remaining\")\n",
    "            if remaining is not None:\n",
    "                try:\n",
    "                    if int(remaining) <= 0:\n",
    "                        print(f\"[ID {disease_id}] x-ratelimit-remaining=0 → 安全早停。\")\n",
    "                        return None\n",
    "                except ValueError:\n",
    "                    pass\n",
    "\n",
    "            if resp.status_code == 200:\n",
    "                return resp.json()\n",
    "\n",
    "            if resp.status_code == 404:\n",
    "                print(f\"[ID {disease_id}] 404：该 disease_id 不存在或无数据。\")\n",
    "                return {\"__missing__\": True, \"id\": disease_id}\n",
    "\n",
    "            if resp.status_code == 429:\n",
    "                consecutive_429 += 1\n",
    "                if consecutive_429 >= 3:\n",
    "                    print(f\"[ID {disease_id}] 连续 429 次，推断配额/IP 限制 → 安全早停。\")\n",
    "                    return None\n",
    "                wait = (BACKOFF_BASE ** attempt) + 0.2 * attempt\n",
    "                print(f\"[ID {disease_id}] 429 Too Many Requests，等待 {wait:.1f}s 后重试。\")\n",
    "                time.sleep(wait)\n",
    "                attempt += 1\n",
    "                continue\n",
    "\n",
    "            if resp.status_code in (500, 502, 503, 504):\n",
    "                wait = (BACKOFF_BASE ** attempt) + 0.2 * attempt\n",
    "                print(f\"[ID {disease_id}] {resp.status_code} 服务端错误，等待 {wait:.1f}s 重试。\")\n",
    "                time.sleep(wait)\n",
    "                attempt += 1\n",
    "                continue\n",
    "\n",
    "            print(f\"[ID {disease_id}] HTTP {resp.status_code}: {resp.text[:200]}\")\n",
    "            return {\"__error_status__\": resp.status_code, \"id\": disease_id}\n",
    "\n",
    "        except requests.RequestException as e:\n",
    "            wait = (BACKOFF_BASE ** attempt) + 0.2 * attempt\n",
    "            print(f\"[ID {disease_id}] 网络异常（{type(e).__name__}）：{e}，等待 {wait:.1f}s 重试。\")\n",
    "            time.sleep(wait)\n",
    "            attempt += 1\n",
    "\n",
    "    print(f\"[ID {disease_id}] 重试耗尽。\")\n",
    "    return {\"__error_retries_exhausted__\": True, \"id\": disease_id}"
   ]
  },
  {
   "cell_type": "markdown",
   "metadata": {},
   "source": [
    "## Cell 4 — 主循环（断点续跑、跳过已有文件、智能停机）"
   ]
  },
  {
   "cell_type": "code",
   "execution_count": 4,
   "metadata": {},
   "outputs": [
    {
     "name": "stderr",
     "output_type": "stream",
     "text": [
      "c:\\Users\\zyyin1\\anaconda3\\envs\\python_for_data_analysis\\lib\\site-packages\\tqdm\\auto.py:21: TqdmWarning: IProgress not found. Please update jupyter and ipywidgets. See https://ipywidgets.readthedocs.io/en/stable/user_install.html\n",
      "  from .autonotebook import tqdm as notebook_tqdm\n",
      "Downloading Plant Diseases: 100%|██████████| 100/100 [00:00<00:00, 4317.66it/s]"
     ]
    },
    {
     "name": "stdout",
     "output_type": "stream",
     "text": [
      "新增下载 0 个，跳过(已存在) 100 个。输出目录：E:\\05_YZH_DS\\02_Monash_DS\\2025_S2_FIT5120_Industry_Experience_Studio_Project\\06_main_project\\03_github_submission\\03_github_submission\\2025-08-SDG13-Plant-X-Website\\01_data_wrangling\\01_raw_data\\04_plant_diseases\n"
     ]
    },
    {
     "name": "stderr",
     "output_type": "stream",
     "text": [
      "\n"
     ]
    }
   ],
   "source": [
    "from tqdm.auto import tqdm\n",
    "import random\n",
    "\n",
    "downloaded = 0\n",
    "skipped = 0\n",
    "\n",
    "for disease_id in tqdm(range(START_ID, END_ID + 1), desc=\"Downloading Plant Diseases\"):\n",
    "    fp = build_filepath(disease_id)\n",
    "    if fp.exists():\n",
    "        skipped += 1\n",
    "        continue\n",
    "\n",
    "    data = fetch_plant_disease(disease_id, API_KEY)\n",
    "    if data is None:\n",
    "        print(\"推断配额/限流 → 安全早停。\")\n",
    "        break\n",
    "\n",
    "    save_json(fp, data)\n",
    "    downloaded += 1\n",
    "    time.sleep(SLEEP_BETWEEN + random.uniform(0.0, 0.6))\n",
    "\n",
    "print(f\"新增下载 {downloaded} 个，跳过(已存在) {skipped} 个。输出目录：{OUT_DIR.resolve()}\")"
   ]
  },
  {
   "cell_type": "code",
   "execution_count": 5,
   "metadata": {},
   "outputs": [],
   "source": [
    "# import shutil\n",
    "# from google.colab import files\n",
    "\n",
    "# shutil.make_archive(\"04_plant_diseases\", 'zip', \"01_raw_data/04_plant_diseases\")\n",
    "# files.download(\"04_plant_diseases.zip\")"
   ]
  }
 ],
 "metadata": {
  "kernelspec": {
   "display_name": "python_for_data_analysis",
   "language": "python",
   "name": "python3"
  },
  "language_info": {
   "codemirror_mode": {
    "name": "ipython",
    "version": 3
   },
   "file_extension": ".py",
   "mimetype": "text/x-python",
   "name": "python",
   "nbconvert_exporter": "python",
   "pygments_lexer": "ipython3",
   "version": "3.10.16"
  },
  "orig_nbformat": 4
 },
 "nbformat": 4,
 "nbformat_minor": 2
}
