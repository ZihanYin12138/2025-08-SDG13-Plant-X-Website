{
 "cells": [
  {
   "cell_type": "markdown",
   "metadata": {},
   "source": [
    "# 04 - Plant Diseases — Data Pull Notebook\n",
    "\n",
    "This notebook downloads plant disease JSON from Perenual’s API and saves one file per disease_id.\n",
    "It uses a single API key, polite pacing between requests, retries for temporary errors, and a safe stop when rate limits/quota are likely reached. It’s resume-friendly—existing files are skipped.\n",
    "\n",
    "Before each time running, teammates can fetch from our github reporsitory first, then go through step 1 - 4, which means simply click \"Run All\" is enough."
   ]
  },
  {
   "cell_type": "markdown",
   "metadata": {},
   "source": [
    "## Step 1 - Configuration (range, output paths)\n",
    "\n"
   ]
  },
  {
   "cell_type": "markdown",
   "metadata": {},
   "source": [
    "Set the API key, the disease_id range to fetch, basic rate-limit/retry settings, and the output folder."
   ]
  },
  {
   "cell_type": "code",
   "execution_count": 11,
   "metadata": {},
   "outputs": [
    {
     "name": "stdout",
     "output_type": "stream",
     "text": [
      "Key: ****b12091, Disease ID range: 1~100, Output dir: E:\\05_YZH_DS\\02_Monash_DS\\2025_S2_FIT5120_Industry_Experience_Studio_Project\\06_main_project\\03_github_submission\\03_github_submission\\2025-08-SDG13-Plant-X-Website\\01_data_wrangling\\01_raw_data\\04_plant_diseases\n"
     ]
    }
   ],
   "source": [
    "API_KEY = \"sk-AAWv68b047ef83b2b12091\" \n",
    "\n",
    "# We need the plant disease from id 1 to 100\n",
    "START_ID = 1\n",
    "END_ID   = 100\n",
    "\n",
    "# Rate limiting & retries\n",
    "SLEEP_BETWEEN = 1     # wait (in seconds) between requests\n",
    "MAX_RETRIES   = 5     # max retries for a single ID\n",
    "BACKOFF_BASE  = 1.6   # exponential backoff base for retry delays\n",
    "\n",
    "# Output directory & filename pattern\n",
    "from pathlib import Path\n",
    "OUT_DIR = Path(\"01_raw_data/04_plant_diseases\")\n",
    "FILENAME_PATTERN = \"plant_disease_{disease_id}.json\"\n",
    "OUT_DIR.mkdir(parents=True, exist_ok=True)\n",
    "\n",
    "print(f\"Key: ****{API_KEY[-6:]}, Disease ID range: {START_ID}~{END_ID}, Output dir: {OUT_DIR.resolve()}\")"
   ]
  },
  {
   "cell_type": "markdown",
   "metadata": {},
   "source": [
    "## Step 2 - Some Small Helper Functions\n",
    "\n"
   ]
  },
  {
   "cell_type": "markdown",
   "metadata": {},
   "source": [
    "Minimal utilities to save JSON and build output file paths."
   ]
  },
  {
   "cell_type": "code",
   "execution_count": 12,
   "metadata": {},
   "outputs": [],
   "source": [
    "import time\n",
    "import json\n",
    "import requests\n",
    "from typing import Optional, Dict, Any\n",
    "\n",
    "def save_json(path: Path, data: Dict[str, Any]):\n",
    "    # Ensure the parent folder exists, then write printed UTF-8 JSON\n",
    "    path.parent.mkdir(parents=True, exist_ok=True)\n",
    "    path.write_text(json.dumps(data, ensure_ascii=False, indent=2), encoding=\"utf-8\")\n",
    "\n",
    "def build_filepath(disease_id: int) -> Path:\n",
    "    # One JSON file per disease_id\n",
    "    return OUT_DIR / FILENAME_PATTERN.format(disease_id=disease_id)"
   ]
  },
  {
   "cell_type": "markdown",
   "metadata": {},
   "source": [
    "## Step 3 - Fetch one species (with retries & safe-stop)\n",
    "\n"
   ]
  },
  {
   "cell_type": "markdown",
   "metadata": {},
   "source": [
    "Calls the pest/disease endpoint, handles 404s with a placeholder, retries on temporary errors with exponential backoff, and stops safely when repeated 429s or zero remaining quota are detected."
   ]
  },
  {
   "cell_type": "code",
   "execution_count": 13,
   "metadata": {},
   "outputs": [],
   "source": [
    "def fetch_plant_disease(disease_id: int, api_key: str) -> Optional[dict]:\n",
    "    \"\"\"\n",
    "    Success → returns a dict\n",
    "    404     → returns {\"__missing__\": True, \"id\": disease_id} (placeholder)\n",
    "    None    → signals the main loop to stop (e.g., quota/IP limit, repeated 429, or x-ratelimit-remaining == 0)\n",
    "    \"\"\"\n",
    "    base_url = \"https://perenual.com/api/pest-disease-list\"\n",
    "    attempt = 0\n",
    "    consecutive_429 = 0\n",
    "\n",
    "    while attempt <= MAX_RETRIES:\n",
    "        try:\n",
    "            resp = requests.get(\n",
    "                base_url,\n",
    "                params={\"id\": disease_id, \"key\": api_key},\n",
    "                headers={\"accept\": \"application/json\"},\n",
    "                timeout=30\n",
    "            )\n",
    "\n",
    "            # check the remaining-quota hint if the server provides it\n",
    "            remaining = resp.headers.get(\"x-ratelimit-remaining\")\n",
    "            if remaining is not None:\n",
    "                try:\n",
    "                    if int(remaining) <= 0:\n",
    "                        print(f\"[ID {disease_id}] x-ratelimit-remaining=0 → stopping safely (quota likely reached).\")\n",
    "                        return None\n",
    "                except ValueError:\n",
    "                    pass  # ignore if not an integer\n",
    "\n",
    "            if resp.status_code == 200:\n",
    "                return resp.json()\n",
    "\n",
    "            if resp.status_code == 404:\n",
    "                print(f\"[ID {disease_id}] 404: this disease_id does not exist or has no data. Saving a placeholder.\")\n",
    "                return {\"__missing__\": True, \"id\": disease_id}\n",
    "\n",
    "            if resp.status_code == 429:\n",
    "                consecutive_429 += 1\n",
    "                if consecutive_429 >= 3:\n",
    "                    print(f\"[ID {disease_id}] 429 occurred {consecutive_429} times in a row → stopping safely (rate/IP limit).\")\n",
    "                    return None\n",
    "                wait = (BACKOFF_BASE ** attempt) + 0.2 * attempt\n",
    "                print(f\"[ID {disease_id}] 429 Too Many Requests — waiting {wait:.1f}s before retrying…\")\n",
    "                time.sleep(wait)\n",
    "                attempt += 1\n",
    "                continue\n",
    "\n",
    "            if resp.status_code in (500, 502, 503, 504):\n",
    "                wait = (BACKOFF_BASE ** attempt) + 0.2 * attempt\n",
    "                print(f\"[ID {disease_id}] {resp.status_code} server error — waiting {wait:.1f}s then retrying…\")\n",
    "                time.sleep(wait)\n",
    "                attempt += 1\n",
    "                continue\n",
    "\n",
    "            # Other unexpected statuses: log a short snippet for context\n",
    "            print(f\"[ID {disease_id}] HTTP {resp.status_code}: {resp.text[:200]}\")\n",
    "            return {\"__error_status__\": resp.status_code, \"id\": disease_id}\n",
    "\n",
    "        except requests.RequestException as e:\n",
    "            wait = (BACKOFF_BASE ** attempt) + 0.2 * attempt\n",
    "            print(f\"[ID {disease_id}] Network error ({type(e).__name__}): {e}. Waiting {wait:.1f}s then retrying…\")\n",
    "            time.sleep(wait)\n",
    "            attempt += 1\n",
    "\n",
    "    print(f\"[ID {disease_id}] Retries exhausted. Skipping this one.\")\n",
    "    return {\"__error_retries_exhausted__\": True, \"id\": disease_id}"
   ]
  },
  {
   "cell_type": "markdown",
   "metadata": {},
   "source": [
    "## Step 4 - Main loop (resume-friendly, skips existing files)\n",
    "\n"
   ]
  },
  {
   "cell_type": "markdown",
   "metadata": {},
   "source": [
    "Iterates through the ID range, skips files that already exist, adds a little random jitter between requests, and safely stops when the fetcher returns None."
   ]
  },
  {
   "cell_type": "code",
   "execution_count": 14,
   "metadata": {},
   "outputs": [
    {
     "name": "stderr",
     "output_type": "stream",
     "text": [
      "Downloading Plant Diseases: 100%|██████████| 100/100 [00:00<00:00, 6249.89it/s]"
     ]
    },
    {
     "name": "stdout",
     "output_type": "stream",
     "text": [
      "New downloads: 0, skipped (already exists): 100. Output dir: E:\\05_YZH_DS\\02_Monash_DS\\2025_S2_FIT5120_Industry_Experience_Studio_Project\\06_main_project\\03_github_submission\\03_github_submission\\2025-08-SDG13-Plant-X-Website\\01_data_wrangling\\01_raw_data\\04_plant_diseases\n"
     ]
    },
    {
     "name": "stderr",
     "output_type": "stream",
     "text": [
      "\n"
     ]
    }
   ],
   "source": [
    "from tqdm.auto import tqdm\n",
    "import random\n",
    "\n",
    "downloaded = 0\n",
    "skipped = 0\n",
    "\n",
    "for disease_id in tqdm(range(START_ID, END_ID + 1), desc=\"Downloading Plant Diseases\"):\n",
    "    fp = build_filepath(disease_id)\n",
    "    if fp.exists():\n",
    "        skipped += 1\n",
    "        continue\n",
    "\n",
    "    data = fetch_plant_disease(disease_id, API_KEY)\n",
    "    if data is None:\n",
    "        print(\"Quota/rate-limit inferred → stopping safely.\")\n",
    "        break\n",
    "\n",
    "    save_json(fp, data)\n",
    "    downloaded += 1\n",
    "    time.sleep(SLEEP_BETWEEN + random.uniform(0.0, 0.6))  # jitter helps avoid synchronized spikes\n",
    "\n",
    "print(f\"New downloads: {downloaded}, skipped (already exists): {skipped}. Output dir: {OUT_DIR.resolve()}\")"
   ]
  },
  {
   "cell_type": "markdown",
   "metadata": {},
   "source": [
    "## Step 5 (Optional) - Pack and download as a zip (for Colab)\n",
    "\n"
   ]
  },
  {
   "cell_type": "markdown",
   "metadata": {},
   "source": [
    "On Google Colab, zip the output folder and download it locally. On a local machine, the file manager is simpler."
   ]
  },
  {
   "cell_type": "code",
   "execution_count": 15,
   "metadata": {},
   "outputs": [],
   "source": [
    "# import shutil\n",
    "# from google.colab import files\n",
    "#\n",
    "# shutil.make_archive(\"04_plant_diseases\", 'zip', \"01_raw_data/04_plant_diseases\")\n",
    "# files.download(\"04_plant_diseases.zip\")"
   ]
  }
 ],
 "metadata": {
  "kernelspec": {
   "display_name": "python_for_data_analysis",
   "language": "python",
   "name": "python3"
  },
  "language_info": {
   "codemirror_mode": {
    "name": "ipython",
    "version": 3
   },
   "file_extension": ".py",
   "mimetype": "text/x-python",
   "name": "python",
   "nbconvert_exporter": "python",
   "pygments_lexer": "ipython3",
   "version": "3.10.16"
  },
  "orig_nbformat": 4
 },
 "nbformat": 4,
 "nbformat_minor": 2
}
