{
 "cells": [
  {
   "cell_type": "code",
   "execution_count": 1,
   "id": "dcc07d6a",
   "metadata": {},
   "outputs": [],
   "source": [
    "import os\n",
    "import json\n",
    "import pandas as pd\n",
    "from glob import glob\n",
    "\n",
    "# 📁 Paths\n",
    "input_dir = \"01_raw_data/01_species_details\"\n",
    "output_path = \"02_wrangled_data/02_general_description.csv\""
   ]
  },
  {
   "cell_type": "code",
   "execution_count": 2,
   "id": "3ecc7d15",
   "metadata": {},
   "outputs": [],
   "source": [
    "# Cycle label mapping\n",
    "cycle_map = {\n",
    "    \"Perennial\": \"Every year\",\n",
    "    \"Annual\": \"Once a year\",\n",
    "    \"Biennial\": \"Every 2 years\"\n",
    "}\n",
    "\n",
    "# Flatten general plant record\n",
    "def flatten_general_description(data):\n",
    "    plant_id = data.get(\"id\")\n",
    "    if plant_id > 3000:\n",
    "        return None  # Skip threatened plants\n",
    "\n",
    "    return {\n",
    "        \"general_plant_id\": plant_id,\n",
    "        \"if_edible\": data.get(\"edible_fruit\", False) or data.get(\"edible_leaf\", False) or data.get(\"cuisine\", False),\n",
    "        \"if_indoors\": data.get(\"indoor\", False),\n",
    "        \"if_medicinal\": data.get(\"medicinal\", False),\n",
    "        \"if_poisonous\": data.get(\"poisonous_to_humans\", False) or data.get(\"poisonous_to_pets\", False),\n",
    "        \"if_fruits\": data.get(\"fruits\", False),\n",
    "        \"if_flowers\": data.get(\"flowers\", False),\n",
    "        \"plant_type\": data.get(\"type\"),\n",
    "        \"plant_cycle\": cycle_map.get(data.get(\"cycle\"), data.get(\"cycle\")),\n",
    "        \"attracts\": data.get(\"attracts\", []),\n",
    "        \"propagation\": data.get(\"propagation\", []),\n",
    "        \"description\": data.get(\"description\")\n",
    "    }"
   ]
  },
  {
   "cell_type": "code",
   "execution_count": 3,
   "id": "b849ef13",
   "metadata": {},
   "outputs": [],
   "source": [
    "# Load and flatten JSON file\n",
    "json_files = glob(os.path.join(input_dir, \"plant_species_details_*.json\"))\n",
    "flattened_data = []\n",
    "\n",
    "for file in json_files:\n",
    "    with open(file, \"r\", encoding=\"utf-8\") as f:\n",
    "        data = json.load(f)\n",
    "        record = flatten_general_description(data)\n",
    "        if record:\n",
    "            flattened_data.append(record)"
   ]
  },
  {
   "cell_type": "code",
   "execution_count": 4,
   "id": "c89b37cc",
   "metadata": {},
   "outputs": [],
   "source": [
    "# Create DataFrame and sort\n",
    "df = pd.DataFrame(flattened_data)\n",
    "df = df.sort_values(by=\"general_plant_id\").reset_index(drop=True)\n",
    "\n",
    "df[\"general_plant_id\"] = pd.to_numeric(df[\"general_plant_id\"], errors=\"coerce\").astype(\"Int64\")\n",
    "\n",
    "ordered_cols = [\n",
    "    \"general_plant_id\", \"if_edible\", \"if_indoors\", \"if_medicinal\", \"if_poisonous\",\n",
    "    \"if_fruits\", \"if_flowers\", \"plant_type\", \"plant_cycle\",\n",
    "    \"attracts\", \"propagation\", \"description\"\n",
    "]\n",
    "df = df[ordered_cols]\n",
    "\n",
    "os.makedirs(os.path.dirname(output_path), exist_ok=True)\n",
    "df.to_csv(output_path, index=False)"
   ]
  },
  {
   "cell_type": "code",
   "execution_count": null,
   "id": "0c38c2d3",
   "metadata": {},
   "outputs": [],
   "source": []
  }
 ],
 "metadata": {
  "kernelspec": {
   "display_name": "base",
   "language": "python",
   "name": "python3"
  },
  "language_info": {
   "codemirror_mode": {
    "name": "ipython",
    "version": 3
   },
   "file_extension": ".py",
   "mimetype": "text/x-python",
   "name": "python",
   "nbconvert_exporter": "python",
   "pygments_lexer": "ipython3",
   "version": "3.12.2"
  }
 },
 "nbformat": 4,
 "nbformat_minor": 5
}
